{
 "cells": [
  {
   "cell_type": "code",
   "execution_count": 1,
   "id": "aa82b28b",
   "metadata": {},
   "outputs": [],
   "source": [
    "import scipy.stats"
   ]
  },
  {
   "cell_type": "markdown",
   "id": "f0dcb9c0",
   "metadata": {},
   "source": [
    "# Lab | Hypothesis Testing"
   ]
  },
  {
   "cell_type": "markdown",
   "id": "2078d066",
   "metadata": {},
   "source": [
    "Instructions\n",
    "\n",
    "It is assumed that the mean systolic blood pressure is μ = 120 mm Hg. In the Honolulu Heart Study, a sample of n = 100 people had an average systolic blood pressure of 130.1 mm Hg with a standard deviation of 21.21 mm Hg. Is the group significantly different (with respect to systolic blood pressure!) from the regular population?\n",
    "\n"
   ]
  },
  {
   "cell_type": "markdown",
   "id": "340ac486",
   "metadata": {},
   "source": [
    "1) Set up the hypothesis test.\n",
    "\n",
    "Ho: μ =120 mm Hg\n",
    "\n",
    "Ha: μ != 120 mm Hg"
   ]
  },
  {
   "cell_type": "markdown",
   "id": "265ddd2c",
   "metadata": {},
   "source": [
    "2) Write down all the steps followed for setting up the test.\n",
    "\n",
    "It is a two-tail test\n",
    "\n",
    "Fix the confidence level. = 95 %\n",
    "\n",
    "Significance level a=0.025"
   ]
  },
  {
   "cell_type": "markdown",
   "id": "c1a01bc6",
   "metadata": {},
   "source": [
    "3) Calculate the test statistic by hand and also code it in Python. It should be 4.76190. What decision can you make based on this calculated value?"
   ]
  },
  {
   "cell_type": "markdown",
   "id": "490d31f0",
   "metadata": {},
   "source": [
    "standard deviation for the sample stddev = 21.21 mm Hg\n",
    "mean systolic blood presure of the sample = 130.1 mm Hg\n",
    "mean systolic blood pressure of population μ = 120 mm Hg\n",
    "sample size of n = 100 people\n",
    "\n",
    "t = (x-μ)/ stddev/10\n",
    "\n",
    "t = (130.1-120)/ 21.21/10\n",
    "\n",
    "t = 4.7619\n"
   ]
  },
  {
   "cell_type": "code",
   "execution_count": 4,
   "id": "90ce2f09",
   "metadata": {},
   "outputs": [
    {
     "data": {
      "text/plain": [
       "-1.9842169515086827"
      ]
     },
     "execution_count": 4,
     "metadata": {},
     "output_type": "execute_result"
    }
   ],
   "source": [
    "#tc = +-scipy.stats.t.ppf(1-(0.05/2)=0.975, df=99)\n",
    "tc = +-scipy.stats.t.ppf(0.975, df=99)\n",
    "tc"
   ]
  },
  {
   "cell_type": "markdown",
   "id": "19e7e314",
   "metadata": {},
   "source": [
    "The test statistic is not in the allowed region\n",
    "\n",
    "Our t = 4.7619 > + -1.9842 =tc-> I rejected the null hypothesis"
   ]
  },
  {
   "cell_type": "code",
   "execution_count": null,
   "id": "21d33455",
   "metadata": {},
   "outputs": [],
   "source": []
  }
 ],
 "metadata": {
  "kernelspec": {
   "display_name": "Python 3 (ipykernel)",
   "language": "python",
   "name": "python3"
  },
  "language_info": {
   "codemirror_mode": {
    "name": "ipython",
    "version": 3
   },
   "file_extension": ".py",
   "mimetype": "text/x-python",
   "name": "python",
   "nbconvert_exporter": "python",
   "pygments_lexer": "ipython3",
   "version": "3.9.7"
  }
 },
 "nbformat": 4,
 "nbformat_minor": 5
}
