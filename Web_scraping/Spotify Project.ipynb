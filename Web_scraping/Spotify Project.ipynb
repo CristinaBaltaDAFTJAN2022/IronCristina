{
 "cells": [
  {
   "cell_type": "code",
   "execution_count": 1,
   "id": "8b451e8e",
   "metadata": {},
   "outputs": [],
   "source": [
    "import numpy as np\n",
    "import pandas as pd\n",
    "import pickle\n",
    "from sklearn import datasets # sklearn comes with some toy datasets to practise\n",
    "from sklearn.preprocessing import StandardScaler\n",
    "from sklearn.cluster import KMeans\n",
    "from matplotlib import pyplot\n",
    "from sklearn.metrics import silhouette_score\n",
    "import config\n",
    "import spotipy\n",
    "import json\n",
    "from spotipy.oauth2 import SpotifyClientCredentials\n",
    "from IPython.display import IFrame"
   ]
  },
  {
   "cell_type": "code",
   "execution_count": 2,
   "id": "a94ab576",
   "metadata": {},
   "outputs": [],
   "source": [
    "sp = spotipy.Spotify(auth_manager=SpotifyClientCredentials(client_id=config.client_id, client_secret=config.client_secret))\n"
   ]
  },
  {
   "cell_type": "code",
   "execution_count": 3,
   "id": "405e47ce",
   "metadata": {},
   "outputs": [],
   "source": [
    "def load(filename = \"filename.pickle\"): \n",
    "    try: \n",
    "        with open(filename, \"rb\") as f: \n",
    "            return pickle.load(f) \n",
    "        \n",
    "    except FileNotFoundError: \n",
    "        print(\"File not found!\") "
   ]
  },
  {
   "cell_type": "code",
   "execution_count": 4,
   "id": "c62b97a4",
   "metadata": {},
   "outputs": [],
   "source": [
    "# Function for song recommendations.\n",
    "\n",
    "def song_recommender():\n",
    "    \n",
    "    song_input = input(\"Please enter a name of a song: \").title()\n",
    "\n",
    "    if song_input in hot_songs.values:\n",
    "        print()\n",
    "        print(\"Your song is in the hot songs list!\")\n",
    "        print(\"Here is another hot song you could listen: \")\n",
    "        print()\n",
    "        print(hot_songs.sample())\n",
    "    \n",
    "    else:\n",
    "        input_song = sp.search(q = song_input, limit = 1, market = \"GB\")\n",
    "        \n",
    "        song_id = input_song[\"tracks\"][\"items\"][0][\"id\"]\n",
    "        \n",
    "        input_song_features = sp.audio_features(input_song[\"tracks\"][\"items\"][0][\"id\"] )\n",
    "    \n",
    "        input_song_features = pd.DataFrame(input_song_features)\n",
    "        input_song_features_num = input_song_features._get_numeric_data()\n",
    "\n",
    "        input_song_features_num = input_song_features_num.drop(columns = [\"key\", \"mode\", \"time_signature\"])\n",
    "\n",
    "        model = load(\"scaler.pickle\")\n",
    "        model_kmeans = load(\"kmeans_9.pickle\")\n",
    "\n",
    "        input_song_scaled = model.transform(input_song_features_num)\n",
    "\n",
    "        input_song_scaled = pd.DataFrame(input_song_scaled, columns = [\"danceability\", \"energy\", \"loudness\", \"speechiness\", \"acousticness\", \"instrumentalness\", \"liveness\",\n",
    "                          \"valence\", \"tempo\", \"duration_ms\"])\n",
    "\n",
    "        input_song_cluster = model_kmeans.predict(input_song_scaled)\n",
    "\n",
    "        match_song = all_spotify[all_spotify[\"cluster\"] == int(input_song_cluster)]\n",
    "\n",
    "        song_suggestion = match_song.sample()\n",
    "\n",
    "        suggestion = song_suggestion[\"id\"].iloc[0]\n",
    "        \n",
    "        print()\n",
    "        print(\"Here is another song you can listen! Check that out!\")\n",
    "        print()\n",
    "        print(IFrame(src=\"https://open.spotify.com/embed/track/\" + song_id,\n",
    "                   width=\"320\",\n",
    "                   height=\"80\",\n",
    "                   frameborder=\"0\",\n",
    "                   allowtransparency=\"true\",\n",
    "                   allow=\"encrypted-media\",\n",
    "                  ))\n",
    "\n",
    "        return IFrame(src=\"https://open.spotify.com/embed/track/\" + suggestion,\n",
    "                    width=\"320\",\n",
    "                    height=\"80\",\n",
    "                    frameborder=\"0\",\n",
    "                    allowtransparency=\"true\",\n",
    "                    allow=\"encrypted-media\",\n",
    "                    )"
   ]
  },
  {
   "cell_type": "code",
   "execution_count": 5,
   "id": "c0f92c87",
   "metadata": {},
   "outputs": [],
   "source": [
    "# Data needed for the functions.\n",
    "\n",
    "#hot_songs = pd.read_csv('hot_songs.csv')\n",
    "#spotify_songs = pd.read_csv('spotify_songs.csv')\n",
    "#spotify_songs.drop(columns = [\"Unnamed: 0\"], inplace = True)"
   ]
  },
  {
   "cell_type": "code",
   "execution_count": 6,
   "id": "79c93337",
   "metadata": {},
   "outputs": [],
   "source": [
    "# load data\n",
    "cluster_id=pd.read_csv('cluster_id.csv')"
   ]
  },
  {
   "cell_type": "code",
   "execution_count": 7,
   "id": "723f5a23",
   "metadata": {},
   "outputs": [],
   "source": [
    "all_spotify = pd.read_csv('all_spotify.csv')\n",
    "#all_spotify.drop(columns =[\"index\", \"Unnamed: 0\", \"Unnamed: 0.1\"], inplace=True)"
   ]
  },
  {
   "cell_type": "code",
   "execution_count": 8,
   "id": "e6109741",
   "metadata": {},
   "outputs": [],
   "source": [
    "# Loading the dataset with hot songs\n",
    "hot_songs = pd.read_csv('music_list.csv')\n",
    "hot_songs.drop(columns =[\"Unnamed: 0\"], inplace=True)"
   ]
  },
  {
   "cell_type": "code",
   "execution_count": 9,
   "id": "e793e46a",
   "metadata": {},
   "outputs": [
    {
     "data": {
      "text/html": [
       "<div>\n",
       "<style scoped>\n",
       "    .dataframe tbody tr th:only-of-type {\n",
       "        vertical-align: middle;\n",
       "    }\n",
       "\n",
       "    .dataframe tbody tr th {\n",
       "        vertical-align: top;\n",
       "    }\n",
       "\n",
       "    .dataframe thead th {\n",
       "        text-align: right;\n",
       "    }\n",
       "</style>\n",
       "<table border=\"1\" class=\"dataframe\">\n",
       "  <thead>\n",
       "    <tr style=\"text-align: right;\">\n",
       "      <th></th>\n",
       "      <th>title</th>\n",
       "      <th>artist_name</th>\n",
       "    </tr>\n",
       "  </thead>\n",
       "  <tbody>\n",
       "    <tr>\n",
       "      <th>0</th>\n",
       "      <td>We Don't Talk About Bruno</td>\n",
       "      <td>Carolina Gaitan, Mauro Castillo, Adassa, Rhenz...</td>\n",
       "    </tr>\n",
       "    <tr>\n",
       "      <th>1</th>\n",
       "      <td>Do We Have A Problem?</td>\n",
       "      <td>Nicki Minaj X Lil Baby</td>\n",
       "    </tr>\n",
       "    <tr>\n",
       "      <th>2</th>\n",
       "      <td>Easy On Me</td>\n",
       "      <td>Adele</td>\n",
       "    </tr>\n",
       "    <tr>\n",
       "      <th>3</th>\n",
       "      <td>Heat Waves</td>\n",
       "      <td>Glass Animals</td>\n",
       "    </tr>\n",
       "    <tr>\n",
       "      <th>4</th>\n",
       "      <td>Stay</td>\n",
       "      <td>The Kid LAROI &amp; Justin Bieber</td>\n",
       "    </tr>\n",
       "    <tr>\n",
       "      <th>...</th>\n",
       "      <td>...</td>\n",
       "      <td>...</td>\n",
       "    </tr>\n",
       "    <tr>\n",
       "      <th>95</th>\n",
       "      <td>Iffy</td>\n",
       "      <td>Chris Brown</td>\n",
       "    </tr>\n",
       "    <tr>\n",
       "      <th>96</th>\n",
       "      <td>When I'm Gone</td>\n",
       "      <td>Alesso / Katy Perry</td>\n",
       "    </tr>\n",
       "    <tr>\n",
       "      <th>97</th>\n",
       "      <td>Fair Trade</td>\n",
       "      <td>Drake Featuring Travis Scott</td>\n",
       "    </tr>\n",
       "    <tr>\n",
       "      <th>98</th>\n",
       "      <td>Megan's Piano</td>\n",
       "      <td>Megan Thee Stallion</td>\n",
       "    </tr>\n",
       "    <tr>\n",
       "      <th>99</th>\n",
       "      <td>Moth To A Flame</td>\n",
       "      <td>Swedish House Mafia &amp; The Weeknd</td>\n",
       "    </tr>\n",
       "  </tbody>\n",
       "</table>\n",
       "<p>100 rows × 2 columns</p>\n",
       "</div>"
      ],
      "text/plain": [
       "                        title  \\\n",
       "0   We Don't Talk About Bruno   \n",
       "1       Do We Have A Problem?   \n",
       "2                  Easy On Me   \n",
       "3                  Heat Waves   \n",
       "4                        Stay   \n",
       "..                        ...   \n",
       "95                       Iffy   \n",
       "96              When I'm Gone   \n",
       "97                 Fair Trade   \n",
       "98              Megan's Piano   \n",
       "99            Moth To A Flame   \n",
       "\n",
       "                                          artist_name  \n",
       "0   Carolina Gaitan, Mauro Castillo, Adassa, Rhenz...  \n",
       "1                              Nicki Minaj X Lil Baby  \n",
       "2                                               Adele  \n",
       "3                                       Glass Animals  \n",
       "4                       The Kid LAROI & Justin Bieber  \n",
       "..                                                ...  \n",
       "95                                        Chris Brown  \n",
       "96                                Alesso / Katy Perry  \n",
       "97                       Drake Featuring Travis Scott  \n",
       "98                                Megan Thee Stallion  \n",
       "99                   Swedish House Mafia & The Weeknd  \n",
       "\n",
       "[100 rows x 2 columns]"
      ]
     },
     "execution_count": 9,
     "metadata": {},
     "output_type": "execute_result"
    }
   ],
   "source": [
    "hot_songs"
   ]
  },
  {
   "cell_type": "code",
   "execution_count": 10,
   "id": "5dfe9f52",
   "metadata": {},
   "outputs": [
    {
     "data": {
      "text/html": [
       "<div>\n",
       "<style scoped>\n",
       "    .dataframe tbody tr th:only-of-type {\n",
       "        vertical-align: middle;\n",
       "    }\n",
       "\n",
       "    .dataframe tbody tr th {\n",
       "        vertical-align: top;\n",
       "    }\n",
       "\n",
       "    .dataframe thead th {\n",
       "        text-align: right;\n",
       "    }\n",
       "</style>\n",
       "<table border=\"1\" class=\"dataframe\">\n",
       "  <thead>\n",
       "    <tr style=\"text-align: right;\">\n",
       "      <th></th>\n",
       "      <th>Unnamed: 0</th>\n",
       "      <th>danceability</th>\n",
       "      <th>energy</th>\n",
       "      <th>key</th>\n",
       "      <th>loudness</th>\n",
       "      <th>mode</th>\n",
       "      <th>speechiness</th>\n",
       "      <th>acousticness</th>\n",
       "      <th>instrumentalness</th>\n",
       "      <th>liveness</th>\n",
       "      <th>...</th>\n",
       "      <th>energy.1</th>\n",
       "      <th>loudness.1</th>\n",
       "      <th>speechiness.1</th>\n",
       "      <th>acousticness.1</th>\n",
       "      <th>instrumentalness.1</th>\n",
       "      <th>liveness.1</th>\n",
       "      <th>valence.1</th>\n",
       "      <th>tempo.1</th>\n",
       "      <th>duration_ms.1</th>\n",
       "      <th>cluster</th>\n",
       "    </tr>\n",
       "  </thead>\n",
       "  <tbody>\n",
       "    <tr>\n",
       "      <th>0</th>\n",
       "      <td>0</td>\n",
       "      <td>0.522</td>\n",
       "      <td>0.817</td>\n",
       "      <td>0</td>\n",
       "      <td>-6.170</td>\n",
       "      <td>1</td>\n",
       "      <td>0.0512</td>\n",
       "      <td>0.32900</td>\n",
       "      <td>0.000002</td>\n",
       "      <td>0.0807</td>\n",
       "      <td>...</td>\n",
       "      <td>0.910733</td>\n",
       "      <td>0.401315</td>\n",
       "      <td>-0.448736</td>\n",
       "      <td>0.225551</td>\n",
       "      <td>-0.379572</td>\n",
       "      <td>-0.675984</td>\n",
       "      <td>0.177313</td>\n",
       "      <td>1.108334</td>\n",
       "      <td>-0.149095</td>\n",
       "      <td>3</td>\n",
       "    </tr>\n",
       "    <tr>\n",
       "      <th>1</th>\n",
       "      <td>1</td>\n",
       "      <td>0.533</td>\n",
       "      <td>0.776</td>\n",
       "      <td>8</td>\n",
       "      <td>-7.092</td>\n",
       "      <td>1</td>\n",
       "      <td>0.0847</td>\n",
       "      <td>0.15100</td>\n",
       "      <td>0.000087</td>\n",
       "      <td>0.1300</td>\n",
       "      <td>...</td>\n",
       "      <td>0.722733</td>\n",
       "      <td>0.207375</td>\n",
       "      <td>-0.113355</td>\n",
       "      <td>-0.392381</td>\n",
       "      <td>-0.379230</td>\n",
       "      <td>-0.315229</td>\n",
       "      <td>0.755771</td>\n",
       "      <td>-1.090022</td>\n",
       "      <td>-0.016738</td>\n",
       "      <td>4</td>\n",
       "    </tr>\n",
       "    <tr>\n",
       "      <th>2</th>\n",
       "      <td>2</td>\n",
       "      <td>0.692</td>\n",
       "      <td>0.651</td>\n",
       "      <td>9</td>\n",
       "      <td>-8.267</td>\n",
       "      <td>1</td>\n",
       "      <td>0.0324</td>\n",
       "      <td>0.29200</td>\n",
       "      <td>0.002410</td>\n",
       "      <td>0.1050</td>\n",
       "      <td>...</td>\n",
       "      <td>0.149560</td>\n",
       "      <td>-0.039784</td>\n",
       "      <td>-0.636950</td>\n",
       "      <td>0.097104</td>\n",
       "      <td>-0.369870</td>\n",
       "      <td>-0.498168</td>\n",
       "      <td>0.794335</td>\n",
       "      <td>-0.806895</td>\n",
       "      <td>0.546104</td>\n",
       "      <td>4</td>\n",
       "    </tr>\n",
       "    <tr>\n",
       "      <th>3</th>\n",
       "      <td>3</td>\n",
       "      <td>0.873</td>\n",
       "      <td>0.651</td>\n",
       "      <td>1</td>\n",
       "      <td>-4.179</td>\n",
       "      <td>1</td>\n",
       "      <td>0.0374</td>\n",
       "      <td>0.02510</td>\n",
       "      <td>0.000107</td>\n",
       "      <td>0.2130</td>\n",
       "      <td>...</td>\n",
       "      <td>0.149560</td>\n",
       "      <td>0.820118</td>\n",
       "      <td>-0.586893</td>\n",
       "      <td>-0.829447</td>\n",
       "      <td>-0.379147</td>\n",
       "      <td>0.292126</td>\n",
       "      <td>1.317091</td>\n",
       "      <td>-0.191845</td>\n",
       "      <td>-0.517180</td>\n",
       "      <td>4</td>\n",
       "    </tr>\n",
       "    <tr>\n",
       "      <th>4</th>\n",
       "      <td>4</td>\n",
       "      <td>0.682</td>\n",
       "      <td>0.605</td>\n",
       "      <td>8</td>\n",
       "      <td>-10.771</td>\n",
       "      <td>1</td>\n",
       "      <td>0.0403</td>\n",
       "      <td>0.18500</td>\n",
       "      <td>0.003260</td>\n",
       "      <td>0.0469</td>\n",
       "      <td>...</td>\n",
       "      <td>-0.061367</td>\n",
       "      <td>-0.566494</td>\n",
       "      <td>-0.557860</td>\n",
       "      <td>-0.274349</td>\n",
       "      <td>-0.366446</td>\n",
       "      <td>-0.923317</td>\n",
       "      <td>1.685590</td>\n",
       "      <td>0.202775</td>\n",
       "      <td>-0.613792</td>\n",
       "      <td>4</td>\n",
       "    </tr>\n",
       "    <tr>\n",
       "      <th>...</th>\n",
       "      <td>...</td>\n",
       "      <td>...</td>\n",
       "      <td>...</td>\n",
       "      <td>...</td>\n",
       "      <td>...</td>\n",
       "      <td>...</td>\n",
       "      <td>...</td>\n",
       "      <td>...</td>\n",
       "      <td>...</td>\n",
       "      <td>...</td>\n",
       "      <td>...</td>\n",
       "      <td>...</td>\n",
       "      <td>...</td>\n",
       "      <td>...</td>\n",
       "      <td>...</td>\n",
       "      <td>...</td>\n",
       "      <td>...</td>\n",
       "      <td>...</td>\n",
       "      <td>...</td>\n",
       "      <td>...</td>\n",
       "      <td>...</td>\n",
       "    </tr>\n",
       "    <tr>\n",
       "      <th>9861</th>\n",
       "      <td>9861</td>\n",
       "      <td>0.585</td>\n",
       "      <td>0.776</td>\n",
       "      <td>5</td>\n",
       "      <td>-5.898</td>\n",
       "      <td>1</td>\n",
       "      <td>0.0459</td>\n",
       "      <td>0.05720</td>\n",
       "      <td>0.000008</td>\n",
       "      <td>0.3000</td>\n",
       "      <td>...</td>\n",
       "      <td>0.722733</td>\n",
       "      <td>0.458530</td>\n",
       "      <td>-0.501796</td>\n",
       "      <td>-0.718011</td>\n",
       "      <td>-0.379547</td>\n",
       "      <td>0.928752</td>\n",
       "      <td>-0.401146</td>\n",
       "      <td>-1.524831</td>\n",
       "      <td>0.405954</td>\n",
       "      <td>0</td>\n",
       "    </tr>\n",
       "    <tr>\n",
       "      <th>9862</th>\n",
       "      <td>9862</td>\n",
       "      <td>0.377</td>\n",
       "      <td>0.681</td>\n",
       "      <td>7</td>\n",
       "      <td>-8.039</td>\n",
       "      <td>1</td>\n",
       "      <td>0.0298</td>\n",
       "      <td>0.00088</td>\n",
       "      <td>0.002300</td>\n",
       "      <td>0.0504</td>\n",
       "      <td>...</td>\n",
       "      <td>0.287122</td>\n",
       "      <td>0.008175</td>\n",
       "      <td>-0.662980</td>\n",
       "      <td>-0.913527</td>\n",
       "      <td>-0.370313</td>\n",
       "      <td>-0.897706</td>\n",
       "      <td>-1.009599</td>\n",
       "      <td>-0.415588</td>\n",
       "      <td>0.972323</td>\n",
       "      <td>0</td>\n",
       "    </tr>\n",
       "    <tr>\n",
       "      <th>9863</th>\n",
       "      <td>9863</td>\n",
       "      <td>0.601</td>\n",
       "      <td>0.794</td>\n",
       "      <td>7</td>\n",
       "      <td>-5.844</td>\n",
       "      <td>0</td>\n",
       "      <td>0.0671</td>\n",
       "      <td>0.00987</td>\n",
       "      <td>0.000001</td>\n",
       "      <td>0.4180</td>\n",
       "      <td>...</td>\n",
       "      <td>0.805270</td>\n",
       "      <td>0.469889</td>\n",
       "      <td>-0.289555</td>\n",
       "      <td>-0.882318</td>\n",
       "      <td>-0.379572</td>\n",
       "      <td>1.792222</td>\n",
       "      <td>-1.185279</td>\n",
       "      <td>-0.225553</td>\n",
       "      <td>0.023858</td>\n",
       "      <td>5</td>\n",
       "    </tr>\n",
       "    <tr>\n",
       "      <th>9864</th>\n",
       "      <td>9864</td>\n",
       "      <td>0.588</td>\n",
       "      <td>0.670</td>\n",
       "      <td>0</td>\n",
       "      <td>-6.439</td>\n",
       "      <td>1</td>\n",
       "      <td>0.0473</td>\n",
       "      <td>0.01040</td>\n",
       "      <td>0.000003</td>\n",
       "      <td>0.3380</td>\n",
       "      <td>...</td>\n",
       "      <td>0.236683</td>\n",
       "      <td>0.344732</td>\n",
       "      <td>-0.487780</td>\n",
       "      <td>-0.880478</td>\n",
       "      <td>-0.379565</td>\n",
       "      <td>1.206819</td>\n",
       "      <td>-0.066926</td>\n",
       "      <td>-0.078155</td>\n",
       "      <td>0.317652</td>\n",
       "      <td>0</td>\n",
       "    </tr>\n",
       "    <tr>\n",
       "      <th>9865</th>\n",
       "      <td>9865</td>\n",
       "      <td>0.780</td>\n",
       "      <td>0.768</td>\n",
       "      <td>6</td>\n",
       "      <td>-4.325</td>\n",
       "      <td>0</td>\n",
       "      <td>0.2380</td>\n",
       "      <td>0.03710</td>\n",
       "      <td>0.000002</td>\n",
       "      <td>0.5180</td>\n",
       "      <td>...</td>\n",
       "      <td>0.686050</td>\n",
       "      <td>0.789407</td>\n",
       "      <td>1.421391</td>\n",
       "      <td>-0.787788</td>\n",
       "      <td>-0.379569</td>\n",
       "      <td>2.523976</td>\n",
       "      <td>-0.058356</td>\n",
       "      <td>-1.450070</td>\n",
       "      <td>2.630945</td>\n",
       "      <td>5</td>\n",
       "    </tr>\n",
       "  </tbody>\n",
       "</table>\n",
       "<p>9866 rows × 32 columns</p>\n",
       "</div>"
      ],
      "text/plain": [
       "      Unnamed: 0  danceability  energy  key  loudness  mode  speechiness  \\\n",
       "0              0         0.522   0.817    0    -6.170     1       0.0512   \n",
       "1              1         0.533   0.776    8    -7.092     1       0.0847   \n",
       "2              2         0.692   0.651    9    -8.267     1       0.0324   \n",
       "3              3         0.873   0.651    1    -4.179     1       0.0374   \n",
       "4              4         0.682   0.605    8   -10.771     1       0.0403   \n",
       "...          ...           ...     ...  ...       ...   ...          ...   \n",
       "9861        9861         0.585   0.776    5    -5.898     1       0.0459   \n",
       "9862        9862         0.377   0.681    7    -8.039     1       0.0298   \n",
       "9863        9863         0.601   0.794    7    -5.844     0       0.0671   \n",
       "9864        9864         0.588   0.670    0    -6.439     1       0.0473   \n",
       "9865        9865         0.780   0.768    6    -4.325     0       0.2380   \n",
       "\n",
       "      acousticness  instrumentalness  liveness  ...  energy.1  loudness.1  \\\n",
       "0          0.32900          0.000002    0.0807  ...  0.910733    0.401315   \n",
       "1          0.15100          0.000087    0.1300  ...  0.722733    0.207375   \n",
       "2          0.29200          0.002410    0.1050  ...  0.149560   -0.039784   \n",
       "3          0.02510          0.000107    0.2130  ...  0.149560    0.820118   \n",
       "4          0.18500          0.003260    0.0469  ... -0.061367   -0.566494   \n",
       "...            ...               ...       ...  ...       ...         ...   \n",
       "9861       0.05720          0.000008    0.3000  ...  0.722733    0.458530   \n",
       "9862       0.00088          0.002300    0.0504  ...  0.287122    0.008175   \n",
       "9863       0.00987          0.000001    0.4180  ...  0.805270    0.469889   \n",
       "9864       0.01040          0.000003    0.3380  ...  0.236683    0.344732   \n",
       "9865       0.03710          0.000002    0.5180  ...  0.686050    0.789407   \n",
       "\n",
       "     speechiness.1 acousticness.1 instrumentalness.1 liveness.1 valence.1  \\\n",
       "0        -0.448736       0.225551          -0.379572  -0.675984  0.177313   \n",
       "1        -0.113355      -0.392381          -0.379230  -0.315229  0.755771   \n",
       "2        -0.636950       0.097104          -0.369870  -0.498168  0.794335   \n",
       "3        -0.586893      -0.829447          -0.379147   0.292126  1.317091   \n",
       "4        -0.557860      -0.274349          -0.366446  -0.923317  1.685590   \n",
       "...            ...            ...                ...        ...       ...   \n",
       "9861     -0.501796      -0.718011          -0.379547   0.928752 -0.401146   \n",
       "9862     -0.662980      -0.913527          -0.370313  -0.897706 -1.009599   \n",
       "9863     -0.289555      -0.882318          -0.379572   1.792222 -1.185279   \n",
       "9864     -0.487780      -0.880478          -0.379565   1.206819 -0.066926   \n",
       "9865      1.421391      -0.787788          -0.379569   2.523976 -0.058356   \n",
       "\n",
       "       tempo.1  duration_ms.1 cluster  \n",
       "0     1.108334      -0.149095       3  \n",
       "1    -1.090022      -0.016738       4  \n",
       "2    -0.806895       0.546104       4  \n",
       "3    -0.191845      -0.517180       4  \n",
       "4     0.202775      -0.613792       4  \n",
       "...        ...            ...     ...  \n",
       "9861 -1.524831       0.405954       0  \n",
       "9862 -0.415588       0.972323       0  \n",
       "9863 -0.225553       0.023858       5  \n",
       "9864 -0.078155       0.317652       0  \n",
       "9865 -1.450070       2.630945       5  \n",
       "\n",
       "[9866 rows x 32 columns]"
      ]
     },
     "execution_count": 10,
     "metadata": {},
     "output_type": "execute_result"
    }
   ],
   "source": [
    "all_spotify "
   ]
  },
  {
   "cell_type": "code",
   "execution_count": 11,
   "id": "e0168800",
   "metadata": {},
   "outputs": [
    {
     "name": "stdout",
     "output_type": "stream",
     "text": [
      "Please enter a name of a song: La vita e bella\n",
      "\n",
      "Here is another song you can listen! Check that out!\n",
      "\n",
      "<IPython.lib.display.IFrame object at 0x7fabaa3f3d60>\n"
     ]
    },
    {
     "data": {
      "text/html": [
       "\n",
       "        <iframe\n",
       "            width=\"320\"\n",
       "            height=\"80\"\n",
       "            src=\"https://open.spotify.com/embed/track/1GbyYL0B0Mjn3kSbrEwKKI?frameborder=0&allowtransparency=true&allow=encrypted-media\"\n",
       "            frameborder=\"0\"\n",
       "            allowfullscreen\n",
       "            \n",
       "        ></iframe>\n",
       "        "
      ],
      "text/plain": [
       "<IPython.lib.display.IFrame at 0x7fabaa3f3d60>"
      ]
     },
     "execution_count": 11,
     "metadata": {},
     "output_type": "execute_result"
    }
   ],
   "source": [
    "# Testing the function.\n",
    "\n",
    "song_recommender()"
   ]
  },
  {
   "cell_type": "markdown",
   "id": "624bc2d1",
   "metadata": {},
   "source": [
    "## Here is all the code I used for building the function."
   ]
  },
  {
   "cell_type": "code",
   "execution_count": 12,
   "id": "0b0a6945",
   "metadata": {},
   "outputs": [
    {
     "name": "stdout",
     "output_type": "stream",
     "text": [
      "Please enter a name of a song: by by\n"
     ]
    }
   ],
   "source": [
    "# User input and checking if the song is in the hot list.\n",
    "\n",
    "song_input=input(\"Please enter a name of a song: \").title()\n",
    "\n",
    "if song_input in hot_songs.values:\n",
    "    print()\n",
    "    print(\"Your song is in the hot songs list!\")\n",
    "    print(\"Here is one song recommmendation to listen: \")\n",
    "    print()\n",
    "    print(hot_songs.sample())"
   ]
  },
  {
   "cell_type": "markdown",
   "id": "7b7db0dd",
   "metadata": {},
   "source": [
    "## Get the futures of the input song"
   ]
  },
  {
   "cell_type": "code",
   "execution_count": 13,
   "id": "e2e806ca",
   "metadata": {},
   "outputs": [],
   "source": [
    "input_song=sp.search(q=song_input, limit=1, market=\"GB\")"
   ]
  },
  {
   "cell_type": "code",
   "execution_count": 14,
   "id": "7dd5bbc9",
   "metadata": {},
   "outputs": [
    {
     "data": {
      "text/plain": [
       "{'tracks': {'href': 'https://api.spotify.com/v1/search?query=By+By&type=track&market=GB&offset=0&limit=1',\n",
       "  'items': [{'album': {'album_type': 'album',\n",
       "     'artists': [{'external_urls': {'spotify': 'https://open.spotify.com/artist/7hJcb9fa4alzcOq3EaNPoG'},\n",
       "       'href': 'https://api.spotify.com/v1/artists/7hJcb9fa4alzcOq3EaNPoG',\n",
       "       'id': '7hJcb9fa4alzcOq3EaNPoG',\n",
       "       'name': 'Snoop Dogg',\n",
       "       'type': 'artist',\n",
       "       'uri': 'spotify:artist:7hJcb9fa4alzcOq3EaNPoG'}],\n",
       "     'external_urls': {'spotify': 'https://open.spotify.com/album/61qj9MgqlVi0xzi55mHZiX'},\n",
       "     'href': 'https://api.spotify.com/v1/albums/61qj9MgqlVi0xzi55mHZiX',\n",
       "     'id': '61qj9MgqlVi0xzi55mHZiX',\n",
       "     'images': [{'height': 640,\n",
       "       'url': 'https://i.scdn.co/image/ab67616d0000b2739a23b150cea8488e1ea31b53',\n",
       "       'width': 640},\n",
       "      {'height': 300,\n",
       "       'url': 'https://i.scdn.co/image/ab67616d00001e029a23b150cea8488e1ea31b53',\n",
       "       'width': 300},\n",
       "      {'height': 64,\n",
       "       'url': 'https://i.scdn.co/image/ab67616d000048519a23b150cea8488e1ea31b53',\n",
       "       'width': 64}],\n",
       "     'name': 'Snoop Dogg Presents Algorithm',\n",
       "     'release_date': '2021-11-19',\n",
       "     'release_date_precision': 'day',\n",
       "     'total_tracks': 25,\n",
       "     'type': 'album',\n",
       "     'uri': 'spotify:album:61qj9MgqlVi0xzi55mHZiX'},\n",
       "    'artists': [{'external_urls': {'spotify': 'https://open.spotify.com/artist/2wgW0CiQRwbWlkT6nM8suD'},\n",
       "      'href': 'https://api.spotify.com/v1/artists/2wgW0CiQRwbWlkT6nM8suD',\n",
       "      'id': '2wgW0CiQRwbWlkT6nM8suD',\n",
       "      'name': 'JANE HANDCOCK',\n",
       "      'type': 'artist',\n",
       "      'uri': 'spotify:artist:2wgW0CiQRwbWlkT6nM8suD'}],\n",
       "    'disc_number': 1,\n",
       "    'duration_ms': 164649,\n",
       "    'explicit': True,\n",
       "    'external_ids': {'isrc': 'USUM72121195'},\n",
       "    'external_urls': {'spotify': 'https://open.spotify.com/track/2r3VvWz6pQT7lx5lxpKoxY'},\n",
       "    'href': 'https://api.spotify.com/v1/tracks/2r3VvWz6pQT7lx5lxpKoxY',\n",
       "    'id': '2r3VvWz6pQT7lx5lxpKoxY',\n",
       "    'is_local': False,\n",
       "    'is_playable': True,\n",
       "    'name': 'By & By',\n",
       "    'popularity': 38,\n",
       "    'preview_url': None,\n",
       "    'track_number': 18,\n",
       "    'type': 'track',\n",
       "    'uri': 'spotify:track:2r3VvWz6pQT7lx5lxpKoxY'}],\n",
       "  'limit': 1,\n",
       "  'next': 'https://api.spotify.com/v1/search?query=By+By&type=track&market=GB&offset=1&limit=1',\n",
       "  'offset': 0,\n",
       "  'previous': None,\n",
       "  'total': 10008}}"
      ]
     },
     "execution_count": 14,
     "metadata": {},
     "output_type": "execute_result"
    }
   ],
   "source": [
    "input_song"
   ]
  },
  {
   "cell_type": "code",
   "execution_count": 15,
   "id": "81db194b",
   "metadata": {},
   "outputs": [],
   "source": [
    "# Figuring out how to get song id-s.\n",
    "\n",
    "song_id = input_song[\"tracks\"][\"items\"][0][\"id\"]"
   ]
  },
  {
   "cell_type": "code",
   "execution_count": 16,
   "id": "4bef9df5",
   "metadata": {},
   "outputs": [],
   "source": [
    "# Getting audio features of input song.\n",
    "\n",
    "input_song_features = sp.audio_features(input_song[\"tracks\"][\"items\"][0][\"id\"] )"
   ]
  },
  {
   "cell_type": "code",
   "execution_count": 17,
   "id": "2c71792a",
   "metadata": {},
   "outputs": [
    {
     "data": {
      "text/plain": [
       "[{'danceability': 0.587,\n",
       "  'energy': 0.838,\n",
       "  'key': 5,\n",
       "  'loudness': -2.505,\n",
       "  'mode': 1,\n",
       "  'speechiness': 0.281,\n",
       "  'acousticness': 0.125,\n",
       "  'instrumentalness': 0,\n",
       "  'liveness': 0.213,\n",
       "  'valence': 0.457,\n",
       "  'tempo': 75.681,\n",
       "  'type': 'audio_features',\n",
       "  'id': '2r3VvWz6pQT7lx5lxpKoxY',\n",
       "  'uri': 'spotify:track:2r3VvWz6pQT7lx5lxpKoxY',\n",
       "  'track_href': 'https://api.spotify.com/v1/tracks/2r3VvWz6pQT7lx5lxpKoxY',\n",
       "  'analysis_url': 'https://api.spotify.com/v1/audio-analysis/2r3VvWz6pQT7lx5lxpKoxY',\n",
       "  'duration_ms': 164650,\n",
       "  'time_signature': 4}]"
      ]
     },
     "execution_count": 17,
     "metadata": {},
     "output_type": "execute_result"
    }
   ],
   "source": [
    "input_song_features"
   ]
  },
  {
   "cell_type": "code",
   "execution_count": 18,
   "id": "b91f855b",
   "metadata": {},
   "outputs": [],
   "source": [
    "# Getting only numerical data and putting it into a dataframe.\n",
    "\n",
    "input_song_features = pd.DataFrame(input_song_features)\n",
    "input_song_features_num = input_song_features._get_numeric_data()\n"
   ]
  },
  {
   "cell_type": "code",
   "execution_count": 19,
   "id": "1e029a47",
   "metadata": {},
   "outputs": [],
   "source": [
    "# Dropping unnecessary columns.\n",
    "\n",
    "input_song_features_num = input_song_features_num.drop(columns = [\"key\", \"mode\", \"time_signature\"])"
   ]
  },
  {
   "cell_type": "code",
   "execution_count": 20,
   "id": "eb7d056e",
   "metadata": {},
   "outputs": [
    {
     "data": {
      "text/html": [
       "<div>\n",
       "<style scoped>\n",
       "    .dataframe tbody tr th:only-of-type {\n",
       "        vertical-align: middle;\n",
       "    }\n",
       "\n",
       "    .dataframe tbody tr th {\n",
       "        vertical-align: top;\n",
       "    }\n",
       "\n",
       "    .dataframe thead th {\n",
       "        text-align: right;\n",
       "    }\n",
       "</style>\n",
       "<table border=\"1\" class=\"dataframe\">\n",
       "  <thead>\n",
       "    <tr style=\"text-align: right;\">\n",
       "      <th></th>\n",
       "      <th>danceability</th>\n",
       "      <th>energy</th>\n",
       "      <th>loudness</th>\n",
       "      <th>speechiness</th>\n",
       "      <th>acousticness</th>\n",
       "      <th>instrumentalness</th>\n",
       "      <th>liveness</th>\n",
       "      <th>valence</th>\n",
       "      <th>tempo</th>\n",
       "      <th>duration_ms</th>\n",
       "    </tr>\n",
       "  </thead>\n",
       "  <tbody>\n",
       "    <tr>\n",
       "      <th>0</th>\n",
       "      <td>0.587</td>\n",
       "      <td>0.838</td>\n",
       "      <td>-2.505</td>\n",
       "      <td>0.281</td>\n",
       "      <td>0.125</td>\n",
       "      <td>0</td>\n",
       "      <td>0.213</td>\n",
       "      <td>0.457</td>\n",
       "      <td>75.681</td>\n",
       "      <td>164650</td>\n",
       "    </tr>\n",
       "  </tbody>\n",
       "</table>\n",
       "</div>"
      ],
      "text/plain": [
       "   danceability  energy  loudness  speechiness  acousticness  \\\n",
       "0         0.587   0.838    -2.505        0.281         0.125   \n",
       "\n",
       "   instrumentalness  liveness  valence   tempo  duration_ms  \n",
       "0                 0     0.213    0.457  75.681       164650  "
      ]
     },
     "execution_count": 20,
     "metadata": {},
     "output_type": "execute_result"
    }
   ],
   "source": [
    "# Checking the result.\n",
    "\n",
    "input_song_features_num"
   ]
  },
  {
   "cell_type": "code",
   "execution_count": 21,
   "id": "f147a8ae",
   "metadata": {},
   "outputs": [],
   "source": [
    "# Loading my model\n",
    "\n",
    "model = load(\"scaler.pickle\")"
   ]
  },
  {
   "cell_type": "code",
   "execution_count": 22,
   "id": "a6a51168",
   "metadata": {},
   "outputs": [],
   "source": [
    "model_kmeans = load(\"kmeans_9.pickle\")"
   ]
  },
  {
   "cell_type": "code",
   "execution_count": 23,
   "id": "5b0b0181",
   "metadata": {},
   "outputs": [],
   "source": [
    "# Scaling the audio features of input songs using the same model tranform as I used for my spotify songs.\n",
    "\n",
    "input_song_scaled = model.transform(input_song_features_num)"
   ]
  },
  {
   "cell_type": "code",
   "execution_count": 24,
   "id": "2c5dda6f",
   "metadata": {},
   "outputs": [],
   "source": [
    "# Making a dataframe.\n",
    "\n",
    "input_song_scaled = pd.DataFrame(input_song_scaled, columns = [\"danceability\", \"energy\", \"loudness\", \"speechiness\", \"acousticness\", \"instrumentalness\", \"liveness\",\n",
    "                          \"valence\", \"tempo\", \"duration_ms\"])"
   ]
  },
  {
   "cell_type": "code",
   "execution_count": 25,
   "id": "1ee9b756",
   "metadata": {},
   "outputs": [],
   "source": [
    "# Predicting to which cluster the input song belongs to.\n",
    "\n",
    "input_song_cluster = model_kmeans.predict(input_song_scaled)"
   ]
  },
  {
   "cell_type": "code",
   "execution_count": 26,
   "id": "5ad8e5c6",
   "metadata": {},
   "outputs": [
    {
     "data": {
      "text/plain": [
       "array([8], dtype=int32)"
      ]
     },
     "execution_count": 26,
     "metadata": {},
     "output_type": "execute_result"
    }
   ],
   "source": [
    "input_song_cluster"
   ]
  },
  {
   "cell_type": "code",
   "execution_count": 27,
   "id": "410241bd",
   "metadata": {},
   "outputs": [
    {
     "data": {
      "text/plain": [
       "KMeans(n_clusters=9, random_state=1234)"
      ]
     },
     "execution_count": 27,
     "metadata": {},
     "output_type": "execute_result"
    }
   ],
   "source": [
    "model_kmeans"
   ]
  },
  {
   "cell_type": "markdown",
   "id": "35466682",
   "metadata": {},
   "source": [
    "## Recommending a new song"
   ]
  },
  {
   "cell_type": "code",
   "execution_count": 28,
   "id": "f2b3e7a3",
   "metadata": {},
   "outputs": [],
   "source": [
    "# Compare the cluster nr of the input song to my song df and return a new song from the same cluster nr.\n",
    "\n",
    "match_song = all_spotify[all_spotify[\"cluster\"] == int(input_song_cluster)]"
   ]
  },
  {
   "cell_type": "code",
   "execution_count": 29,
   "id": "cc55537c",
   "metadata": {},
   "outputs": [],
   "source": [
    "song_suggestion = match_song.sample()"
   ]
  },
  {
   "cell_type": "code",
   "execution_count": 30,
   "id": "3ecda279",
   "metadata": {},
   "outputs": [],
   "source": [
    "# Getting the id of the input song.\n",
    "\n",
    "suggestion = song_suggestion[\"id\"].iloc[0]"
   ]
  },
  {
   "cell_type": "code",
   "execution_count": 31,
   "id": "a82c1c42",
   "metadata": {},
   "outputs": [
    {
     "data": {
      "text/plain": [
       "'4LvRT9c5IKxC8GHVPAAaHb'"
      ]
     },
     "execution_count": 31,
     "metadata": {},
     "output_type": "execute_result"
    }
   ],
   "source": [
    "suggestion"
   ]
  },
  {
   "cell_type": "code",
   "execution_count": 32,
   "id": "4c038a21",
   "metadata": {},
   "outputs": [
    {
     "data": {
      "text/html": [
       "\n",
       "        <iframe\n",
       "            width=\"320\"\n",
       "            height=\"80\"\n",
       "            src=\"https://open.spotify.com/embed/track/2r3VvWz6pQT7lx5lxpKoxY?frameborder=0&allowtransparency=true&allow=encrypted-media\"\n",
       "            frameborder=\"0\"\n",
       "            allowfullscreen\n",
       "            \n",
       "        ></iframe>\n",
       "        "
      ],
      "text/plain": [
       "<IPython.lib.display.IFrame at 0x7fabb953c3d0>"
      ]
     },
     "execution_count": 32,
     "metadata": {},
     "output_type": "execute_result"
    }
   ],
   "source": [
    "IFrame(src=\"https://open.spotify.com/embed/track/\" + song_id,\n",
    "                   width=\"320\",\n",
    "                   height=\"80\",\n",
    "                   frameborder=\"0\",\n",
    "                   allowtransparency=\"true\",\n",
    "                   allow=\"encrypted-media\",\n",
    "                  )"
   ]
  }
 ],
 "metadata": {
  "kernelspec": {
   "display_name": "Python 3 (ipykernel)",
   "language": "python",
   "name": "python3"
  },
  "language_info": {
   "codemirror_mode": {
    "name": "ipython",
    "version": 3
   },
   "file_extension": ".py",
   "mimetype": "text/x-python",
   "name": "python",
   "nbconvert_exporter": "python",
   "pygments_lexer": "ipython3",
   "version": "3.9.7"
  }
 },
 "nbformat": 4,
 "nbformat_minor": 5
}
