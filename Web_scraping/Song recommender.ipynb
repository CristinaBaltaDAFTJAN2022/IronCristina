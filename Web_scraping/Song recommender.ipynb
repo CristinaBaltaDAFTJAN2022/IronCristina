{
 "cells": [
  {
   "cell_type": "code",
   "execution_count": 1,
   "id": "630bf8bb",
   "metadata": {},
   "outputs": [],
   "source": [
    "import numpy as np\n",
    "import pandas as pd\n",
    "import pickle\n",
    "from sklearn import datasets\n",
    "from sklearn.preprocessing import StandardScaler\n",
    "from sklearn.cluster import KMeans\n",
    "from matplotlib import pyplot\n",
    "from sklearn.metrics import silhouette_score\n",
    "import spotipy\n",
    "import json\n",
    "from spotipy.oauth2 import SpotifyClientCredentials\n",
    "import config"
   ]
  },
  {
   "cell_type": "code",
   "execution_count": 2,
   "id": "b4f553bb",
   "metadata": {},
   "outputs": [],
   "source": [
    "sp = spotipy.Spotify(auth_manager=SpotifyClientCredentials(client_id= config.client_id,\n",
    "                                                           client_secret= config.client_secret))"
   ]
  },
  {
   "cell_type": "code",
   "execution_count": 3,
   "id": "a8de397f",
   "metadata": {},
   "outputs": [],
   "source": [
    "def load(filename = \"filename.pickle\"): \n",
    "    try: \n",
    "        with open(filename, \"rb\") as f: \n",
    "            return pickle.load(f) \n",
    "        \n",
    "    except FileNotFoundError: \n",
    "        print(\"File not found!\") "
   ]
  },
  {
   "cell_type": "markdown",
   "id": "e0073fbb",
   "metadata": {},
   "source": [
    "### User Input"
   ]
  },
  {
   "cell_type": "code",
   "execution_count": 4,
   "id": "20a7ba4a",
   "metadata": {},
   "outputs": [
    {
     "data": {
      "text/html": [
       "<div>\n",
       "<style scoped>\n",
       "    .dataframe tbody tr th:only-of-type {\n",
       "        vertical-align: middle;\n",
       "    }\n",
       "\n",
       "    .dataframe tbody tr th {\n",
       "        vertical-align: top;\n",
       "    }\n",
       "\n",
       "    .dataframe thead th {\n",
       "        text-align: right;\n",
       "    }\n",
       "</style>\n",
       "<table border=\"1\" class=\"dataframe\">\n",
       "  <thead>\n",
       "    <tr style=\"text-align: right;\">\n",
       "      <th></th>\n",
       "      <th>song_title</th>\n",
       "      <th>artist(s)</th>\n",
       "    </tr>\n",
       "  </thead>\n",
       "  <tbody>\n",
       "    <tr>\n",
       "      <th>0</th>\n",
       "      <td>We Don't Talk About Bruno</td>\n",
       "      <td>Carolina Gaitan, Mauro Castillo, Adassa, Rhenz...</td>\n",
       "    </tr>\n",
       "    <tr>\n",
       "      <th>1</th>\n",
       "      <td>Do We Have A Problem?</td>\n",
       "      <td>Nicki Minaj X Lil Baby</td>\n",
       "    </tr>\n",
       "    <tr>\n",
       "      <th>2</th>\n",
       "      <td>Easy On Me</td>\n",
       "      <td>Adele</td>\n",
       "    </tr>\n",
       "    <tr>\n",
       "      <th>3</th>\n",
       "      <td>Heat Waves</td>\n",
       "      <td>Glass Animals</td>\n",
       "    </tr>\n",
       "    <tr>\n",
       "      <th>4</th>\n",
       "      <td>Stay</td>\n",
       "      <td>The Kid LAROI &amp; Justin Bieber</td>\n",
       "    </tr>\n",
       "    <tr>\n",
       "      <th>...</th>\n",
       "      <td>...</td>\n",
       "      <td>...</td>\n",
       "    </tr>\n",
       "    <tr>\n",
       "      <th>95</th>\n",
       "      <td>Iffy</td>\n",
       "      <td>Chris Brown</td>\n",
       "    </tr>\n",
       "    <tr>\n",
       "      <th>96</th>\n",
       "      <td>When I'm Gone</td>\n",
       "      <td>Alesso / Katy Perry</td>\n",
       "    </tr>\n",
       "    <tr>\n",
       "      <th>97</th>\n",
       "      <td>Fair Trade</td>\n",
       "      <td>Drake Featuring Travis Scott</td>\n",
       "    </tr>\n",
       "    <tr>\n",
       "      <th>98</th>\n",
       "      <td>Megan's Piano</td>\n",
       "      <td>Megan Thee Stallion</td>\n",
       "    </tr>\n",
       "    <tr>\n",
       "      <th>99</th>\n",
       "      <td>Moth To A Flame</td>\n",
       "      <td>Swedish House Mafia &amp; The Weeknd</td>\n",
       "    </tr>\n",
       "  </tbody>\n",
       "</table>\n",
       "<p>100 rows × 2 columns</p>\n",
       "</div>"
      ],
      "text/plain": [
       "                   song_title  \\\n",
       "0   We Don't Talk About Bruno   \n",
       "1       Do We Have A Problem?   \n",
       "2                  Easy On Me   \n",
       "3                  Heat Waves   \n",
       "4                        Stay   \n",
       "..                        ...   \n",
       "95                       Iffy   \n",
       "96              When I'm Gone   \n",
       "97                 Fair Trade   \n",
       "98              Megan's Piano   \n",
       "99            Moth To A Flame   \n",
       "\n",
       "                                            artist(s)  \n",
       "0   Carolina Gaitan, Mauro Castillo, Adassa, Rhenz...  \n",
       "1                              Nicki Minaj X Lil Baby  \n",
       "2                                               Adele  \n",
       "3                                       Glass Animals  \n",
       "4                       The Kid LAROI & Justin Bieber  \n",
       "..                                                ...  \n",
       "95                                        Chris Brown  \n",
       "96                                Alesso / Katy Perry  \n",
       "97                       Drake Featuring Travis Scott  \n",
       "98                                Megan Thee Stallion  \n",
       "99                   Swedish House Mafia & The Weeknd  \n",
       "\n",
       "[100 rows x 2 columns]"
      ]
     },
     "execution_count": 4,
     "metadata": {},
     "output_type": "execute_result"
    }
   ],
   "source": [
    "hot_songs = pd.read_csv('hot_songs.csv')\n",
    "hot_songs"
   ]
  },
  {
   "cell_type": "code",
   "execution_count": 5,
   "id": "d5719db4",
   "metadata": {},
   "outputs": [
    {
     "name": "stdout",
     "output_type": "stream",
     "text": [
      "Please enter a name of a song: moth to a flame\n",
      "\n",
      "Your song is in the hot songs list!\n",
      "Here is another song you could listen: \n",
      "\n",
      "  song_title      artist(s)\n",
      "8      Ghost  Justin Bieber\n"
     ]
    }
   ],
   "source": [
    "# User input and checking if the song is in the hot list.\n",
    "\n",
    "song_input = input(\"Please enter a name of a song: \").title()\n",
    "\n",
    "if song_input in hot_songs.values:\n",
    "    print()\n",
    "    print(\"Your song is in the hot songs list!\")\n",
    "    print(\"Here is another song you could listen: \")\n",
    "    print()\n",
    "    print(hot_songs.sample())\n",
    "#else:\n",
    "    #print(\"Please, check if you have any typos in the song name. If not, unfortunately, the song is not in the hot list.\")"
   ]
  },
  {
   "cell_type": "markdown",
   "id": "586808e8",
   "metadata": {},
   "source": [
    "### Getting the features of the input song"
   ]
  },
  {
   "cell_type": "code",
   "execution_count": 6,
   "id": "0d133139",
   "metadata": {},
   "outputs": [],
   "source": [
    "input_song = sp.search(q = song_input, limit = 1, market = \"GB\")"
   ]
  },
  {
   "cell_type": "code",
   "execution_count": 7,
   "id": "acd8fb06",
   "metadata": {},
   "outputs": [
    {
     "data": {
      "text/plain": [
       "{'tracks': {'href': 'https://api.spotify.com/v1/search?query=Moth+To+A+Flame&type=track&market=GB&offset=0&limit=1',\n",
       "  'items': [{'album': {'album_type': 'single',\n",
       "     'artists': [{'external_urls': {'spotify': 'https://open.spotify.com/artist/1h6Cn3P4NGzXbaXidqURXs'},\n",
       "       'href': 'https://api.spotify.com/v1/artists/1h6Cn3P4NGzXbaXidqURXs',\n",
       "       'id': '1h6Cn3P4NGzXbaXidqURXs',\n",
       "       'name': 'Swedish House Mafia',\n",
       "       'type': 'artist',\n",
       "       'uri': 'spotify:artist:1h6Cn3P4NGzXbaXidqURXs'},\n",
       "      {'external_urls': {'spotify': 'https://open.spotify.com/artist/1Xyo4u8uXC1ZmMpatF05PJ'},\n",
       "       'href': 'https://api.spotify.com/v1/artists/1Xyo4u8uXC1ZmMpatF05PJ',\n",
       "       'id': '1Xyo4u8uXC1ZmMpatF05PJ',\n",
       "       'name': 'The Weeknd',\n",
       "       'type': 'artist',\n",
       "       'uri': 'spotify:artist:1Xyo4u8uXC1ZmMpatF05PJ'}],\n",
       "     'external_urls': {'spotify': 'https://open.spotify.com/album/3udIvIqyBG1RrHxXrUZDoK'},\n",
       "     'href': 'https://api.spotify.com/v1/albums/3udIvIqyBG1RrHxXrUZDoK',\n",
       "     'id': '3udIvIqyBG1RrHxXrUZDoK',\n",
       "     'images': [{'height': 640,\n",
       "       'url': 'https://i.scdn.co/image/ab67616d0000b2732751f15ff6c8174e540b6fb4',\n",
       "       'width': 640},\n",
       "      {'height': 300,\n",
       "       'url': 'https://i.scdn.co/image/ab67616d00001e022751f15ff6c8174e540b6fb4',\n",
       "       'width': 300},\n",
       "      {'height': 64,\n",
       "       'url': 'https://i.scdn.co/image/ab67616d000048512751f15ff6c8174e540b6fb4',\n",
       "       'width': 64}],\n",
       "     'name': 'Moth To A Flame',\n",
       "     'release_date': '2021-10-22',\n",
       "     'release_date_precision': 'day',\n",
       "     'total_tracks': 1,\n",
       "     'type': 'album',\n",
       "     'uri': 'spotify:album:3udIvIqyBG1RrHxXrUZDoK'},\n",
       "    'artists': [{'external_urls': {'spotify': 'https://open.spotify.com/artist/1h6Cn3P4NGzXbaXidqURXs'},\n",
       "      'href': 'https://api.spotify.com/v1/artists/1h6Cn3P4NGzXbaXidqURXs',\n",
       "      'id': '1h6Cn3P4NGzXbaXidqURXs',\n",
       "      'name': 'Swedish House Mafia',\n",
       "      'type': 'artist',\n",
       "      'uri': 'spotify:artist:1h6Cn3P4NGzXbaXidqURXs'},\n",
       "     {'external_urls': {'spotify': 'https://open.spotify.com/artist/1Xyo4u8uXC1ZmMpatF05PJ'},\n",
       "      'href': 'https://api.spotify.com/v1/artists/1Xyo4u8uXC1ZmMpatF05PJ',\n",
       "      'id': '1Xyo4u8uXC1ZmMpatF05PJ',\n",
       "      'name': 'The Weeknd',\n",
       "      'type': 'artist',\n",
       "      'uri': 'spotify:artist:1Xyo4u8uXC1ZmMpatF05PJ'}],\n",
       "    'disc_number': 1,\n",
       "    'duration_ms': 234000,\n",
       "    'explicit': False,\n",
       "    'external_ids': {'isrc': 'USUG12105524'},\n",
       "    'external_urls': {'spotify': 'https://open.spotify.com/track/2gpWyfu7eZ01zzncHpxOtA'},\n",
       "    'href': 'https://api.spotify.com/v1/tracks/2gpWyfu7eZ01zzncHpxOtA',\n",
       "    'id': '2gpWyfu7eZ01zzncHpxOtA',\n",
       "    'is_local': False,\n",
       "    'is_playable': True,\n",
       "    'name': 'Moth To A Flame (with The Weeknd)',\n",
       "    'popularity': 92,\n",
       "    'preview_url': None,\n",
       "    'track_number': 1,\n",
       "    'type': 'track',\n",
       "    'uri': 'spotify:track:2gpWyfu7eZ01zzncHpxOtA'}],\n",
       "  'limit': 1,\n",
       "  'next': 'https://api.spotify.com/v1/search?query=Moth+To+A+Flame&type=track&market=GB&offset=1&limit=1',\n",
       "  'offset': 0,\n",
       "  'previous': None,\n",
       "  'total': 2208}}"
      ]
     },
     "execution_count": 7,
     "metadata": {},
     "output_type": "execute_result"
    }
   ],
   "source": [
    "input_song"
   ]
  },
  {
   "cell_type": "code",
   "execution_count": 2,
   "id": "b78b83ce",
   "metadata": {},
   "outputs": [
    {
     "ename": "NameError",
     "evalue": "name 'sp' is not defined",
     "output_type": "error",
     "traceback": [
      "\u001b[0;31m---------------------------------------------------------------------------\u001b[0m",
      "\u001b[0;31mNameError\u001b[0m                                 Traceback (most recent call last)",
      "\u001b[0;32m/var/folders/cj/gbt4rs1d4tx3brkqknks4y5r0000gn/T/ipykernel_67370/636137165.py\u001b[0m in \u001b[0;36m<module>\u001b[0;34m\u001b[0m\n\u001b[0;32m----> 1\u001b[0;31m \u001b[0minput_song_features\u001b[0m \u001b[0;34m=\u001b[0m \u001b[0msp\u001b[0m\u001b[0;34m.\u001b[0m\u001b[0maudio_features\u001b[0m\u001b[0;34m(\u001b[0m\u001b[0minput_song\u001b[0m\u001b[0;34m[\u001b[0m\u001b[0;34m\"tracks\"\u001b[0m\u001b[0;34m]\u001b[0m\u001b[0;34m[\u001b[0m\u001b[0;34m\"items\"\u001b[0m\u001b[0;34m]\u001b[0m\u001b[0;34m[\u001b[0m\u001b[0;36m0\u001b[0m\u001b[0;34m]\u001b[0m\u001b[0;34m[\u001b[0m\u001b[0;34m\"id\"\u001b[0m\u001b[0;34m]\u001b[0m \u001b[0;34m)\u001b[0m\u001b[0;34m\u001b[0m\u001b[0;34m\u001b[0m\u001b[0m\n\u001b[0m",
      "\u001b[0;31mNameError\u001b[0m: name 'sp' is not defined"
     ]
    }
   ],
   "source": [
    "input_song_features = sp.audio_features(input_song[\"tracks\"][\"items\"][0][\"id\"] )"
   ]
  },
  {
   "cell_type": "code",
   "execution_count": 9,
   "id": "dfe01527",
   "metadata": {},
   "outputs": [],
   "source": [
    "input_song_features = pd.DataFrame(input_song_features)\n",
    "input_song_features_num = input_song_features._get_numeric_data()\n"
   ]
  },
  {
   "cell_type": "code",
   "execution_count": 1,
   "id": "b1d2311d",
   "metadata": {},
   "outputs": [
    {
     "ename": "NameError",
     "evalue": "name 'input_song_features_num' is not defined",
     "output_type": "error",
     "traceback": [
      "\u001b[0;31m---------------------------------------------------------------------------\u001b[0m",
      "\u001b[0;31mNameError\u001b[0m                                 Traceback (most recent call last)",
      "\u001b[0;32m/var/folders/cj/gbt4rs1d4tx3brkqknks4y5r0000gn/T/ipykernel_67370/2542243691.py\u001b[0m in \u001b[0;36m<module>\u001b[0;34m\u001b[0m\n\u001b[0;32m----> 1\u001b[0;31m \u001b[0minput_song_features_num\u001b[0m \u001b[0;34m=\u001b[0m \u001b[0minput_song_features_num\u001b[0m\u001b[0;34m.\u001b[0m\u001b[0mdrop\u001b[0m\u001b[0;34m(\u001b[0m\u001b[0mcolumns\u001b[0m \u001b[0;34m=\u001b[0m \u001b[0;34m[\u001b[0m\u001b[0;34m\"key\"\u001b[0m\u001b[0;34m,\u001b[0m \u001b[0;34m\"mode\"\u001b[0m\u001b[0;34m,\u001b[0m \u001b[0;34m\"time_signature\"\u001b[0m\u001b[0;34m]\u001b[0m\u001b[0;34m)\u001b[0m\u001b[0;34m\u001b[0m\u001b[0;34m\u001b[0m\u001b[0m\n\u001b[0m",
      "\u001b[0;31mNameError\u001b[0m: name 'input_song_features_num' is not defined"
     ]
    }
   ],
   "source": [
    "input_song_features_num = input_song_features_num.drop(columns = [\"key\", \"mode\", \"time_signature\"])"
   ]
  },
  {
   "cell_type": "code",
   "execution_count": 11,
   "id": "4dee73e2",
   "metadata": {},
   "outputs": [
    {
     "data": {
      "text/html": [
       "<div>\n",
       "<style scoped>\n",
       "    .dataframe tbody tr th:only-of-type {\n",
       "        vertical-align: middle;\n",
       "    }\n",
       "\n",
       "    .dataframe tbody tr th {\n",
       "        vertical-align: top;\n",
       "    }\n",
       "\n",
       "    .dataframe thead th {\n",
       "        text-align: right;\n",
       "    }\n",
       "</style>\n",
       "<table border=\"1\" class=\"dataframe\">\n",
       "  <thead>\n",
       "    <tr style=\"text-align: right;\">\n",
       "      <th></th>\n",
       "      <th>danceability</th>\n",
       "      <th>energy</th>\n",
       "      <th>loudness</th>\n",
       "      <th>speechiness</th>\n",
       "      <th>acousticness</th>\n",
       "      <th>instrumentalness</th>\n",
       "      <th>liveness</th>\n",
       "      <th>valence</th>\n",
       "      <th>tempo</th>\n",
       "      <th>duration_ms</th>\n",
       "    </tr>\n",
       "  </thead>\n",
       "  <tbody>\n",
       "    <tr>\n",
       "      <th>0</th>\n",
       "      <td>0.542</td>\n",
       "      <td>0.659</td>\n",
       "      <td>-7.289</td>\n",
       "      <td>0.0389</td>\n",
       "      <td>0.00279</td>\n",
       "      <td>0</td>\n",
       "      <td>0.105</td>\n",
       "      <td>0.109</td>\n",
       "      <td>120.122</td>\n",
       "      <td>234000</td>\n",
       "    </tr>\n",
       "  </tbody>\n",
       "</table>\n",
       "</div>"
      ],
      "text/plain": [
       "   danceability  energy  loudness  speechiness  acousticness  \\\n",
       "0         0.542   0.659    -7.289       0.0389       0.00279   \n",
       "\n",
       "   instrumentalness  liveness  valence    tempo  duration_ms  \n",
       "0                 0     0.105    0.109  120.122       234000  "
      ]
     },
     "execution_count": 11,
     "metadata": {},
     "output_type": "execute_result"
    }
   ],
   "source": [
    "input_song_features_num"
   ]
  },
  {
   "cell_type": "code",
   "execution_count": 12,
   "id": "3fec96e7",
   "metadata": {},
   "outputs": [],
   "source": [
    "model = load(\"scaler.pickle\")"
   ]
  },
  {
   "cell_type": "code",
   "execution_count": 13,
   "id": "ba8a7d3d",
   "metadata": {},
   "outputs": [],
   "source": [
    "input_song_scaled = model.transform(input_song_features_num)"
   ]
  },
  {
   "cell_type": "code",
   "execution_count": 14,
   "id": "66a50ca8",
   "metadata": {},
   "outputs": [],
   "source": [
    "input_song_scaled = pd.DataFrame(input_song_scaled, columns = [\"danceability\", \"energy\", \"loudness\", \"speechiness\", \"acousticness\", \"instrumentalness\", \"liveness\",\n",
    "                          \"valence\", \"tempo\", \"duration_ms\"])"
   ]
  },
  {
   "cell_type": "code",
   "execution_count": 15,
   "id": "12fd113c",
   "metadata": {},
   "outputs": [],
   "source": [
    "model_kmeans = load(\"kmeans_9.pickle\")"
   ]
  },
  {
   "cell_type": "code",
   "execution_count": 16,
   "id": "5585e92e",
   "metadata": {},
   "outputs": [],
   "source": [
    "input_song_cluster = model_kmeans.predict(input_song_scaled)"
   ]
  },
  {
   "cell_type": "code",
   "execution_count": 17,
   "id": "2b910fb6",
   "metadata": {},
   "outputs": [
    {
     "data": {
      "text/plain": [
       "array([5], dtype=int32)"
      ]
     },
     "execution_count": 17,
     "metadata": {},
     "output_type": "execute_result"
    }
   ],
   "source": [
    "input_song_cluster"
   ]
  },
  {
   "cell_type": "code",
   "execution_count": 18,
   "id": "c46796c7",
   "metadata": {},
   "outputs": [
    {
     "data": {
      "text/plain": [
       "KMeans(n_clusters=9, random_state=1234)"
      ]
     },
     "execution_count": 18,
     "metadata": {},
     "output_type": "execute_result"
    }
   ],
   "source": [
    "model_kmeans"
   ]
  },
  {
   "cell_type": "code",
   "execution_count": null,
   "id": "63635a21",
   "metadata": {},
   "outputs": [],
   "source": []
  },
  {
   "cell_type": "code",
   "execution_count": null,
   "id": "02feff43",
   "metadata": {},
   "outputs": [],
   "source": []
  }
 ],
 "metadata": {
  "kernelspec": {
   "display_name": "Python 3 (ipykernel)",
   "language": "python",
   "name": "python3"
  },
  "language_info": {
   "codemirror_mode": {
    "name": "ipython",
    "version": 3
   },
   "file_extension": ".py",
   "mimetype": "text/x-python",
   "name": "python",
   "nbconvert_exporter": "python",
   "pygments_lexer": "ipython3",
   "version": "3.9.7"
  }
 },
 "nbformat": 4,
 "nbformat_minor": 5
}
