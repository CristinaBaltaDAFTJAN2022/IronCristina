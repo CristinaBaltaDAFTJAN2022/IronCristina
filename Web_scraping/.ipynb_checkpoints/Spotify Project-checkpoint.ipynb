{
 "cells": [
  {
   "cell_type": "code",
   "execution_count": 1,
   "id": "962f79d7",
   "metadata": {},
   "outputs": [],
   "source": [
    "import numpy as np\n",
    "import pandas as pd\n",
    "import pickle\n",
    "from sklearn import datasets # sklearn comes with some toy datasets to practise\n",
    "from sklearn.preprocessing import StandardScaler\n",
    "from sklearn.cluster import KMeans\n",
    "from matplotlib import pyplot\n",
    "from sklearn.metrics import silhouette_score\n",
    "import config\n",
    "import spotipy\n",
    "import json\n",
    "from spotipy.oauth2 import SpotifyClientCredentials"
   ]
  },
  {
   "cell_type": "code",
   "execution_count": 2,
   "id": "583a1228",
   "metadata": {},
   "outputs": [],
   "source": [
    "sp = spotipy.Spotify(auth_manager=SpotifyClientCredentials(client_id=config.client_id, client_secret=config.client_secret))"
   ]
  },
  {
   "cell_type": "code",
   "execution_count": 22,
   "id": "495d8c10",
   "metadata": {},
   "outputs": [],
   "source": [
    "def load(filename = \"filename.pickle\"): \n",
    "    try: \n",
    "        with open(filename, \"rb\") as f: \n",
    "            return pickle.load(f) \n",
    "        \n",
    "    except FileNotFoundError: \n",
    "        print(\"File not found!\") "
   ]
  },
  {
   "cell_type": "code",
   "execution_count": 23,
   "id": "a5a5a0e4",
   "metadata": {},
   "outputs": [],
   "source": [
    "# Loading the dataset with hot songs\n",
    "hot_songs = pd.read_csv('music_list.csv')"
   ]
  },
  {
   "cell_type": "code",
   "execution_count": 5,
   "id": "7f08d3cb",
   "metadata": {},
   "outputs": [
    {
     "data": {
      "text/html": [
       "<div>\n",
       "<style scoped>\n",
       "    .dataframe tbody tr th:only-of-type {\n",
       "        vertical-align: middle;\n",
       "    }\n",
       "\n",
       "    .dataframe tbody tr th {\n",
       "        vertical-align: top;\n",
       "    }\n",
       "\n",
       "    .dataframe thead th {\n",
       "        text-align: right;\n",
       "    }\n",
       "</style>\n",
       "<table border=\"1\" class=\"dataframe\">\n",
       "  <thead>\n",
       "    <tr style=\"text-align: right;\">\n",
       "      <th></th>\n",
       "      <th>Unnamed: 0</th>\n",
       "      <th>title</th>\n",
       "      <th>artist_name</th>\n",
       "    </tr>\n",
       "  </thead>\n",
       "  <tbody>\n",
       "    <tr>\n",
       "      <th>0</th>\n",
       "      <td>0</td>\n",
       "      <td>We Don't Talk About Bruno</td>\n",
       "      <td>Carolina Gaitan, Mauro Castillo, Adassa, Rhenz...</td>\n",
       "    </tr>\n",
       "    <tr>\n",
       "      <th>1</th>\n",
       "      <td>1</td>\n",
       "      <td>Do We Have A Problem?</td>\n",
       "      <td>Nicki Minaj X Lil Baby</td>\n",
       "    </tr>\n",
       "    <tr>\n",
       "      <th>2</th>\n",
       "      <td>2</td>\n",
       "      <td>Easy On Me</td>\n",
       "      <td>Adele</td>\n",
       "    </tr>\n",
       "    <tr>\n",
       "      <th>3</th>\n",
       "      <td>3</td>\n",
       "      <td>Heat Waves</td>\n",
       "      <td>Glass Animals</td>\n",
       "    </tr>\n",
       "    <tr>\n",
       "      <th>4</th>\n",
       "      <td>4</td>\n",
       "      <td>Stay</td>\n",
       "      <td>The Kid LAROI &amp; Justin Bieber</td>\n",
       "    </tr>\n",
       "    <tr>\n",
       "      <th>...</th>\n",
       "      <td>...</td>\n",
       "      <td>...</td>\n",
       "      <td>...</td>\n",
       "    </tr>\n",
       "    <tr>\n",
       "      <th>95</th>\n",
       "      <td>95</td>\n",
       "      <td>Iffy</td>\n",
       "      <td>Chris Brown</td>\n",
       "    </tr>\n",
       "    <tr>\n",
       "      <th>96</th>\n",
       "      <td>96</td>\n",
       "      <td>When I'm Gone</td>\n",
       "      <td>Alesso / Katy Perry</td>\n",
       "    </tr>\n",
       "    <tr>\n",
       "      <th>97</th>\n",
       "      <td>97</td>\n",
       "      <td>Fair Trade</td>\n",
       "      <td>Drake Featuring Travis Scott</td>\n",
       "    </tr>\n",
       "    <tr>\n",
       "      <th>98</th>\n",
       "      <td>98</td>\n",
       "      <td>Megan's Piano</td>\n",
       "      <td>Megan Thee Stallion</td>\n",
       "    </tr>\n",
       "    <tr>\n",
       "      <th>99</th>\n",
       "      <td>99</td>\n",
       "      <td>Moth To A Flame</td>\n",
       "      <td>Swedish House Mafia &amp; The Weeknd</td>\n",
       "    </tr>\n",
       "  </tbody>\n",
       "</table>\n",
       "<p>100 rows × 3 columns</p>\n",
       "</div>"
      ],
      "text/plain": [
       "    Unnamed: 0                      title  \\\n",
       "0            0  We Don't Talk About Bruno   \n",
       "1            1      Do We Have A Problem?   \n",
       "2            2                 Easy On Me   \n",
       "3            3                 Heat Waves   \n",
       "4            4                       Stay   \n",
       "..         ...                        ...   \n",
       "95          95                       Iffy   \n",
       "96          96              When I'm Gone   \n",
       "97          97                 Fair Trade   \n",
       "98          98              Megan's Piano   \n",
       "99          99            Moth To A Flame   \n",
       "\n",
       "                                          artist_name  \n",
       "0   Carolina Gaitan, Mauro Castillo, Adassa, Rhenz...  \n",
       "1                              Nicki Minaj X Lil Baby  \n",
       "2                                               Adele  \n",
       "3                                       Glass Animals  \n",
       "4                       The Kid LAROI & Justin Bieber  \n",
       "..                                                ...  \n",
       "95                                        Chris Brown  \n",
       "96                                Alesso / Katy Perry  \n",
       "97                       Drake Featuring Travis Scott  \n",
       "98                                Megan Thee Stallion  \n",
       "99                   Swedish House Mafia & The Weeknd  \n",
       "\n",
       "[100 rows x 3 columns]"
      ]
     },
     "execution_count": 5,
     "metadata": {},
     "output_type": "execute_result"
    }
   ],
   "source": [
    "hot_songs"
   ]
  },
  {
   "cell_type": "code",
   "execution_count": 6,
   "id": "d330471e",
   "metadata": {},
   "outputs": [],
   "source": [
    "hot_songs.drop(columns =[\"Unnamed: 0\"], inplace=True)"
   ]
  },
  {
   "cell_type": "code",
   "execution_count": 7,
   "id": "e8b2dc57",
   "metadata": {},
   "outputs": [
    {
     "name": "stdout",
     "output_type": "stream",
     "text": [
      "Please enter a name of a song: I will survive\n",
      "Unfortunately, the song is not in the hot list.\n"
     ]
    }
   ],
   "source": [
    "song_input=input(\"Please enter a name of a song: \").title()\n",
    "\n",
    "if song_input in hot_songs.values:\n",
    "    print()\n",
    "    print(\"Your song is in the hot_songs\")\n",
    "    print(\"Here is one song recommmendation: \")\n",
    "    print()\n",
    "    print(hot_songs.sample())\n",
    "else:\n",
    "    print(\"Unfortunately, the song is not in the hot list.\")"
   ]
  },
  {
   "cell_type": "markdown",
   "id": "aa364336",
   "metadata": {},
   "source": [
    "## Get the input of the futures of the new song"
   ]
  },
  {
   "cell_type": "code",
   "execution_count": 8,
   "id": "8baea53e",
   "metadata": {},
   "outputs": [],
   "source": [
    "input_song=sp.search(q=song_input, limit=1, market=\"GB\")"
   ]
  },
  {
   "cell_type": "code",
   "execution_count": 9,
   "id": "15bfdeb8",
   "metadata": {},
   "outputs": [
    {
     "data": {
      "text/plain": [
       "{'tracks': {'href': 'https://api.spotify.com/v1/search?query=I+Will+Survive&type=track&market=GB&offset=0&limit=1',\n",
       "  'items': [{'album': {'album_type': 'album',\n",
       "     'artists': [{'external_urls': {'spotify': 'https://open.spotify.com/artist/6V6WCgi7waF55bJmylC4H5'},\n",
       "       'href': 'https://api.spotify.com/v1/artists/6V6WCgi7waF55bJmylC4H5',\n",
       "       'id': '6V6WCgi7waF55bJmylC4H5',\n",
       "       'name': 'Gloria Gaynor',\n",
       "       'type': 'artist',\n",
       "       'uri': 'spotify:artist:6V6WCgi7waF55bJmylC4H5'}],\n",
       "     'external_urls': {'spotify': 'https://open.spotify.com/album/3srNwhDkAdDQ1GwvtToENg'},\n",
       "     'href': 'https://api.spotify.com/v1/albums/3srNwhDkAdDQ1GwvtToENg',\n",
       "     'id': '3srNwhDkAdDQ1GwvtToENg',\n",
       "     'images': [{'height': 640,\n",
       "       'url': 'https://i.scdn.co/image/ab67616d0000b273bce36707076282a49639d8b5',\n",
       "       'width': 640},\n",
       "      {'height': 300,\n",
       "       'url': 'https://i.scdn.co/image/ab67616d00001e02bce36707076282a49639d8b5',\n",
       "       'width': 300},\n",
       "      {'height': 64,\n",
       "       'url': 'https://i.scdn.co/image/ab67616d00004851bce36707076282a49639d8b5',\n",
       "       'width': 64}],\n",
       "     'name': 'Love Tracks (Deluxe Edition)',\n",
       "     'release_date': '1978-11-27',\n",
       "     'release_date_precision': 'day',\n",
       "     'total_tracks': 13,\n",
       "     'type': 'album',\n",
       "     'uri': 'spotify:album:3srNwhDkAdDQ1GwvtToENg'},\n",
       "    'artists': [{'external_urls': {'spotify': 'https://open.spotify.com/artist/6V6WCgi7waF55bJmylC4H5'},\n",
       "      'href': 'https://api.spotify.com/v1/artists/6V6WCgi7waF55bJmylC4H5',\n",
       "      'id': '6V6WCgi7waF55bJmylC4H5',\n",
       "      'name': 'Gloria Gaynor',\n",
       "      'type': 'artist',\n",
       "      'uri': 'spotify:artist:6V6WCgi7waF55bJmylC4H5'}],\n",
       "    'disc_number': 1,\n",
       "    'duration_ms': 481813,\n",
       "    'explicit': False,\n",
       "    'external_ids': {'isrc': 'USPR37807188'},\n",
       "    'external_urls': {'spotify': 'https://open.spotify.com/track/5f22DmcDGpsaG5RbUzVRow'},\n",
       "    'href': 'https://api.spotify.com/v1/tracks/5f22DmcDGpsaG5RbUzVRow',\n",
       "    'id': '5f22DmcDGpsaG5RbUzVRow',\n",
       "    'is_local': False,\n",
       "    'is_playable': True,\n",
       "    'name': 'I Will Survive - Extended Version',\n",
       "    'popularity': 70,\n",
       "    'preview_url': None,\n",
       "    'track_number': 9,\n",
       "    'type': 'track',\n",
       "    'uri': 'spotify:track:5f22DmcDGpsaG5RbUzVRow'}],\n",
       "  'limit': 1,\n",
       "  'next': 'https://api.spotify.com/v1/search?query=I+Will+Survive&type=track&market=GB&offset=1&limit=1',\n",
       "  'offset': 0,\n",
       "  'previous': None,\n",
       "  'total': 8097}}"
      ]
     },
     "execution_count": 9,
     "metadata": {},
     "output_type": "execute_result"
    }
   ],
   "source": [
    "input_song"
   ]
  },
  {
   "cell_type": "code",
   "execution_count": 10,
   "id": "7bfc34f0",
   "metadata": {},
   "outputs": [],
   "source": [
    "input_song_features = sp.audio_features(input_song[\"tracks\"][\"items\"][0][\"id\"] )"
   ]
  },
  {
   "cell_type": "code",
   "execution_count": 11,
   "id": "654fd251",
   "metadata": {},
   "outputs": [
    {
     "data": {
      "text/plain": [
       "[{'danceability': 0.777,\n",
       "  'energy': 0.736,\n",
       "  'key': 0,\n",
       "  'loudness': -10.082,\n",
       "  'mode': 1,\n",
       "  'speechiness': 0.037,\n",
       "  'acousticness': 0.00755,\n",
       "  'instrumentalness': 0.0136,\n",
       "  'liveness': 0.302,\n",
       "  'valence': 0.835,\n",
       "  'tempo': 116.375,\n",
       "  'type': 'audio_features',\n",
       "  'id': '5f22DmcDGpsaG5RbUzVRow',\n",
       "  'uri': 'spotify:track:5f22DmcDGpsaG5RbUzVRow',\n",
       "  'track_href': 'https://api.spotify.com/v1/tracks/5f22DmcDGpsaG5RbUzVRow',\n",
       "  'analysis_url': 'https://api.spotify.com/v1/audio-analysis/5f22DmcDGpsaG5RbUzVRow',\n",
       "  'duration_ms': 481813,\n",
       "  'time_signature': 4}]"
      ]
     },
     "execution_count": 11,
     "metadata": {},
     "output_type": "execute_result"
    }
   ],
   "source": [
    "input_song_features"
   ]
  },
  {
   "cell_type": "code",
   "execution_count": 12,
   "id": "7901344d",
   "metadata": {},
   "outputs": [],
   "source": [
    "input_song_features=pd.DataFrame(input_song_features)\n",
    "input_song_features_num=input_song_features._get_numeric_data()"
   ]
  },
  {
   "cell_type": "code",
   "execution_count": 13,
   "id": "e4239691",
   "metadata": {},
   "outputs": [
    {
     "data": {
      "text/html": [
       "<div>\n",
       "<style scoped>\n",
       "    .dataframe tbody tr th:only-of-type {\n",
       "        vertical-align: middle;\n",
       "    }\n",
       "\n",
       "    .dataframe tbody tr th {\n",
       "        vertical-align: top;\n",
       "    }\n",
       "\n",
       "    .dataframe thead th {\n",
       "        text-align: right;\n",
       "    }\n",
       "</style>\n",
       "<table border=\"1\" class=\"dataframe\">\n",
       "  <thead>\n",
       "    <tr style=\"text-align: right;\">\n",
       "      <th></th>\n",
       "      <th>danceability</th>\n",
       "      <th>energy</th>\n",
       "      <th>key</th>\n",
       "      <th>loudness</th>\n",
       "      <th>mode</th>\n",
       "      <th>speechiness</th>\n",
       "      <th>acousticness</th>\n",
       "      <th>instrumentalness</th>\n",
       "      <th>liveness</th>\n",
       "      <th>valence</th>\n",
       "      <th>tempo</th>\n",
       "      <th>type</th>\n",
       "      <th>id</th>\n",
       "      <th>uri</th>\n",
       "      <th>track_href</th>\n",
       "      <th>analysis_url</th>\n",
       "      <th>duration_ms</th>\n",
       "      <th>time_signature</th>\n",
       "    </tr>\n",
       "  </thead>\n",
       "  <tbody>\n",
       "    <tr>\n",
       "      <th>0</th>\n",
       "      <td>0.777</td>\n",
       "      <td>0.736</td>\n",
       "      <td>0</td>\n",
       "      <td>-10.082</td>\n",
       "      <td>1</td>\n",
       "      <td>0.037</td>\n",
       "      <td>0.00755</td>\n",
       "      <td>0.0136</td>\n",
       "      <td>0.302</td>\n",
       "      <td>0.835</td>\n",
       "      <td>116.375</td>\n",
       "      <td>audio_features</td>\n",
       "      <td>5f22DmcDGpsaG5RbUzVRow</td>\n",
       "      <td>spotify:track:5f22DmcDGpsaG5RbUzVRow</td>\n",
       "      <td>https://api.spotify.com/v1/tracks/5f22DmcDGpsa...</td>\n",
       "      <td>https://api.spotify.com/v1/audio-analysis/5f22...</td>\n",
       "      <td>481813</td>\n",
       "      <td>4</td>\n",
       "    </tr>\n",
       "  </tbody>\n",
       "</table>\n",
       "</div>"
      ],
      "text/plain": [
       "   danceability  energy  key  loudness  mode  speechiness  acousticness  \\\n",
       "0         0.777   0.736    0   -10.082     1        0.037       0.00755   \n",
       "\n",
       "   instrumentalness  liveness  valence    tempo            type  \\\n",
       "0            0.0136     0.302    0.835  116.375  audio_features   \n",
       "\n",
       "                       id                                   uri  \\\n",
       "0  5f22DmcDGpsaG5RbUzVRow  spotify:track:5f22DmcDGpsaG5RbUzVRow   \n",
       "\n",
       "                                          track_href  \\\n",
       "0  https://api.spotify.com/v1/tracks/5f22DmcDGpsa...   \n",
       "\n",
       "                                        analysis_url  duration_ms  \\\n",
       "0  https://api.spotify.com/v1/audio-analysis/5f22...       481813   \n",
       "\n",
       "   time_signature  \n",
       "0               4  "
      ]
     },
     "execution_count": 13,
     "metadata": {},
     "output_type": "execute_result"
    }
   ],
   "source": [
    "input_song_features"
   ]
  },
  {
   "cell_type": "code",
   "execution_count": 14,
   "id": "50e8b943",
   "metadata": {},
   "outputs": [],
   "source": [
    "input_song_features_num=input_song_features_num.drop(columns= [\"key\", \"mode\", \"time_signature\"])"
   ]
  },
  {
   "cell_type": "code",
   "execution_count": 15,
   "id": "e92dd6e6",
   "metadata": {},
   "outputs": [
    {
     "data": {
      "text/html": [
       "<div>\n",
       "<style scoped>\n",
       "    .dataframe tbody tr th:only-of-type {\n",
       "        vertical-align: middle;\n",
       "    }\n",
       "\n",
       "    .dataframe tbody tr th {\n",
       "        vertical-align: top;\n",
       "    }\n",
       "\n",
       "    .dataframe thead th {\n",
       "        text-align: right;\n",
       "    }\n",
       "</style>\n",
       "<table border=\"1\" class=\"dataframe\">\n",
       "  <thead>\n",
       "    <tr style=\"text-align: right;\">\n",
       "      <th></th>\n",
       "      <th>danceability</th>\n",
       "      <th>energy</th>\n",
       "      <th>loudness</th>\n",
       "      <th>speechiness</th>\n",
       "      <th>acousticness</th>\n",
       "      <th>instrumentalness</th>\n",
       "      <th>liveness</th>\n",
       "      <th>valence</th>\n",
       "      <th>tempo</th>\n",
       "      <th>duration_ms</th>\n",
       "    </tr>\n",
       "  </thead>\n",
       "  <tbody>\n",
       "    <tr>\n",
       "      <th>0</th>\n",
       "      <td>0.777</td>\n",
       "      <td>0.736</td>\n",
       "      <td>-10.082</td>\n",
       "      <td>0.037</td>\n",
       "      <td>0.00755</td>\n",
       "      <td>0.0136</td>\n",
       "      <td>0.302</td>\n",
       "      <td>0.835</td>\n",
       "      <td>116.375</td>\n",
       "      <td>481813</td>\n",
       "    </tr>\n",
       "  </tbody>\n",
       "</table>\n",
       "</div>"
      ],
      "text/plain": [
       "   danceability  energy  loudness  speechiness  acousticness  \\\n",
       "0         0.777   0.736   -10.082        0.037       0.00755   \n",
       "\n",
       "   instrumentalness  liveness  valence    tempo  duration_ms  \n",
       "0            0.0136     0.302    0.835  116.375       481813  "
      ]
     },
     "execution_count": 15,
     "metadata": {},
     "output_type": "execute_result"
    }
   ],
   "source": [
    "input_song_features_num"
   ]
  },
  {
   "cell_type": "code",
   "execution_count": 16,
   "id": "e0e9895d",
   "metadata": {},
   "outputs": [],
   "source": [
    "spoti_features=input_song_features_num[[\"danceability\", \"energy\", \"loudness\", \"speechiness\", \"acousticness\",\n",
    "                                        \"instrumentalness\", \"liveness\", \"valence\", \"tempo\", \"duration_ms\"]]"
   ]
  },
  {
   "cell_type": "code",
   "execution_count": 20,
   "id": "71668fb4",
   "metadata": {},
   "outputs": [
    {
     "data": {
      "text/html": [
       "<div>\n",
       "<style scoped>\n",
       "    .dataframe tbody tr th:only-of-type {\n",
       "        vertical-align: middle;\n",
       "    }\n",
       "\n",
       "    .dataframe tbody tr th {\n",
       "        vertical-align: top;\n",
       "    }\n",
       "\n",
       "    .dataframe thead th {\n",
       "        text-align: right;\n",
       "    }\n",
       "</style>\n",
       "<table border=\"1\" class=\"dataframe\">\n",
       "  <thead>\n",
       "    <tr style=\"text-align: right;\">\n",
       "      <th></th>\n",
       "      <th>danceability</th>\n",
       "      <th>energy</th>\n",
       "      <th>loudness</th>\n",
       "      <th>speechiness</th>\n",
       "      <th>acousticness</th>\n",
       "      <th>instrumentalness</th>\n",
       "      <th>liveness</th>\n",
       "      <th>valence</th>\n",
       "      <th>tempo</th>\n",
       "      <th>duration_ms</th>\n",
       "    </tr>\n",
       "  </thead>\n",
       "  <tbody>\n",
       "    <tr>\n",
       "      <th>0</th>\n",
       "      <td>0.777</td>\n",
       "      <td>0.736</td>\n",
       "      <td>-10.082</td>\n",
       "      <td>0.037</td>\n",
       "      <td>0.00755</td>\n",
       "      <td>0.0136</td>\n",
       "      <td>0.302</td>\n",
       "      <td>0.835</td>\n",
       "      <td>116.375</td>\n",
       "      <td>481813</td>\n",
       "    </tr>\n",
       "  </tbody>\n",
       "</table>\n",
       "</div>"
      ],
      "text/plain": [
       "   danceability  energy  loudness  speechiness  acousticness  \\\n",
       "0         0.777   0.736   -10.082        0.037       0.00755   \n",
       "\n",
       "   instrumentalness  liveness  valence    tempo  duration_ms  \n",
       "0            0.0136     0.302    0.835  116.375       481813  "
      ]
     },
     "execution_count": 20,
     "metadata": {},
     "output_type": "execute_result"
    }
   ],
   "source": [
    "input_song_features_num"
   ]
  },
  {
   "cell_type": "code",
   "execution_count": 25,
   "id": "b63f572b",
   "metadata": {},
   "outputs": [],
   "source": [
    "model_kmeans=load(\"kmeans_7.pickle\")"
   ]
  },
  {
   "cell_type": "code",
   "execution_count": 26,
   "id": "87f1d834",
   "metadata": {},
   "outputs": [],
   "source": [
    "with open('scaler.pickle', 'rb') as f: \n",
    "    scaler = pickle.load(f)"
   ]
  },
  {
   "cell_type": "code",
   "execution_count": 27,
   "id": "06db1981",
   "metadata": {},
   "outputs": [],
   "source": [
    "#input_song_scaled"
   ]
  },
  {
   "cell_type": "code",
   "execution_count": 29,
   "id": "169c21f4",
   "metadata": {},
   "outputs": [],
   "source": [
    "input_song_scaled=scaler.transform(spoti_features)"
   ]
  },
  {
   "cell_type": "code",
   "execution_count": 31,
   "id": "f4b65a46",
   "metadata": {
    "scrolled": true
   },
   "outputs": [],
   "source": [
    "input_song_scaled = pd.DataFrame(input_song_scaled, columns = [\"danceability\", \"energy\", \"loudness\", \"speechiness\", \"acousticness\", \"instrumentalness\", \"liveness\",\n",
    "                          \"valence\", \"tempo\", \"duration_ms\"])"
   ]
  },
  {
   "cell_type": "code",
   "execution_count": 32,
   "id": "dadcc1db",
   "metadata": {},
   "outputs": [
    {
     "data": {
      "text/html": [
       "<div>\n",
       "<style scoped>\n",
       "    .dataframe tbody tr th:only-of-type {\n",
       "        vertical-align: middle;\n",
       "    }\n",
       "\n",
       "    .dataframe tbody tr th {\n",
       "        vertical-align: top;\n",
       "    }\n",
       "\n",
       "    .dataframe thead th {\n",
       "        text-align: right;\n",
       "    }\n",
       "</style>\n",
       "<table border=\"1\" class=\"dataframe\">\n",
       "  <thead>\n",
       "    <tr style=\"text-align: right;\">\n",
       "      <th></th>\n",
       "      <th>danceability</th>\n",
       "      <th>energy</th>\n",
       "      <th>loudness</th>\n",
       "      <th>speechiness</th>\n",
       "      <th>acousticness</th>\n",
       "      <th>instrumentalness</th>\n",
       "      <th>liveness</th>\n",
       "      <th>valence</th>\n",
       "      <th>tempo</th>\n",
       "      <th>duration_ms</th>\n",
       "    </tr>\n",
       "  </thead>\n",
       "  <tbody>\n",
       "    <tr>\n",
       "      <th>0</th>\n",
       "      <td>0.817957</td>\n",
       "      <td>0.838562</td>\n",
       "      <td>-0.120974</td>\n",
       "      <td>-0.605733</td>\n",
       "      <td>-1.065526</td>\n",
       "      <td>-0.449101</td>\n",
       "      <td>1.023374</td>\n",
       "      <td>1.395059</td>\n",
       "      <td>-0.111829</td>\n",
       "      <td>3.298221</td>\n",
       "    </tr>\n",
       "  </tbody>\n",
       "</table>\n",
       "</div>"
      ],
      "text/plain": [
       "   danceability    energy  loudness  speechiness  acousticness  \\\n",
       "0      0.817957  0.838562 -0.120974    -0.605733     -1.065526   \n",
       "\n",
       "   instrumentalness  liveness   valence     tempo  duration_ms  \n",
       "0         -0.449101  1.023374  1.395059 -0.111829     3.298221  "
      ]
     },
     "execution_count": 32,
     "metadata": {},
     "output_type": "execute_result"
    }
   ],
   "source": [
    "input_song_scaled"
   ]
  },
  {
   "cell_type": "code",
   "execution_count": 33,
   "id": "700ebbea",
   "metadata": {},
   "outputs": [],
   "source": [
    "input_song_cluster=model_kmeans.predict(input_song_scaled)"
   ]
  },
  {
   "cell_type": "code",
   "execution_count": 34,
   "id": "f63d6787",
   "metadata": {},
   "outputs": [
    {
     "data": {
      "text/plain": [
       "array([2], dtype=int32)"
      ]
     },
     "execution_count": 34,
     "metadata": {},
     "output_type": "execute_result"
    }
   ],
   "source": [
    "input_song_cluster"
   ]
  }
 ],
 "metadata": {
  "kernelspec": {
   "display_name": "Python 3 (ipykernel)",
   "language": "python",
   "name": "python3"
  },
  "language_info": {
   "codemirror_mode": {
    "name": "ipython",
    "version": 3
   },
   "file_extension": ".py",
   "mimetype": "text/x-python",
   "name": "python",
   "nbconvert_exporter": "python",
   "pygments_lexer": "ipython3",
   "version": "3.9.7"
  }
 },
 "nbformat": 4,
 "nbformat_minor": 5
}
