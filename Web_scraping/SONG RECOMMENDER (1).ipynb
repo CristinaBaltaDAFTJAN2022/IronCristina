{
 "cells": [
  {
   "cell_type": "markdown",
   "id": "1909e2f3",
   "metadata": {},
   "source": [
    "## Spotify song recommender"
   ]
  },
  {
   "cell_type": "code",
   "execution_count": 1,
   "id": "348048d8",
   "metadata": {},
   "outputs": [],
   "source": [
    "import numpy as np\n",
    "import pandas as pd\n",
    "import pickle\n",
    "from sklearn import datasets\n",
    "from sklearn.preprocessing import StandardScaler\n",
    "from sklearn.cluster import KMeans\n",
    "from matplotlib import pyplot\n",
    "from sklearn.metrics import silhouette_score\n",
    "import spotipy\n",
    "import json\n",
    "from spotipy.oauth2 import SpotifyClientCredentials\n",
    "import config\n",
    "from IPython.display import IFrame"
   ]
  },
  {
   "cell_type": "code",
   "execution_count": 2,
   "id": "509bc6a1",
   "metadata": {},
   "outputs": [],
   "source": [
    "# Connecting to spotify.\n",
    "\n",
    "sp = spotipy.Spotify(auth_manager=SpotifyClientCredentials(client_id= config.client_id,\n",
    "                                                           client_secret= config.client_secret))"
   ]
  },
  {
   "cell_type": "code",
   "execution_count": 3,
   "id": "592e9001",
   "metadata": {},
   "outputs": [],
   "source": [
    "# Function to load my previously saved model.\n",
    "\n",
    "def load(filename = \"filename.pickle\"): \n",
    "    try: \n",
    "        with open(filename, \"rb\") as f: \n",
    "            return pickle.load(f) \n",
    "        \n",
    "    except FileNotFoundError: \n",
    "        print(\"File not found!\") "
   ]
  },
  {
   "cell_type": "code",
   "execution_count": 37,
   "id": "d954274a",
   "metadata": {},
   "outputs": [],
   "source": [
    "# Function for song recommendations.\n",
    "\n",
    "def song_recommender():\n",
    "    \n",
    "    song_input = input(\"Please enter a name of a song: \").title()\n",
    "\n",
    "    if song_input in hot_songs.values:\n",
    "        print()\n",
    "        print(\"Your song is in the hot songs list!\")\n",
    "        print(\"Here is another hot song you could listen: \")\n",
    "        print()\n",
    "        print(hot_songs.sample())\n",
    "    \n",
    "    else:\n",
    "        input_song = sp.search(q = song_input, limit = 1, market = \"GB\")\n",
    "        \n",
    "        song_id = input_song[\"tracks\"][\"items\"][0][\"id\"]\n",
    "        \n",
    "        input_song_features = sp.audio_features(input_song[\"tracks\"][\"items\"][0][\"id\"] )\n",
    "    \n",
    "        input_song_features = pd.DataFrame(input_song_features)\n",
    "        input_song_features_num = input_song_features._get_numeric_data()\n",
    "\n",
    "        input_song_features_num = input_song_features_num.drop(columns = [\"key\", \"mode\", \"time_signature\"])\n",
    "\n",
    "        model = load(\"scaler.pickle\")\n",
    "        model_kmeans = load(\"kmeans_9.pickle\")\n",
    "\n",
    "        input_song_scaled = model.transform(input_song_features_num)\n",
    "\n",
    "        input_song_scaled = pd.DataFrame(input_song_scaled, columns = [\"danceability\", \"energy\", \"loudness\", \"speechiness\", \"acousticness\", \"instrumentalness\", \"liveness\",\n",
    "                          \"valence\", \"tempo\", \"duration_ms\"])\n",
    "\n",
    "        input_song_cluster = model_kmeans.predict(input_song_scaled)\n",
    "\n",
    "        match_song = spotify_songs[spotify_songs[\"cluster\"] == int(input_song_cluster)]\n",
    "\n",
    "        song_suggestion = match_song.sample()\n",
    "\n",
    "        suggestion = song_suggestion[\"id\"].iloc[0]\n",
    "        \n",
    "        print()\n",
    "        print(\"Here is another song you can listen! Check that out!\")\n",
    "        print()\n",
    "        print(IFrame(src=\"https://open.spotify.com/embed/track/\" + song_id,\n",
    "                   width=\"320\",\n",
    "                   height=\"80\",\n",
    "                   frameborder=\"0\",\n",
    "                   allowtransparency=\"true\",\n",
    "                   allow=\"encrypted-media\",\n",
    "                  ))\n",
    "\n",
    "        return IFrame(src=\"https://open.spotify.com/embed/track/\" + suggestion,\n",
    "                    width=\"320\",\n",
    "                    height=\"80\",\n",
    "                    frameborder=\"0\",\n",
    "                    allowtransparency=\"true\",\n",
    "                    allow=\"encrypted-media\",\n",
    "                    )"
   ]
  },
  {
   "cell_type": "code",
   "execution_count": 35,
   "id": "6b7bb866",
   "metadata": {},
   "outputs": [],
   "source": [
    "# Data needed for the functions.\n",
    "\n",
    "hot_songs = pd.read_csv('hot_songs.csv')\n",
    "spotify_songs = pd.read_csv('spotify_songs.csv')\n",
    "spotify_songs.drop(columns = [\"Unnamed: 0\"], inplace = True)"
   ]
  },
  {
   "cell_type": "code",
   "execution_count": 36,
   "id": "163e49dc",
   "metadata": {},
   "outputs": [
    {
     "data": {
      "text/html": [
       "<div>\n",
       "<style scoped>\n",
       "    .dataframe tbody tr th:only-of-type {\n",
       "        vertical-align: middle;\n",
       "    }\n",
       "\n",
       "    .dataframe tbody tr th {\n",
       "        vertical-align: top;\n",
       "    }\n",
       "\n",
       "    .dataframe thead th {\n",
       "        text-align: right;\n",
       "    }\n",
       "</style>\n",
       "<table border=\"1\" class=\"dataframe\">\n",
       "  <thead>\n",
       "    <tr style=\"text-align: right;\">\n",
       "      <th></th>\n",
       "      <th>danceability</th>\n",
       "      <th>energy</th>\n",
       "      <th>key</th>\n",
       "      <th>loudness</th>\n",
       "      <th>mode</th>\n",
       "      <th>speechiness</th>\n",
       "      <th>acousticness</th>\n",
       "      <th>instrumentalness</th>\n",
       "      <th>liveness</th>\n",
       "      <th>valence</th>\n",
       "      <th>...</th>\n",
       "      <th>energy.1</th>\n",
       "      <th>loudness.1</th>\n",
       "      <th>speechiness.1</th>\n",
       "      <th>acousticness.1</th>\n",
       "      <th>instrumentalness.1</th>\n",
       "      <th>liveness.1</th>\n",
       "      <th>valence.1</th>\n",
       "      <th>tempo.1</th>\n",
       "      <th>duration_ms.1</th>\n",
       "      <th>cluster</th>\n",
       "    </tr>\n",
       "  </thead>\n",
       "  <tbody>\n",
       "    <tr>\n",
       "      <th>0</th>\n",
       "      <td>0.522</td>\n",
       "      <td>0.8170</td>\n",
       "      <td>0</td>\n",
       "      <td>-6.170</td>\n",
       "      <td>1</td>\n",
       "      <td>0.0512</td>\n",
       "      <td>0.32900</td>\n",
       "      <td>0.000002</td>\n",
       "      <td>0.0807</td>\n",
       "      <td>0.562</td>\n",
       "      <td>...</td>\n",
       "      <td>1.022293</td>\n",
       "      <td>0.471670</td>\n",
       "      <td>-0.421990</td>\n",
       "      <td>0.112103</td>\n",
       "      <td>-0.415597</td>\n",
       "      <td>-0.661491</td>\n",
       "      <td>0.143928</td>\n",
       "      <td>1.109252</td>\n",
       "      <td>-0.116854</td>\n",
       "      <td>7</td>\n",
       "    </tr>\n",
       "    <tr>\n",
       "      <th>1</th>\n",
       "      <td>0.692</td>\n",
       "      <td>0.6510</td>\n",
       "      <td>9</td>\n",
       "      <td>-8.267</td>\n",
       "      <td>1</td>\n",
       "      <td>0.0324</td>\n",
       "      <td>0.29200</td>\n",
       "      <td>0.002410</td>\n",
       "      <td>0.1050</td>\n",
       "      <td>0.706</td>\n",
       "      <td>...</td>\n",
       "      <td>0.278965</td>\n",
       "      <td>0.067342</td>\n",
       "      <td>-0.621782</td>\n",
       "      <td>-0.010085</td>\n",
       "      <td>-0.406758</td>\n",
       "      <td>-0.483231</td>\n",
       "      <td>0.748429</td>\n",
       "      <td>-0.796069</td>\n",
       "      <td>0.545346</td>\n",
       "      <td>3</td>\n",
       "    </tr>\n",
       "    <tr>\n",
       "      <th>2</th>\n",
       "      <td>0.682</td>\n",
       "      <td>0.6050</td>\n",
       "      <td>8</td>\n",
       "      <td>-10.771</td>\n",
       "      <td>1</td>\n",
       "      <td>0.0403</td>\n",
       "      <td>0.18500</td>\n",
       "      <td>0.003260</td>\n",
       "      <td>0.0469</td>\n",
       "      <td>0.914</td>\n",
       "      <td>...</td>\n",
       "      <td>0.072982</td>\n",
       "      <td>-0.415460</td>\n",
       "      <td>-0.537827</td>\n",
       "      <td>-0.363440</td>\n",
       "      <td>-0.403638</td>\n",
       "      <td>-0.909441</td>\n",
       "      <td>1.621597</td>\n",
       "      <td>0.208378</td>\n",
       "      <td>-0.559493</td>\n",
       "      <td>3</td>\n",
       "    </tr>\n",
       "    <tr>\n",
       "      <th>3</th>\n",
       "      <td>0.793</td>\n",
       "      <td>0.6010</td>\n",
       "      <td>4</td>\n",
       "      <td>-8.179</td>\n",
       "      <td>1</td>\n",
       "      <td>0.0317</td>\n",
       "      <td>0.03120</td>\n",
       "      <td>0.003510</td>\n",
       "      <td>0.1050</td>\n",
       "      <td>0.703</td>\n",
       "      <td>...</td>\n",
       "      <td>0.055070</td>\n",
       "      <td>0.084309</td>\n",
       "      <td>-0.629221</td>\n",
       "      <td>-0.871346</td>\n",
       "      <td>-0.402720</td>\n",
       "      <td>-0.483231</td>\n",
       "      <td>0.735835</td>\n",
       "      <td>-0.614074</td>\n",
       "      <td>0.025381</td>\n",
       "      <td>3</td>\n",
       "    </tr>\n",
       "    <tr>\n",
       "      <th>4</th>\n",
       "      <td>0.873</td>\n",
       "      <td>0.6510</td>\n",
       "      <td>1</td>\n",
       "      <td>-4.179</td>\n",
       "      <td>1</td>\n",
       "      <td>0.0374</td>\n",
       "      <td>0.02510</td>\n",
       "      <td>0.000107</td>\n",
       "      <td>0.2130</td>\n",
       "      <td>0.828</td>\n",
       "      <td>...</td>\n",
       "      <td>0.278965</td>\n",
       "      <td>0.855559</td>\n",
       "      <td>-0.568646</td>\n",
       "      <td>-0.891491</td>\n",
       "      <td>-0.415211</td>\n",
       "      <td>0.309034</td>\n",
       "      <td>1.260576</td>\n",
       "      <td>-0.184201</td>\n",
       "      <td>-0.467468</td>\n",
       "      <td>3</td>\n",
       "    </tr>\n",
       "    <tr>\n",
       "      <th>...</th>\n",
       "      <td>...</td>\n",
       "      <td>...</td>\n",
       "      <td>...</td>\n",
       "      <td>...</td>\n",
       "      <td>...</td>\n",
       "      <td>...</td>\n",
       "      <td>...</td>\n",
       "      <td>...</td>\n",
       "      <td>...</td>\n",
       "      <td>...</td>\n",
       "      <td>...</td>\n",
       "      <td>...</td>\n",
       "      <td>...</td>\n",
       "      <td>...</td>\n",
       "      <td>...</td>\n",
       "      <td>...</td>\n",
       "      <td>...</td>\n",
       "      <td>...</td>\n",
       "      <td>...</td>\n",
       "      <td>...</td>\n",
       "      <td>...</td>\n",
       "    </tr>\n",
       "    <tr>\n",
       "      <th>7377</th>\n",
       "      <td>0.628</td>\n",
       "      <td>0.7370</td>\n",
       "      <td>7</td>\n",
       "      <td>-4.437</td>\n",
       "      <td>1</td>\n",
       "      <td>0.0410</td>\n",
       "      <td>0.06250</td>\n",
       "      <td>0.000000</td>\n",
       "      <td>0.0777</td>\n",
       "      <td>0.592</td>\n",
       "      <td>...</td>\n",
       "      <td>0.664062</td>\n",
       "      <td>0.805814</td>\n",
       "      <td>-0.530388</td>\n",
       "      <td>-0.767982</td>\n",
       "      <td>-0.415603</td>\n",
       "      <td>-0.683499</td>\n",
       "      <td>0.269866</td>\n",
       "      <td>-1.025927</td>\n",
       "      <td>-0.375787</td>\n",
       "      <td>2</td>\n",
       "    </tr>\n",
       "    <tr>\n",
       "      <th>7378</th>\n",
       "      <td>0.784</td>\n",
       "      <td>0.5390</td>\n",
       "      <td>8</td>\n",
       "      <td>-8.148</td>\n",
       "      <td>0</td>\n",
       "      <td>0.0628</td>\n",
       "      <td>0.69000</td>\n",
       "      <td>0.000017</td>\n",
       "      <td>0.0367</td>\n",
       "      <td>0.697</td>\n",
       "      <td>...</td>\n",
       "      <td>-0.222558</td>\n",
       "      <td>0.090287</td>\n",
       "      <td>-0.298715</td>\n",
       "      <td>1.304262</td>\n",
       "      <td>-0.415539</td>\n",
       "      <td>-0.984266</td>\n",
       "      <td>0.710648</td>\n",
       "      <td>0.495091</td>\n",
       "      <td>0.283185</td>\n",
       "      <td>3</td>\n",
       "    </tr>\n",
       "    <tr>\n",
       "      <th>7379</th>\n",
       "      <td>0.410</td>\n",
       "      <td>0.0485</td>\n",
       "      <td>0</td>\n",
       "      <td>-13.918</td>\n",
       "      <td>1</td>\n",
       "      <td>0.0380</td>\n",
       "      <td>0.94700</td>\n",
       "      <td>0.000000</td>\n",
       "      <td>0.1080</td>\n",
       "      <td>0.247</td>\n",
       "      <td>...</td>\n",
       "      <td>-2.418959</td>\n",
       "      <td>-1.022241</td>\n",
       "      <td>-0.562269</td>\n",
       "      <td>2.152973</td>\n",
       "      <td>-0.415603</td>\n",
       "      <td>-0.461224</td>\n",
       "      <td>-1.178418</td>\n",
       "      <td>0.638645</td>\n",
       "      <td>-0.535392</td>\n",
       "      <td>1</td>\n",
       "    </tr>\n",
       "    <tr>\n",
       "      <th>7380</th>\n",
       "      <td>0.854</td>\n",
       "      <td>0.6740</td>\n",
       "      <td>11</td>\n",
       "      <td>-4.896</td>\n",
       "      <td>1</td>\n",
       "      <td>0.0705</td>\n",
       "      <td>0.02040</td>\n",
       "      <td>0.000000</td>\n",
       "      <td>0.1010</td>\n",
       "      <td>0.818</td>\n",
       "      <td>...</td>\n",
       "      <td>0.381956</td>\n",
       "      <td>0.717313</td>\n",
       "      <td>-0.216886</td>\n",
       "      <td>-0.907012</td>\n",
       "      <td>-0.415603</td>\n",
       "      <td>-0.512575</td>\n",
       "      <td>1.218597</td>\n",
       "      <td>0.204258</td>\n",
       "      <td>-0.035757</td>\n",
       "      <td>3</td>\n",
       "    </tr>\n",
       "    <tr>\n",
       "      <th>7381</th>\n",
       "      <td>0.908</td>\n",
       "      <td>0.6690</td>\n",
       "      <td>7</td>\n",
       "      <td>-2.827</td>\n",
       "      <td>1</td>\n",
       "      <td>0.0738</td>\n",
       "      <td>0.00286</td>\n",
       "      <td>0.000000</td>\n",
       "      <td>0.2370</td>\n",
       "      <td>0.662</td>\n",
       "      <td>...</td>\n",
       "      <td>0.359566</td>\n",
       "      <td>1.116242</td>\n",
       "      <td>-0.181816</td>\n",
       "      <td>-0.964935</td>\n",
       "      <td>-0.415603</td>\n",
       "      <td>0.485093</td>\n",
       "      <td>0.563721</td>\n",
       "      <td>-0.283223</td>\n",
       "      <td>1.020214</td>\n",
       "      <td>3</td>\n",
       "    </tr>\n",
       "  </tbody>\n",
       "</table>\n",
       "<p>7382 rows × 31 columns</p>\n",
       "</div>"
      ],
      "text/plain": [
       "      danceability  energy  key  loudness  mode  speechiness  acousticness  \\\n",
       "0            0.522  0.8170    0    -6.170     1       0.0512       0.32900   \n",
       "1            0.692  0.6510    9    -8.267     1       0.0324       0.29200   \n",
       "2            0.682  0.6050    8   -10.771     1       0.0403       0.18500   \n",
       "3            0.793  0.6010    4    -8.179     1       0.0317       0.03120   \n",
       "4            0.873  0.6510    1    -4.179     1       0.0374       0.02510   \n",
       "...            ...     ...  ...       ...   ...          ...           ...   \n",
       "7377         0.628  0.7370    7    -4.437     1       0.0410       0.06250   \n",
       "7378         0.784  0.5390    8    -8.148     0       0.0628       0.69000   \n",
       "7379         0.410  0.0485    0   -13.918     1       0.0380       0.94700   \n",
       "7380         0.854  0.6740   11    -4.896     1       0.0705       0.02040   \n",
       "7381         0.908  0.6690    7    -2.827     1       0.0738       0.00286   \n",
       "\n",
       "      instrumentalness  liveness  valence  ...  energy.1 loudness.1  \\\n",
       "0             0.000002    0.0807    0.562  ...  1.022293   0.471670   \n",
       "1             0.002410    0.1050    0.706  ...  0.278965   0.067342   \n",
       "2             0.003260    0.0469    0.914  ...  0.072982  -0.415460   \n",
       "3             0.003510    0.1050    0.703  ...  0.055070   0.084309   \n",
       "4             0.000107    0.2130    0.828  ...  0.278965   0.855559   \n",
       "...                ...       ...      ...  ...       ...        ...   \n",
       "7377          0.000000    0.0777    0.592  ...  0.664062   0.805814   \n",
       "7378          0.000017    0.0367    0.697  ... -0.222558   0.090287   \n",
       "7379          0.000000    0.1080    0.247  ... -2.418959  -1.022241   \n",
       "7380          0.000000    0.1010    0.818  ...  0.381956   0.717313   \n",
       "7381          0.000000    0.2370    0.662  ...  0.359566   1.116242   \n",
       "\n",
       "     speechiness.1 acousticness.1 instrumentalness.1 liveness.1  valence.1  \\\n",
       "0        -0.421990       0.112103          -0.415597  -0.661491   0.143928   \n",
       "1        -0.621782      -0.010085          -0.406758  -0.483231   0.748429   \n",
       "2        -0.537827      -0.363440          -0.403638  -0.909441   1.621597   \n",
       "3        -0.629221      -0.871346          -0.402720  -0.483231   0.735835   \n",
       "4        -0.568646      -0.891491          -0.415211   0.309034   1.260576   \n",
       "...            ...            ...                ...        ...        ...   \n",
       "7377     -0.530388      -0.767982          -0.415603  -0.683499   0.269866   \n",
       "7378     -0.298715       1.304262          -0.415539  -0.984266   0.710648   \n",
       "7379     -0.562269       2.152973          -0.415603  -0.461224  -1.178418   \n",
       "7380     -0.216886      -0.907012          -0.415603  -0.512575   1.218597   \n",
       "7381     -0.181816      -0.964935          -0.415603   0.485093   0.563721   \n",
       "\n",
       "       tempo.1 duration_ms.1 cluster  \n",
       "0     1.109252     -0.116854       7  \n",
       "1    -0.796069      0.545346       3  \n",
       "2     0.208378     -0.559493       3  \n",
       "3    -0.614074      0.025381       3  \n",
       "4    -0.184201     -0.467468       3  \n",
       "...        ...           ...     ...  \n",
       "7377 -1.025927     -0.375787       2  \n",
       "7378  0.495091      0.283185       3  \n",
       "7379  0.638645     -0.535392       1  \n",
       "7380  0.204258     -0.035757       3  \n",
       "7381 -0.283223      1.020214       3  \n",
       "\n",
       "[7382 rows x 31 columns]"
      ]
     },
     "execution_count": 36,
     "metadata": {},
     "output_type": "execute_result"
    }
   ],
   "source": [
    "spotify_songs"
   ]
  },
  {
   "cell_type": "code",
   "execution_count": 38,
   "id": "1afebe37",
   "metadata": {},
   "outputs": [
    {
     "name": "stdout",
     "output_type": "stream",
     "text": [
      "Please enter a name of a song: crazy in love\n",
      "\n",
      "Here is another song you can listen! Check that out!\n",
      "\n",
      "<IPython.lib.display.IFrame object at 0x16cc8fb50>\n"
     ]
    },
    {
     "data": {
      "text/html": [
       "\n",
       "        <iframe\n",
       "            width=\"320\"\n",
       "            height=\"80\"\n",
       "            src=\"https://open.spotify.com/embed/track/7uzmGiiJyRfuViKKK3lVmR?frameborder=0&allowtransparency=true&allow=encrypted-media\"\n",
       "            frameborder=\"0\"\n",
       "            allowfullscreen\n",
       "            \n",
       "        ></iframe>\n",
       "        "
      ],
      "text/plain": [
       "<IPython.lib.display.IFrame at 0x16cc8fb50>"
      ]
     },
     "execution_count": 38,
     "metadata": {},
     "output_type": "execute_result"
    }
   ],
   "source": [
    "# Testing the function.\n",
    "\n",
    "song_recommender()"
   ]
  },
  {
   "cell_type": "markdown",
   "id": "1ab34b15",
   "metadata": {},
   "source": [
    "### Here is all the code I used for building the function."
   ]
  },
  {
   "cell_type": "code",
   "execution_count": 70,
   "id": "ad46af06",
   "metadata": {},
   "outputs": [
    {
     "name": "stdout",
     "output_type": "stream",
     "text": [
      "Please enter a name of a song: back in black\n"
     ]
    }
   ],
   "source": [
    "# User input and checking if the song is in the hot list.\n",
    "\n",
    "song_input = input(\"Please enter a name of a song: \").title()\n",
    "\n",
    "if song_input in hot_songs.values:\n",
    "    print()\n",
    "    print(\"Your song is in the hot songs list!\")\n",
    "    print(\"Here is another song you could listen: \")\n",
    "    print()\n",
    "    print(hot_songs.sample())\n"
   ]
  },
  {
   "cell_type": "markdown",
   "id": "aace70c8",
   "metadata": {},
   "source": [
    "#### Getting the features of the input song"
   ]
  },
  {
   "cell_type": "code",
   "execution_count": 71,
   "id": "0bae7607",
   "metadata": {},
   "outputs": [],
   "source": [
    "input_song = sp.search(q = song_input, limit = 1, market = \"GB\")"
   ]
  },
  {
   "cell_type": "code",
   "execution_count": 72,
   "id": "11b12a05",
   "metadata": {},
   "outputs": [
    {
     "data": {
      "text/plain": [
       "{'tracks': {'href': 'https://api.spotify.com/v1/search?query=Back+In+Black&type=track&market=GB&offset=0&limit=1',\n",
       "  'items': [{'album': {'album_type': 'album',\n",
       "     'artists': [{'external_urls': {'spotify': 'https://open.spotify.com/artist/711MCceyCBcFnzjGY4Q7Un'},\n",
       "       'href': 'https://api.spotify.com/v1/artists/711MCceyCBcFnzjGY4Q7Un',\n",
       "       'id': '711MCceyCBcFnzjGY4Q7Un',\n",
       "       'name': 'AC/DC',\n",
       "       'type': 'artist',\n",
       "       'uri': 'spotify:artist:711MCceyCBcFnzjGY4Q7Un'}],\n",
       "     'external_urls': {'spotify': 'https://open.spotify.com/album/6mUdeDZCsExyJLMdAfDuwh'},\n",
       "     'href': 'https://api.spotify.com/v1/albums/6mUdeDZCsExyJLMdAfDuwh',\n",
       "     'id': '6mUdeDZCsExyJLMdAfDuwh',\n",
       "     'images': [{'height': 640,\n",
       "       'url': 'https://i.scdn.co/image/ab67616d0000b2730b51f8d91f3a21e8426361ae',\n",
       "       'width': 640},\n",
       "      {'height': 300,\n",
       "       'url': 'https://i.scdn.co/image/ab67616d00001e020b51f8d91f3a21e8426361ae',\n",
       "       'width': 300},\n",
       "      {'height': 64,\n",
       "       'url': 'https://i.scdn.co/image/ab67616d000048510b51f8d91f3a21e8426361ae',\n",
       "       'width': 64}],\n",
       "     'name': 'Back In Black',\n",
       "     'release_date': '1980-07-25',\n",
       "     'release_date_precision': 'day',\n",
       "     'total_tracks': 10,\n",
       "     'type': 'album',\n",
       "     'uri': 'spotify:album:6mUdeDZCsExyJLMdAfDuwh'},\n",
       "    'artists': [{'external_urls': {'spotify': 'https://open.spotify.com/artist/711MCceyCBcFnzjGY4Q7Un'},\n",
       "      'href': 'https://api.spotify.com/v1/artists/711MCceyCBcFnzjGY4Q7Un',\n",
       "      'id': '711MCceyCBcFnzjGY4Q7Un',\n",
       "      'name': 'AC/DC',\n",
       "      'type': 'artist',\n",
       "      'uri': 'spotify:artist:711MCceyCBcFnzjGY4Q7Un'}],\n",
       "    'disc_number': 1,\n",
       "    'duration_ms': 255493,\n",
       "    'explicit': False,\n",
       "    'external_ids': {'isrc': 'AUAP08000046'},\n",
       "    'external_urls': {'spotify': 'https://open.spotify.com/track/08mG3Y1vljYA6bvDt4Wqkj'},\n",
       "    'href': 'https://api.spotify.com/v1/tracks/08mG3Y1vljYA6bvDt4Wqkj',\n",
       "    'id': '08mG3Y1vljYA6bvDt4Wqkj',\n",
       "    'is_local': False,\n",
       "    'is_playable': True,\n",
       "    'name': 'Back In Black',\n",
       "    'popularity': 86,\n",
       "    'preview_url': 'https://p.scdn.co/mp3-preview/506bc9a0485990973449b0467791e06174371284?cid=dcd9a6a8ddf04345877c12c4d0df06a0',\n",
       "    'track_number': 6,\n",
       "    'type': 'track',\n",
       "    'uri': 'spotify:track:08mG3Y1vljYA6bvDt4Wqkj'}],\n",
       "  'limit': 1,\n",
       "  'next': 'https://api.spotify.com/v1/search?query=Back+In+Black&type=track&market=GB&offset=1&limit=1',\n",
       "  'offset': 0,\n",
       "  'previous': None,\n",
       "  'total': 8419}}"
      ]
     },
     "execution_count": 72,
     "metadata": {},
     "output_type": "execute_result"
    }
   ],
   "source": [
    "input_song"
   ]
  },
  {
   "cell_type": "code",
   "execution_count": 73,
   "id": "f1836598",
   "metadata": {},
   "outputs": [],
   "source": [
    "# Figuring out how to get song id-s.\n",
    "\n",
    "song_id = input_song[\"tracks\"][\"items\"][0][\"id\"]"
   ]
  },
  {
   "cell_type": "code",
   "execution_count": 74,
   "id": "1d761b7b",
   "metadata": {},
   "outputs": [],
   "source": [
    "# Getting audio features of input song.\n",
    "\n",
    "input_song_features = sp.audio_features(input_song[\"tracks\"][\"items\"][0][\"id\"] )"
   ]
  },
  {
   "cell_type": "code",
   "execution_count": 75,
   "id": "ef42dea9",
   "metadata": {},
   "outputs": [],
   "source": [
    "# Getting only numerical data and putting it into a dataframe.\n",
    "\n",
    "input_song_features = pd.DataFrame(input_song_features)\n",
    "input_song_features_num = input_song_features._get_numeric_data()\n"
   ]
  },
  {
   "cell_type": "code",
   "execution_count": 76,
   "id": "dac015dc",
   "metadata": {},
   "outputs": [],
   "source": [
    "# Dropping unnecessary columns.\n",
    "\n",
    "input_song_features_num = input_song_features_num.drop(columns = [\"key\", \"mode\", \"time_signature\"])"
   ]
  },
  {
   "cell_type": "code",
   "execution_count": 77,
   "id": "4f1e0fcd",
   "metadata": {},
   "outputs": [
    {
     "data": {
      "text/html": [
       "<div>\n",
       "<style scoped>\n",
       "    .dataframe tbody tr th:only-of-type {\n",
       "        vertical-align: middle;\n",
       "    }\n",
       "\n",
       "    .dataframe tbody tr th {\n",
       "        vertical-align: top;\n",
       "    }\n",
       "\n",
       "    .dataframe thead th {\n",
       "        text-align: right;\n",
       "    }\n",
       "</style>\n",
       "<table border=\"1\" class=\"dataframe\">\n",
       "  <thead>\n",
       "    <tr style=\"text-align: right;\">\n",
       "      <th></th>\n",
       "      <th>danceability</th>\n",
       "      <th>energy</th>\n",
       "      <th>loudness</th>\n",
       "      <th>speechiness</th>\n",
       "      <th>acousticness</th>\n",
       "      <th>instrumentalness</th>\n",
       "      <th>liveness</th>\n",
       "      <th>valence</th>\n",
       "      <th>tempo</th>\n",
       "      <th>duration_ms</th>\n",
       "    </tr>\n",
       "  </thead>\n",
       "  <tbody>\n",
       "    <tr>\n",
       "      <th>0</th>\n",
       "      <td>0.31</td>\n",
       "      <td>0.7</td>\n",
       "      <td>-5.678</td>\n",
       "      <td>0.047</td>\n",
       "      <td>0.011</td>\n",
       "      <td>0.00965</td>\n",
       "      <td>0.0828</td>\n",
       "      <td>0.763</td>\n",
       "      <td>188.386</td>\n",
       "      <td>255493</td>\n",
       "    </tr>\n",
       "  </tbody>\n",
       "</table>\n",
       "</div>"
      ],
      "text/plain": [
       "   danceability  energy  loudness  speechiness  acousticness  \\\n",
       "0          0.31     0.7    -5.678        0.047         0.011   \n",
       "\n",
       "   instrumentalness  liveness  valence    tempo  duration_ms  \n",
       "0           0.00965    0.0828    0.763  188.386       255493  "
      ]
     },
     "execution_count": 77,
     "metadata": {},
     "output_type": "execute_result"
    }
   ],
   "source": [
    "# Checking the result.\n",
    "\n",
    "input_song_features_num"
   ]
  },
  {
   "cell_type": "code",
   "execution_count": 78,
   "id": "07c0caa0",
   "metadata": {},
   "outputs": [],
   "source": [
    "# Loading my model\n",
    "\n",
    "model = load(\"scaler.pickle\")"
   ]
  },
  {
   "cell_type": "code",
   "execution_count": 81,
   "id": "e2dcc904",
   "metadata": {},
   "outputs": [],
   "source": [
    "model_kmeans = load(\"kmeans_9.pickle\")"
   ]
  },
  {
   "cell_type": "code",
   "execution_count": 79,
   "id": "0b03da85",
   "metadata": {},
   "outputs": [],
   "source": [
    "# Scaling the audio features of input songs using the same model tranform as I used for my spotify songs.\n",
    "\n",
    "input_song_scaled = model.transform(input_song_features_num)"
   ]
  },
  {
   "cell_type": "code",
   "execution_count": 80,
   "id": "08db4235",
   "metadata": {},
   "outputs": [],
   "source": [
    "# Making a dataframe.\n",
    "\n",
    "input_song_scaled = pd.DataFrame(input_song_scaled, columns = [\"danceability\", \"energy\", \"loudness\", \"speechiness\", \"acousticness\", \"instrumentalness\", \"liveness\",\n",
    "                          \"valence\", \"tempo\", \"duration_ms\"])"
   ]
  },
  {
   "cell_type": "code",
   "execution_count": 82,
   "id": "dde7bcc3",
   "metadata": {},
   "outputs": [],
   "source": [
    "# Predicting to which cluster the input song belongs to.\n",
    "\n",
    "input_song_cluster = model_kmeans.predict(input_song_scaled)"
   ]
  },
  {
   "cell_type": "code",
   "execution_count": 83,
   "id": "9c4586ed",
   "metadata": {},
   "outputs": [
    {
     "data": {
      "text/plain": [
       "array([7], dtype=int32)"
      ]
     },
     "execution_count": 83,
     "metadata": {},
     "output_type": "execute_result"
    }
   ],
   "source": [
    "input_song_cluster"
   ]
  },
  {
   "cell_type": "markdown",
   "id": "80497664",
   "metadata": {},
   "source": [
    "#### Recommending a new song"
   ]
  },
  {
   "cell_type": "code",
   "execution_count": 22,
   "id": "53475284",
   "metadata": {},
   "outputs": [],
   "source": [
    "# Compare the cluster nr of the input song to my song df and return a new song from the same cluster nr.\n",
    "\n",
    "match_song = spotify_songs[spotify_songs[\"cluster\"] == int(input_song_cluster)]"
   ]
  },
  {
   "cell_type": "code",
   "execution_count": 23,
   "id": "a2928dd7",
   "metadata": {},
   "outputs": [],
   "source": [
    "song_suggestion = match_song.sample()"
   ]
  },
  {
   "cell_type": "code",
   "execution_count": 24,
   "id": "2aff915f",
   "metadata": {},
   "outputs": [],
   "source": [
    "# Getting the id of the input song.\n",
    "\n",
    "suggestion = song_suggestion[\"id\"].iloc[0]"
   ]
  },
  {
   "cell_type": "code",
   "execution_count": 25,
   "id": "d73bafd6",
   "metadata": {},
   "outputs": [
    {
     "data": {
      "text/plain": [
       "'5eaVYUT0pGYVGoKIaCcrfx'"
      ]
     },
     "execution_count": 25,
     "metadata": {},
     "output_type": "execute_result"
    }
   ],
   "source": [
    "suggestion"
   ]
  },
  {
   "cell_type": "code",
   "execution_count": 85,
   "id": "53fa1570",
   "metadata": {},
   "outputs": [
    {
     "data": {
      "text/html": [
       "\n",
       "        <iframe\n",
       "            width=\"320\"\n",
       "            height=\"80\"\n",
       "            src=\"https://open.spotify.com/embed/track/08mG3Y1vljYA6bvDt4Wqkj?frameborder=0&allowtransparency=true&allow=encrypted-media\"\n",
       "            frameborder=\"0\"\n",
       "            allowfullscreen\n",
       "            \n",
       "        ></iframe>\n",
       "        "
      ],
      "text/plain": [
       "<IPython.lib.display.IFrame at 0x16c984a60>"
      ]
     },
     "execution_count": 85,
     "metadata": {},
     "output_type": "execute_result"
    }
   ],
   "source": [
    "IFrame(src=\"https://open.spotify.com/embed/track/\" + song_id,\n",
    "                   width=\"320\",\n",
    "                   height=\"80\",\n",
    "                   frameborder=\"0\",\n",
    "                   allowtransparency=\"true\",\n",
    "                   allow=\"encrypted-media\",\n",
    "                  )"
   ]
  },
  {
   "cell_type": "code",
   "execution_count": null,
   "id": "be63a9af",
   "metadata": {},
   "outputs": [],
   "source": []
  }
 ],
 "metadata": {
  "kernelspec": {
   "display_name": "Python 3 (ipykernel)",
   "language": "python",
   "name": "python3"
  },
  "language_info": {
   "codemirror_mode": {
    "name": "ipython",
    "version": 3
   },
   "file_extension": ".py",
   "mimetype": "text/x-python",
   "name": "python",
   "nbconvert_exporter": "python",
   "pygments_lexer": "ipython3",
   "version": "3.10.1"
  }
 },
 "nbformat": 4,
 "nbformat_minor": 5
}
