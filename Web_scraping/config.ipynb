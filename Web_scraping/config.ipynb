{
 "cells": [
  {
   "cell_type": "markdown",
   "id": "02361641",
   "metadata": {},
   "source": [
    "c_id = \"e8df206b783b49ae930566ceb2e8144c\"\n",
    "c_se =\"b9c6ee19faf2418393431c9591473897\""
   ]
  }
 ],
 "metadata": {
  "kernelspec": {
   "display_name": "Python 3 (ipykernel)",
   "language": "python",
   "name": "python3"
  },
  "language_info": {
   "codemirror_mode": {
    "name": "ipython",
    "version": 3
   },
   "file_extension": ".py",
   "mimetype": "text/x-python",
   "name": "python",
   "nbconvert_exporter": "python",
   "pygments_lexer": "ipython3",
   "version": "3.9.7"
  }
 },
 "nbformat": 4,
 "nbformat_minor": 5
}
