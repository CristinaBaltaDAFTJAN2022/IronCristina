{
 "cells": [
  {
   "cell_type": "code",
   "execution_count": 1,
   "id": "43cf1f8e",
   "metadata": {},
   "outputs": [],
   "source": [
    "import sys"
   ]
  },
  {
   "cell_type": "markdown",
   "id": "c970fd4e",
   "metadata": {},
   "source": [
    "The first step of web scraping is to identify a website and download the html code from it."
   ]
  },
  {
   "cell_type": "markdown",
   "id": "b431d506",
   "metadata": {},
   "source": [
    "Create a function to scrape the https://www.billboard.com/charts/hot-100 songs and create a local dataframe of songs with them including:\n",
    "\n",
    "1. Song’s name\n",
    "\n",
    "2. Song’s artist\n"
   ]
  },
  {
   "cell_type": "code",
   "execution_count": null,
   "id": "78eafc01",
   "metadata": {},
   "outputs": [],
   "source": []
  }
 ],
 "metadata": {
  "kernelspec": {
   "display_name": "Python 3 (ipykernel)",
   "language": "python",
   "name": "python3"
  },
  "language_info": {
   "codemirror_mode": {
    "name": "ipython",
    "version": 3
   },
   "file_extension": ".py",
   "mimetype": "text/x-python",
   "name": "python",
   "nbconvert_exporter": "python",
   "pygments_lexer": "ipython3",
   "version": "3.9.7"
  }
 },
 "nbformat": 4,
 "nbformat_minor": 5
}
