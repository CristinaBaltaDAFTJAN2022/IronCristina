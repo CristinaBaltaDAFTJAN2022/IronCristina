{
 "cells": [
  {
   "cell_type": "markdown",
   "id": "770b8867",
   "metadata": {},
   "source": [
    "Activity 6\n",
    "\n",
    "1)X-y split.\n",
    "\n",
    "2)Normalize (numerical).\n",
    "\n",
    "3)One Hot/Label Encoding (categorical)."
   ]
  },
  {
   "cell_type": "code",
   "execution_count": 124,
   "id": "5334e193",
   "metadata": {},
   "outputs": [],
   "source": [
    "import numpy as np\n",
    "import pandas as pd\n",
    "import matplotlib.pyplot as plt\n",
    "%matplotlib inline\n",
    "import seaborn as sns\n",
    "from sklearn.preprocessing import StandardScaler\n",
    "from sklearn.preprocessing import minmax_scale\n",
    "from sklearn.preprocessing import OneHotEncoder\n",
    "from sklearn.linear_model import LinearRegression\n",
    "from sklearn.model_selection import train_test_split\n",
    "from sklearn.preprocessing import PowerTransformer\n",
    "from sklearn.linear_model import LinearRegression\n",
    "import statsmodels.api as sm\n",
    "from scipy.stats import boxcox\n",
    "from sklearn.model_selection import train_test_split\n",
    "from sklearn.metrics import r2_score\n",
    "from sklearn.metrics import mean_squared_error as mse\n",
    "from sklearn.metrics import mean_absolute_error as mae\n",
    "pd.options.display.max_rows = 50\n",
    "## Install xlrd package to load Excel files\n",
    "# conda install openpyxl\n",
    "## conda install xlrd"
   ]
  },
  {
   "cell_type": "code",
   "execution_count": 125,
   "id": "ce8ede8b",
   "metadata": {},
   "outputs": [],
   "source": [
    "import pandas as pd\n",
    "import numpy as np\n",
    "pd.set_option('display.max_rows', 200)\n",
    "## to make it possible to display multiple output inside one cell \n",
    "from IPython.core.interactiveshell import InteractiveShell\n",
    "InteractiveShell.ast_node_interactivity = \"all\""
   ]
  },
  {
   "cell_type": "code",
   "execution_count": 126,
   "id": "4468ce3f",
   "metadata": {},
   "outputs": [
    {
     "data": {
      "text/html": [
       "<div>\n",
       "<style scoped>\n",
       "    .dataframe tbody tr th:only-of-type {\n",
       "        vertical-align: middle;\n",
       "    }\n",
       "\n",
       "    .dataframe tbody tr th {\n",
       "        vertical-align: top;\n",
       "    }\n",
       "\n",
       "    .dataframe thead th {\n",
       "        text-align: right;\n",
       "    }\n",
       "</style>\n",
       "<table border=\"1\" class=\"dataframe\">\n",
       "  <thead>\n",
       "    <tr style=\"text-align: right;\">\n",
       "      <th></th>\n",
       "      <th>Unnamed: 0</th>\n",
       "      <th>Customer</th>\n",
       "      <th>State</th>\n",
       "      <th>Customer Lifetime Value</th>\n",
       "      <th>Response</th>\n",
       "      <th>Coverage</th>\n",
       "      <th>Education</th>\n",
       "      <th>Effective To Date</th>\n",
       "      <th>EmploymentStatus</th>\n",
       "      <th>Gender</th>\n",
       "      <th>...</th>\n",
       "      <th>Number of Open Complaints</th>\n",
       "      <th>Number of Policies</th>\n",
       "      <th>Policy Type</th>\n",
       "      <th>Policy</th>\n",
       "      <th>Renew Offer Type</th>\n",
       "      <th>Sales Channel</th>\n",
       "      <th>Total Claim Amount</th>\n",
       "      <th>Vehicle Class</th>\n",
       "      <th>Vehicle Size</th>\n",
       "      <th>Vehicle Type</th>\n",
       "    </tr>\n",
       "  </thead>\n",
       "  <tbody>\n",
       "    <tr>\n",
       "      <th>0</th>\n",
       "      <td>0</td>\n",
       "      <td>DK49336</td>\n",
       "      <td>Arizona</td>\n",
       "      <td>4809.216960</td>\n",
       "      <td>No</td>\n",
       "      <td>Basic</td>\n",
       "      <td>College</td>\n",
       "      <td>2/18/11</td>\n",
       "      <td>Employed</td>\n",
       "      <td>M</td>\n",
       "      <td>...</td>\n",
       "      <td>0.0</td>\n",
       "      <td>9</td>\n",
       "      <td>Corporate Auto</td>\n",
       "      <td>Corporate L3</td>\n",
       "      <td>Offer3</td>\n",
       "      <td>Agent</td>\n",
       "      <td>292.800000</td>\n",
       "      <td>Four-Door Car</td>\n",
       "      <td>Medsize</td>\n",
       "      <td>NaN</td>\n",
       "    </tr>\n",
       "    <tr>\n",
       "      <th>1</th>\n",
       "      <td>1</td>\n",
       "      <td>KX64629</td>\n",
       "      <td>California</td>\n",
       "      <td>2228.525238</td>\n",
       "      <td>No</td>\n",
       "      <td>Basic</td>\n",
       "      <td>College</td>\n",
       "      <td>1/18/11</td>\n",
       "      <td>Unemployed</td>\n",
       "      <td>F</td>\n",
       "      <td>...</td>\n",
       "      <td>0.0</td>\n",
       "      <td>1</td>\n",
       "      <td>Personal Auto</td>\n",
       "      <td>Personal L3</td>\n",
       "      <td>Offer4</td>\n",
       "      <td>Call Center</td>\n",
       "      <td>744.924331</td>\n",
       "      <td>Four-Door Car</td>\n",
       "      <td>Medsize</td>\n",
       "      <td>NaN</td>\n",
       "    </tr>\n",
       "    <tr>\n",
       "      <th>2</th>\n",
       "      <td>2</td>\n",
       "      <td>LZ68649</td>\n",
       "      <td>Washington</td>\n",
       "      <td>14947.917300</td>\n",
       "      <td>No</td>\n",
       "      <td>Basic</td>\n",
       "      <td>Bachelor</td>\n",
       "      <td>2/10/11</td>\n",
       "      <td>Employed</td>\n",
       "      <td>M</td>\n",
       "      <td>...</td>\n",
       "      <td>0.0</td>\n",
       "      <td>2</td>\n",
       "      <td>Personal Auto</td>\n",
       "      <td>Personal L3</td>\n",
       "      <td>Offer3</td>\n",
       "      <td>Call Center</td>\n",
       "      <td>480.000000</td>\n",
       "      <td>SUV</td>\n",
       "      <td>Medsize</td>\n",
       "      <td>A</td>\n",
       "    </tr>\n",
       "    <tr>\n",
       "      <th>3</th>\n",
       "      <td>3</td>\n",
       "      <td>XL78013</td>\n",
       "      <td>Oregon</td>\n",
       "      <td>22332.439460</td>\n",
       "      <td>Yes</td>\n",
       "      <td>Extended</td>\n",
       "      <td>College</td>\n",
       "      <td>1/11/11</td>\n",
       "      <td>Employed</td>\n",
       "      <td>M</td>\n",
       "      <td>...</td>\n",
       "      <td>0.0</td>\n",
       "      <td>2</td>\n",
       "      <td>Corporate Auto</td>\n",
       "      <td>Corporate L3</td>\n",
       "      <td>Offer2</td>\n",
       "      <td>Branch</td>\n",
       "      <td>484.013411</td>\n",
       "      <td>Four-Door Car</td>\n",
       "      <td>Medsize</td>\n",
       "      <td>A</td>\n",
       "    </tr>\n",
       "    <tr>\n",
       "      <th>4</th>\n",
       "      <td>4</td>\n",
       "      <td>QA50777</td>\n",
       "      <td>Oregon</td>\n",
       "      <td>9025.067525</td>\n",
       "      <td>No</td>\n",
       "      <td>Premium</td>\n",
       "      <td>Bachelor</td>\n",
       "      <td>1/17/11</td>\n",
       "      <td>Medical Leave</td>\n",
       "      <td>F</td>\n",
       "      <td>...</td>\n",
       "      <td>NaN</td>\n",
       "      <td>7</td>\n",
       "      <td>Personal Auto</td>\n",
       "      <td>Personal L2</td>\n",
       "      <td>Offer1</td>\n",
       "      <td>Branch</td>\n",
       "      <td>707.925645</td>\n",
       "      <td>Four-Door Car</td>\n",
       "      <td>Medsize</td>\n",
       "      <td>NaN</td>\n",
       "    </tr>\n",
       "    <tr>\n",
       "      <th>...</th>\n",
       "      <td>...</td>\n",
       "      <td>...</td>\n",
       "      <td>...</td>\n",
       "      <td>...</td>\n",
       "      <td>...</td>\n",
       "      <td>...</td>\n",
       "      <td>...</td>\n",
       "      <td>...</td>\n",
       "      <td>...</td>\n",
       "      <td>...</td>\n",
       "      <td>...</td>\n",
       "      <td>...</td>\n",
       "      <td>...</td>\n",
       "      <td>...</td>\n",
       "      <td>...</td>\n",
       "      <td>...</td>\n",
       "      <td>...</td>\n",
       "      <td>...</td>\n",
       "      <td>...</td>\n",
       "      <td>...</td>\n",
       "      <td>...</td>\n",
       "    </tr>\n",
       "    <tr>\n",
       "      <th>10905</th>\n",
       "      <td>10905</td>\n",
       "      <td>FE99816</td>\n",
       "      <td>Nevada</td>\n",
       "      <td>15563.369440</td>\n",
       "      <td>No</td>\n",
       "      <td>Premium</td>\n",
       "      <td>Bachelor</td>\n",
       "      <td>1/19/11</td>\n",
       "      <td>Unemployed</td>\n",
       "      <td>F</td>\n",
       "      <td>...</td>\n",
       "      <td>NaN</td>\n",
       "      <td>7</td>\n",
       "      <td>Personal Auto</td>\n",
       "      <td>Personal L1</td>\n",
       "      <td>Offer3</td>\n",
       "      <td>Web</td>\n",
       "      <td>1214.400000</td>\n",
       "      <td>Luxury Car</td>\n",
       "      <td>Medsize</td>\n",
       "      <td>A</td>\n",
       "    </tr>\n",
       "    <tr>\n",
       "      <th>10906</th>\n",
       "      <td>10906</td>\n",
       "      <td>KX53892</td>\n",
       "      <td>Oregon</td>\n",
       "      <td>5259.444853</td>\n",
       "      <td>No</td>\n",
       "      <td>Basic</td>\n",
       "      <td>College</td>\n",
       "      <td>1/6/11</td>\n",
       "      <td>Employed</td>\n",
       "      <td>F</td>\n",
       "      <td>...</td>\n",
       "      <td>0.0</td>\n",
       "      <td>6</td>\n",
       "      <td>Personal Auto</td>\n",
       "      <td>Personal L3</td>\n",
       "      <td>Offer2</td>\n",
       "      <td>Branch</td>\n",
       "      <td>273.018929</td>\n",
       "      <td>Four-Door Car</td>\n",
       "      <td>Medsize</td>\n",
       "      <td>A</td>\n",
       "    </tr>\n",
       "    <tr>\n",
       "      <th>10907</th>\n",
       "      <td>10907</td>\n",
       "      <td>TL39050</td>\n",
       "      <td>Arizona</td>\n",
       "      <td>23893.304100</td>\n",
       "      <td>No</td>\n",
       "      <td>Extended</td>\n",
       "      <td>Bachelor</td>\n",
       "      <td>2/6/11</td>\n",
       "      <td>Employed</td>\n",
       "      <td>F</td>\n",
       "      <td>...</td>\n",
       "      <td>0.0</td>\n",
       "      <td>2</td>\n",
       "      <td>Corporate Auto</td>\n",
       "      <td>Corporate L3</td>\n",
       "      <td>Offer1</td>\n",
       "      <td>Web</td>\n",
       "      <td>381.306996</td>\n",
       "      <td>Luxury SUV</td>\n",
       "      <td>Medsize</td>\n",
       "      <td>NaN</td>\n",
       "    </tr>\n",
       "    <tr>\n",
       "      <th>10908</th>\n",
       "      <td>10908</td>\n",
       "      <td>WA60547</td>\n",
       "      <td>California</td>\n",
       "      <td>11971.977650</td>\n",
       "      <td>No</td>\n",
       "      <td>Premium</td>\n",
       "      <td>College</td>\n",
       "      <td>2/13/11</td>\n",
       "      <td>Employed</td>\n",
       "      <td>F</td>\n",
       "      <td>...</td>\n",
       "      <td>4.0</td>\n",
       "      <td>6</td>\n",
       "      <td>Personal Auto</td>\n",
       "      <td>Personal L1</td>\n",
       "      <td>Offer1</td>\n",
       "      <td>Branch</td>\n",
       "      <td>618.288849</td>\n",
       "      <td>SUV</td>\n",
       "      <td>Medsize</td>\n",
       "      <td>A</td>\n",
       "    </tr>\n",
       "    <tr>\n",
       "      <th>10909</th>\n",
       "      <td>10909</td>\n",
       "      <td>IV32877</td>\n",
       "      <td>NaN</td>\n",
       "      <td>6857.519928</td>\n",
       "      <td>NaN</td>\n",
       "      <td>Basic</td>\n",
       "      <td>Bachelor</td>\n",
       "      <td>1/8/11</td>\n",
       "      <td>Unemployed</td>\n",
       "      <td>M</td>\n",
       "      <td>...</td>\n",
       "      <td>0.0</td>\n",
       "      <td>3</td>\n",
       "      <td>Personal Auto</td>\n",
       "      <td>Personal L1</td>\n",
       "      <td>Offer4</td>\n",
       "      <td>Web</td>\n",
       "      <td>1021.719397</td>\n",
       "      <td>SUV</td>\n",
       "      <td>Medsize</td>\n",
       "      <td>NaN</td>\n",
       "    </tr>\n",
       "  </tbody>\n",
       "</table>\n",
       "<p>10910 rows × 26 columns</p>\n",
       "</div>"
      ],
      "text/plain": [
       "       Unnamed: 0 Customer       State  Customer Lifetime Value Response  \\\n",
       "0               0  DK49336     Arizona              4809.216960       No   \n",
       "1               1  KX64629  California              2228.525238       No   \n",
       "2               2  LZ68649  Washington             14947.917300       No   \n",
       "3               3  XL78013      Oregon             22332.439460      Yes   \n",
       "4               4  QA50777      Oregon              9025.067525       No   \n",
       "...           ...      ...         ...                      ...      ...   \n",
       "10905       10905  FE99816      Nevada             15563.369440       No   \n",
       "10906       10906  KX53892      Oregon              5259.444853       No   \n",
       "10907       10907  TL39050     Arizona             23893.304100       No   \n",
       "10908       10908  WA60547  California             11971.977650       No   \n",
       "10909       10909  IV32877         NaN              6857.519928      NaN   \n",
       "\n",
       "       Coverage Education Effective To Date EmploymentStatus Gender  ...  \\\n",
       "0         Basic   College           2/18/11         Employed      M  ...   \n",
       "1         Basic   College           1/18/11       Unemployed      F  ...   \n",
       "2         Basic  Bachelor           2/10/11         Employed      M  ...   \n",
       "3      Extended   College           1/11/11         Employed      M  ...   \n",
       "4       Premium  Bachelor           1/17/11    Medical Leave      F  ...   \n",
       "...         ...       ...               ...              ...    ...  ...   \n",
       "10905   Premium  Bachelor           1/19/11       Unemployed      F  ...   \n",
       "10906     Basic   College            1/6/11         Employed      F  ...   \n",
       "10907  Extended  Bachelor            2/6/11         Employed      F  ...   \n",
       "10908   Premium   College           2/13/11         Employed      F  ...   \n",
       "10909     Basic  Bachelor            1/8/11       Unemployed      M  ...   \n",
       "\n",
       "       Number of Open Complaints Number of Policies     Policy Type  \\\n",
       "0                            0.0                  9  Corporate Auto   \n",
       "1                            0.0                  1   Personal Auto   \n",
       "2                            0.0                  2   Personal Auto   \n",
       "3                            0.0                  2  Corporate Auto   \n",
       "4                            NaN                  7   Personal Auto   \n",
       "...                          ...                ...             ...   \n",
       "10905                        NaN                  7   Personal Auto   \n",
       "10906                        0.0                  6   Personal Auto   \n",
       "10907                        0.0                  2  Corporate Auto   \n",
       "10908                        4.0                  6   Personal Auto   \n",
       "10909                        0.0                  3   Personal Auto   \n",
       "\n",
       "             Policy  Renew Offer Type  Sales Channel  Total Claim Amount  \\\n",
       "0      Corporate L3            Offer3          Agent          292.800000   \n",
       "1       Personal L3            Offer4    Call Center          744.924331   \n",
       "2       Personal L3            Offer3    Call Center          480.000000   \n",
       "3      Corporate L3            Offer2         Branch          484.013411   \n",
       "4       Personal L2            Offer1         Branch          707.925645   \n",
       "...             ...               ...            ...                 ...   \n",
       "10905   Personal L1            Offer3            Web         1214.400000   \n",
       "10906   Personal L3            Offer2         Branch          273.018929   \n",
       "10907  Corporate L3            Offer1            Web          381.306996   \n",
       "10908   Personal L1            Offer1         Branch          618.288849   \n",
       "10909   Personal L1            Offer4            Web         1021.719397   \n",
       "\n",
       "       Vehicle Class Vehicle Size Vehicle Type  \n",
       "0      Four-Door Car      Medsize          NaN  \n",
       "1      Four-Door Car      Medsize          NaN  \n",
       "2                SUV      Medsize            A  \n",
       "3      Four-Door Car      Medsize            A  \n",
       "4      Four-Door Car      Medsize          NaN  \n",
       "...              ...          ...          ...  \n",
       "10905     Luxury Car      Medsize            A  \n",
       "10906  Four-Door Car      Medsize            A  \n",
       "10907     Luxury SUV      Medsize          NaN  \n",
       "10908            SUV      Medsize            A  \n",
       "10909            SUV      Medsize          NaN  \n",
       "\n",
       "[10910 rows x 26 columns]"
      ]
     },
     "execution_count": 126,
     "metadata": {},
     "output_type": "execute_result"
    }
   ],
   "source": [
    "vehicles_df= pd.read_csv(\"Data_Marketing_Customer_Analysis_Round2.csv\") ## Your Code here\n",
    "\n",
    "vehicles_df"
   ]
  },
  {
   "cell_type": "code",
   "execution_count": 127,
   "id": "b6937440",
   "metadata": {},
   "outputs": [
    {
     "data": {
      "text/plain": [
       "Index(['Unnamed: 0', 'Customer', 'State', 'Customer Lifetime Value',\n",
       "       'Response', 'Coverage', 'Education', 'Effective To Date',\n",
       "       'EmploymentStatus', 'Gender', 'Income', 'Location Code',\n",
       "       'Marital Status', 'Monthly Premium Auto', 'Months Since Last Claim',\n",
       "       'Months Since Policy Inception', 'Number of Open Complaints',\n",
       "       'Number of Policies', 'Policy Type', 'Policy', 'Renew Offer Type',\n",
       "       'Sales Channel', 'Total Claim Amount', 'Vehicle Class', 'Vehicle Size',\n",
       "       'Vehicle Type'],\n",
       "      dtype='object')"
      ]
     },
     "execution_count": 127,
     "metadata": {},
     "output_type": "execute_result"
    }
   ],
   "source": [
    "vehicles_df.columns"
   ]
  },
  {
   "cell_type": "code",
   "execution_count": 128,
   "id": "a674f53d",
   "metadata": {
    "scrolled": true
   },
   "outputs": [],
   "source": [
    "X=vehicles_df.drop('Total Claim Amount', axis=1)\n",
    "y=vehicles_df['Total Claim Amount']"
   ]
  },
  {
   "cell_type": "code",
   "execution_count": 129,
   "id": "5cd0e278",
   "metadata": {},
   "outputs": [
    {
     "data": {
      "text/html": [
       "<div>\n",
       "<style scoped>\n",
       "    .dataframe tbody tr th:only-of-type {\n",
       "        vertical-align: middle;\n",
       "    }\n",
       "\n",
       "    .dataframe tbody tr th {\n",
       "        vertical-align: top;\n",
       "    }\n",
       "\n",
       "    .dataframe thead th {\n",
       "        text-align: right;\n",
       "    }\n",
       "</style>\n",
       "<table border=\"1\" class=\"dataframe\">\n",
       "  <thead>\n",
       "    <tr style=\"text-align: right;\">\n",
       "      <th></th>\n",
       "      <th>Unnamed: 0</th>\n",
       "      <th>Customer Lifetime Value</th>\n",
       "      <th>Income</th>\n",
       "      <th>Monthly Premium Auto</th>\n",
       "      <th>Months Since Last Claim</th>\n",
       "      <th>Months Since Policy Inception</th>\n",
       "      <th>Number of Open Complaints</th>\n",
       "      <th>Number of Policies</th>\n",
       "    </tr>\n",
       "  </thead>\n",
       "  <tbody>\n",
       "    <tr>\n",
       "      <th>0</th>\n",
       "      <td>0</td>\n",
       "      <td>4809.216960</td>\n",
       "      <td>48029</td>\n",
       "      <td>61</td>\n",
       "      <td>7.0</td>\n",
       "      <td>52</td>\n",
       "      <td>0.0</td>\n",
       "      <td>9</td>\n",
       "    </tr>\n",
       "    <tr>\n",
       "      <th>1</th>\n",
       "      <td>1</td>\n",
       "      <td>2228.525238</td>\n",
       "      <td>0</td>\n",
       "      <td>64</td>\n",
       "      <td>3.0</td>\n",
       "      <td>26</td>\n",
       "      <td>0.0</td>\n",
       "      <td>1</td>\n",
       "    </tr>\n",
       "    <tr>\n",
       "      <th>2</th>\n",
       "      <td>2</td>\n",
       "      <td>14947.917300</td>\n",
       "      <td>22139</td>\n",
       "      <td>100</td>\n",
       "      <td>34.0</td>\n",
       "      <td>31</td>\n",
       "      <td>0.0</td>\n",
       "      <td>2</td>\n",
       "    </tr>\n",
       "    <tr>\n",
       "      <th>3</th>\n",
       "      <td>3</td>\n",
       "      <td>22332.439460</td>\n",
       "      <td>49078</td>\n",
       "      <td>97</td>\n",
       "      <td>10.0</td>\n",
       "      <td>3</td>\n",
       "      <td>0.0</td>\n",
       "      <td>2</td>\n",
       "    </tr>\n",
       "    <tr>\n",
       "      <th>4</th>\n",
       "      <td>4</td>\n",
       "      <td>9025.067525</td>\n",
       "      <td>23675</td>\n",
       "      <td>117</td>\n",
       "      <td>NaN</td>\n",
       "      <td>31</td>\n",
       "      <td>NaN</td>\n",
       "      <td>7</td>\n",
       "    </tr>\n",
       "    <tr>\n",
       "      <th>...</th>\n",
       "      <td>...</td>\n",
       "      <td>...</td>\n",
       "      <td>...</td>\n",
       "      <td>...</td>\n",
       "      <td>...</td>\n",
       "      <td>...</td>\n",
       "      <td>...</td>\n",
       "      <td>...</td>\n",
       "    </tr>\n",
       "    <tr>\n",
       "      <th>10905</th>\n",
       "      <td>10905</td>\n",
       "      <td>15563.369440</td>\n",
       "      <td>0</td>\n",
       "      <td>253</td>\n",
       "      <td>NaN</td>\n",
       "      <td>40</td>\n",
       "      <td>NaN</td>\n",
       "      <td>7</td>\n",
       "    </tr>\n",
       "    <tr>\n",
       "      <th>10906</th>\n",
       "      <td>10906</td>\n",
       "      <td>5259.444853</td>\n",
       "      <td>61146</td>\n",
       "      <td>65</td>\n",
       "      <td>7.0</td>\n",
       "      <td>68</td>\n",
       "      <td>0.0</td>\n",
       "      <td>6</td>\n",
       "    </tr>\n",
       "    <tr>\n",
       "      <th>10907</th>\n",
       "      <td>10907</td>\n",
       "      <td>23893.304100</td>\n",
       "      <td>39837</td>\n",
       "      <td>201</td>\n",
       "      <td>11.0</td>\n",
       "      <td>63</td>\n",
       "      <td>0.0</td>\n",
       "      <td>2</td>\n",
       "    </tr>\n",
       "    <tr>\n",
       "      <th>10908</th>\n",
       "      <td>10908</td>\n",
       "      <td>11971.977650</td>\n",
       "      <td>64195</td>\n",
       "      <td>158</td>\n",
       "      <td>0.0</td>\n",
       "      <td>27</td>\n",
       "      <td>4.0</td>\n",
       "      <td>6</td>\n",
       "    </tr>\n",
       "    <tr>\n",
       "      <th>10909</th>\n",
       "      <td>10909</td>\n",
       "      <td>6857.519928</td>\n",
       "      <td>0</td>\n",
       "      <td>101</td>\n",
       "      <td>31.0</td>\n",
       "      <td>1</td>\n",
       "      <td>0.0</td>\n",
       "      <td>3</td>\n",
       "    </tr>\n",
       "  </tbody>\n",
       "</table>\n",
       "<p>10910 rows × 8 columns</p>\n",
       "</div>"
      ],
      "text/plain": [
       "       Unnamed: 0  Customer Lifetime Value  Income  Monthly Premium Auto  \\\n",
       "0               0              4809.216960   48029                    61   \n",
       "1               1              2228.525238       0                    64   \n",
       "2               2             14947.917300   22139                   100   \n",
       "3               3             22332.439460   49078                    97   \n",
       "4               4              9025.067525   23675                   117   \n",
       "...           ...                      ...     ...                   ...   \n",
       "10905       10905             15563.369440       0                   253   \n",
       "10906       10906              5259.444853   61146                    65   \n",
       "10907       10907             23893.304100   39837                   201   \n",
       "10908       10908             11971.977650   64195                   158   \n",
       "10909       10909              6857.519928       0                   101   \n",
       "\n",
       "       Months Since Last Claim  Months Since Policy Inception  \\\n",
       "0                          7.0                             52   \n",
       "1                          3.0                             26   \n",
       "2                         34.0                             31   \n",
       "3                         10.0                              3   \n",
       "4                          NaN                             31   \n",
       "...                        ...                            ...   \n",
       "10905                      NaN                             40   \n",
       "10906                      7.0                             68   \n",
       "10907                     11.0                             63   \n",
       "10908                      0.0                             27   \n",
       "10909                     31.0                              1   \n",
       "\n",
       "       Number of Open Complaints  Number of Policies  \n",
       "0                            0.0                   9  \n",
       "1                            0.0                   1  \n",
       "2                            0.0                   2  \n",
       "3                            0.0                   2  \n",
       "4                            NaN                   7  \n",
       "...                          ...                 ...  \n",
       "10905                        NaN                   7  \n",
       "10906                        0.0                   6  \n",
       "10907                        0.0                   2  \n",
       "10908                        4.0                   6  \n",
       "10909                        0.0                   3  \n",
       "\n",
       "[10910 rows x 8 columns]"
      ]
     },
     "execution_count": 129,
     "metadata": {},
     "output_type": "execute_result"
    }
   ],
   "source": [
    "X=X._get_numeric_data()\n",
    "X"
   ]
  },
  {
   "cell_type": "code",
   "execution_count": 130,
   "id": "8300f442",
   "metadata": {},
   "outputs": [
    {
     "data": {
      "text/html": [
       "<div>\n",
       "<style scoped>\n",
       "    .dataframe tbody tr th:only-of-type {\n",
       "        vertical-align: middle;\n",
       "    }\n",
       "\n",
       "    .dataframe tbody tr th {\n",
       "        vertical-align: top;\n",
       "    }\n",
       "\n",
       "    .dataframe thead th {\n",
       "        text-align: right;\n",
       "    }\n",
       "</style>\n",
       "<table border=\"1\" class=\"dataframe\">\n",
       "  <thead>\n",
       "    <tr style=\"text-align: right;\">\n",
       "      <th></th>\n",
       "      <th>Customer</th>\n",
       "      <th>State</th>\n",
       "      <th>Response</th>\n",
       "      <th>Coverage</th>\n",
       "      <th>Education</th>\n",
       "      <th>Effective To Date</th>\n",
       "      <th>EmploymentStatus</th>\n",
       "      <th>Gender</th>\n",
       "      <th>Location Code</th>\n",
       "      <th>Marital Status</th>\n",
       "      <th>Policy Type</th>\n",
       "      <th>Policy</th>\n",
       "      <th>Renew Offer Type</th>\n",
       "      <th>Sales Channel</th>\n",
       "      <th>Vehicle Class</th>\n",
       "      <th>Vehicle Size</th>\n",
       "      <th>Vehicle Type</th>\n",
       "    </tr>\n",
       "  </thead>\n",
       "  <tbody>\n",
       "    <tr>\n",
       "      <th>0</th>\n",
       "      <td>DK49336</td>\n",
       "      <td>Arizona</td>\n",
       "      <td>No</td>\n",
       "      <td>Basic</td>\n",
       "      <td>College</td>\n",
       "      <td>2/18/11</td>\n",
       "      <td>Employed</td>\n",
       "      <td>M</td>\n",
       "      <td>Suburban</td>\n",
       "      <td>Married</td>\n",
       "      <td>Corporate Auto</td>\n",
       "      <td>Corporate L3</td>\n",
       "      <td>Offer3</td>\n",
       "      <td>Agent</td>\n",
       "      <td>Four-Door Car</td>\n",
       "      <td>Medsize</td>\n",
       "      <td>NaN</td>\n",
       "    </tr>\n",
       "    <tr>\n",
       "      <th>1</th>\n",
       "      <td>KX64629</td>\n",
       "      <td>California</td>\n",
       "      <td>No</td>\n",
       "      <td>Basic</td>\n",
       "      <td>College</td>\n",
       "      <td>1/18/11</td>\n",
       "      <td>Unemployed</td>\n",
       "      <td>F</td>\n",
       "      <td>Suburban</td>\n",
       "      <td>Single</td>\n",
       "      <td>Personal Auto</td>\n",
       "      <td>Personal L3</td>\n",
       "      <td>Offer4</td>\n",
       "      <td>Call Center</td>\n",
       "      <td>Four-Door Car</td>\n",
       "      <td>Medsize</td>\n",
       "      <td>NaN</td>\n",
       "    </tr>\n",
       "    <tr>\n",
       "      <th>2</th>\n",
       "      <td>LZ68649</td>\n",
       "      <td>Washington</td>\n",
       "      <td>No</td>\n",
       "      <td>Basic</td>\n",
       "      <td>Bachelor</td>\n",
       "      <td>2/10/11</td>\n",
       "      <td>Employed</td>\n",
       "      <td>M</td>\n",
       "      <td>Suburban</td>\n",
       "      <td>Single</td>\n",
       "      <td>Personal Auto</td>\n",
       "      <td>Personal L3</td>\n",
       "      <td>Offer3</td>\n",
       "      <td>Call Center</td>\n",
       "      <td>SUV</td>\n",
       "      <td>Medsize</td>\n",
       "      <td>A</td>\n",
       "    </tr>\n",
       "    <tr>\n",
       "      <th>3</th>\n",
       "      <td>XL78013</td>\n",
       "      <td>Oregon</td>\n",
       "      <td>Yes</td>\n",
       "      <td>Extended</td>\n",
       "      <td>College</td>\n",
       "      <td>1/11/11</td>\n",
       "      <td>Employed</td>\n",
       "      <td>M</td>\n",
       "      <td>Suburban</td>\n",
       "      <td>Single</td>\n",
       "      <td>Corporate Auto</td>\n",
       "      <td>Corporate L3</td>\n",
       "      <td>Offer2</td>\n",
       "      <td>Branch</td>\n",
       "      <td>Four-Door Car</td>\n",
       "      <td>Medsize</td>\n",
       "      <td>A</td>\n",
       "    </tr>\n",
       "    <tr>\n",
       "      <th>4</th>\n",
       "      <td>QA50777</td>\n",
       "      <td>Oregon</td>\n",
       "      <td>No</td>\n",
       "      <td>Premium</td>\n",
       "      <td>Bachelor</td>\n",
       "      <td>1/17/11</td>\n",
       "      <td>Medical Leave</td>\n",
       "      <td>F</td>\n",
       "      <td>Suburban</td>\n",
       "      <td>Married</td>\n",
       "      <td>Personal Auto</td>\n",
       "      <td>Personal L2</td>\n",
       "      <td>Offer1</td>\n",
       "      <td>Branch</td>\n",
       "      <td>Four-Door Car</td>\n",
       "      <td>Medsize</td>\n",
       "      <td>NaN</td>\n",
       "    </tr>\n",
       "    <tr>\n",
       "      <th>...</th>\n",
       "      <td>...</td>\n",
       "      <td>...</td>\n",
       "      <td>...</td>\n",
       "      <td>...</td>\n",
       "      <td>...</td>\n",
       "      <td>...</td>\n",
       "      <td>...</td>\n",
       "      <td>...</td>\n",
       "      <td>...</td>\n",
       "      <td>...</td>\n",
       "      <td>...</td>\n",
       "      <td>...</td>\n",
       "      <td>...</td>\n",
       "      <td>...</td>\n",
       "      <td>...</td>\n",
       "      <td>...</td>\n",
       "      <td>...</td>\n",
       "    </tr>\n",
       "    <tr>\n",
       "      <th>10905</th>\n",
       "      <td>FE99816</td>\n",
       "      <td>Nevada</td>\n",
       "      <td>No</td>\n",
       "      <td>Premium</td>\n",
       "      <td>Bachelor</td>\n",
       "      <td>1/19/11</td>\n",
       "      <td>Unemployed</td>\n",
       "      <td>F</td>\n",
       "      <td>Suburban</td>\n",
       "      <td>Married</td>\n",
       "      <td>Personal Auto</td>\n",
       "      <td>Personal L1</td>\n",
       "      <td>Offer3</td>\n",
       "      <td>Web</td>\n",
       "      <td>Luxury Car</td>\n",
       "      <td>Medsize</td>\n",
       "      <td>A</td>\n",
       "    </tr>\n",
       "    <tr>\n",
       "      <th>10906</th>\n",
       "      <td>KX53892</td>\n",
       "      <td>Oregon</td>\n",
       "      <td>No</td>\n",
       "      <td>Basic</td>\n",
       "      <td>College</td>\n",
       "      <td>1/6/11</td>\n",
       "      <td>Employed</td>\n",
       "      <td>F</td>\n",
       "      <td>Urban</td>\n",
       "      <td>Married</td>\n",
       "      <td>Personal Auto</td>\n",
       "      <td>Personal L3</td>\n",
       "      <td>Offer2</td>\n",
       "      <td>Branch</td>\n",
       "      <td>Four-Door Car</td>\n",
       "      <td>Medsize</td>\n",
       "      <td>A</td>\n",
       "    </tr>\n",
       "    <tr>\n",
       "      <th>10907</th>\n",
       "      <td>TL39050</td>\n",
       "      <td>Arizona</td>\n",
       "      <td>No</td>\n",
       "      <td>Extended</td>\n",
       "      <td>Bachelor</td>\n",
       "      <td>2/6/11</td>\n",
       "      <td>Employed</td>\n",
       "      <td>F</td>\n",
       "      <td>Rural</td>\n",
       "      <td>Married</td>\n",
       "      <td>Corporate Auto</td>\n",
       "      <td>Corporate L3</td>\n",
       "      <td>Offer1</td>\n",
       "      <td>Web</td>\n",
       "      <td>Luxury SUV</td>\n",
       "      <td>Medsize</td>\n",
       "      <td>NaN</td>\n",
       "    </tr>\n",
       "    <tr>\n",
       "      <th>10908</th>\n",
       "      <td>WA60547</td>\n",
       "      <td>California</td>\n",
       "      <td>No</td>\n",
       "      <td>Premium</td>\n",
       "      <td>College</td>\n",
       "      <td>2/13/11</td>\n",
       "      <td>Employed</td>\n",
       "      <td>F</td>\n",
       "      <td>Urban</td>\n",
       "      <td>Divorced</td>\n",
       "      <td>Personal Auto</td>\n",
       "      <td>Personal L1</td>\n",
       "      <td>Offer1</td>\n",
       "      <td>Branch</td>\n",
       "      <td>SUV</td>\n",
       "      <td>Medsize</td>\n",
       "      <td>A</td>\n",
       "    </tr>\n",
       "    <tr>\n",
       "      <th>10909</th>\n",
       "      <td>IV32877</td>\n",
       "      <td>NaN</td>\n",
       "      <td>NaN</td>\n",
       "      <td>Basic</td>\n",
       "      <td>Bachelor</td>\n",
       "      <td>1/8/11</td>\n",
       "      <td>Unemployed</td>\n",
       "      <td>M</td>\n",
       "      <td>Suburban</td>\n",
       "      <td>Single</td>\n",
       "      <td>Personal Auto</td>\n",
       "      <td>Personal L1</td>\n",
       "      <td>Offer4</td>\n",
       "      <td>Web</td>\n",
       "      <td>SUV</td>\n",
       "      <td>Medsize</td>\n",
       "      <td>NaN</td>\n",
       "    </tr>\n",
       "  </tbody>\n",
       "</table>\n",
       "<p>10910 rows × 17 columns</p>\n",
       "</div>"
      ],
      "text/plain": [
       "      Customer       State Response  Coverage Education Effective To Date  \\\n",
       "0      DK49336     Arizona       No     Basic   College           2/18/11   \n",
       "1      KX64629  California       No     Basic   College           1/18/11   \n",
       "2      LZ68649  Washington       No     Basic  Bachelor           2/10/11   \n",
       "3      XL78013      Oregon      Yes  Extended   College           1/11/11   \n",
       "4      QA50777      Oregon       No   Premium  Bachelor           1/17/11   \n",
       "...        ...         ...      ...       ...       ...               ...   \n",
       "10905  FE99816      Nevada       No   Premium  Bachelor           1/19/11   \n",
       "10906  KX53892      Oregon       No     Basic   College            1/6/11   \n",
       "10907  TL39050     Arizona       No  Extended  Bachelor            2/6/11   \n",
       "10908  WA60547  California       No   Premium   College           2/13/11   \n",
       "10909  IV32877         NaN      NaN     Basic  Bachelor            1/8/11   \n",
       "\n",
       "      EmploymentStatus Gender Location Code Marital Status     Policy Type  \\\n",
       "0             Employed      M      Suburban        Married  Corporate Auto   \n",
       "1           Unemployed      F      Suburban         Single   Personal Auto   \n",
       "2             Employed      M      Suburban         Single   Personal Auto   \n",
       "3             Employed      M      Suburban         Single  Corporate Auto   \n",
       "4        Medical Leave      F      Suburban        Married   Personal Auto   \n",
       "...                ...    ...           ...            ...             ...   \n",
       "10905       Unemployed      F      Suburban        Married   Personal Auto   \n",
       "10906         Employed      F         Urban        Married   Personal Auto   \n",
       "10907         Employed      F         Rural        Married  Corporate Auto   \n",
       "10908         Employed      F         Urban       Divorced   Personal Auto   \n",
       "10909       Unemployed      M      Suburban         Single   Personal Auto   \n",
       "\n",
       "             Policy Renew Offer Type Sales Channel  Vehicle Class  \\\n",
       "0      Corporate L3           Offer3         Agent  Four-Door Car   \n",
       "1       Personal L3           Offer4   Call Center  Four-Door Car   \n",
       "2       Personal L3           Offer3   Call Center            SUV   \n",
       "3      Corporate L3           Offer2        Branch  Four-Door Car   \n",
       "4       Personal L2           Offer1        Branch  Four-Door Car   \n",
       "...             ...              ...           ...            ...   \n",
       "10905   Personal L1           Offer3           Web     Luxury Car   \n",
       "10906   Personal L3           Offer2        Branch  Four-Door Car   \n",
       "10907  Corporate L3           Offer1           Web     Luxury SUV   \n",
       "10908   Personal L1           Offer1        Branch            SUV   \n",
       "10909   Personal L1           Offer4           Web            SUV   \n",
       "\n",
       "      Vehicle Size Vehicle Type  \n",
       "0          Medsize          NaN  \n",
       "1          Medsize          NaN  \n",
       "2          Medsize            A  \n",
       "3          Medsize            A  \n",
       "4          Medsize          NaN  \n",
       "...            ...          ...  \n",
       "10905      Medsize            A  \n",
       "10906      Medsize            A  \n",
       "10907      Medsize          NaN  \n",
       "10908      Medsize            A  \n",
       "10909      Medsize          NaN  \n",
       "\n",
       "[10910 rows x 17 columns]"
      ]
     },
     "execution_count": 130,
     "metadata": {},
     "output_type": "execute_result"
    }
   ],
   "source": [
    "categoricals_features= vehicles_df.select_dtypes(\"object\")\n",
    "categoricals_features"
   ]
  },
  {
   "cell_type": "code",
   "execution_count": 131,
   "id": "3549b44f",
   "metadata": {},
   "outputs": [
    {
     "data": {
      "text/plain": [
       "California    3552\n",
       "Oregon        2909\n",
       "Arizona       1937\n",
       "Nevada         993\n",
       "Washington     888\n",
       "Name: State, dtype: int64"
      ]
     },
     "execution_count": 131,
     "metadata": {},
     "output_type": "execute_result"
    },
    {
     "data": {
      "text/plain": [
       "No     8813\n",
       "Yes    1466\n",
       "Name: Response, dtype: int64"
      ]
     },
     "execution_count": 131,
     "metadata": {},
     "output_type": "execute_result"
    },
    {
     "data": {
      "text/plain": [
       "Basic       6660\n",
       "Extended    3265\n",
       "Premium      985\n",
       "Name: Coverage, dtype: int64"
      ]
     },
     "execution_count": 131,
     "metadata": {},
     "output_type": "execute_result"
    },
    {
     "data": {
      "text/plain": [
       "Bachelor                3272\n",
       "College                 3204\n",
       "High School or Below    3146\n",
       "Master                   887\n",
       "Doctor                   401\n",
       "Name: Education, dtype: int64"
      ]
     },
     "execution_count": 131,
     "metadata": {},
     "output_type": "execute_result"
    },
    {
     "data": {
      "text/plain": [
       "Employed         6789\n",
       "Unemployed       2787\n",
       "Medical Leave     504\n",
       "Disabled          499\n",
       "Retired           331\n",
       "Name: EmploymentStatus, dtype: int64"
      ]
     },
     "execution_count": 131,
     "metadata": {},
     "output_type": "execute_result"
    },
    {
     "data": {
      "text/plain": [
       "F    5573\n",
       "M    5337\n",
       "Name: Gender, dtype: int64"
      ]
     },
     "execution_count": 131,
     "metadata": {},
     "output_type": "execute_result"
    },
    {
     "data": {
      "text/plain": [
       "Suburban    6902\n",
       "Rural       2116\n",
       "Urban       1892\n",
       "Name: Location Code, dtype: int64"
      ]
     },
     "execution_count": 131,
     "metadata": {},
     "output_type": "execute_result"
    },
    {
     "data": {
      "text/plain": [
       "Married     6319\n",
       "Single      2958\n",
       "Divorced    1633\n",
       "Name: Marital Status, dtype: int64"
      ]
     },
     "execution_count": 131,
     "metadata": {},
     "output_type": "execute_result"
    },
    {
     "data": {
      "text/plain": [
       "Personal Auto     8128\n",
       "Corporate Auto    2341\n",
       "Special Auto       441\n",
       "Name: Policy Type, dtype: int64"
      ]
     },
     "execution_count": 131,
     "metadata": {},
     "output_type": "execute_result"
    },
    {
     "data": {
      "text/plain": [
       "Personal L3     4118\n",
       "Personal L2     2537\n",
       "Personal L1     1473\n",
       "Corporate L3    1221\n",
       "Corporate L2     688\n",
       "Corporate L1     432\n",
       "Special L2       193\n",
       "Special L3       170\n",
       "Special L1        78\n",
       "Name: Policy, dtype: int64"
      ]
     },
     "execution_count": 131,
     "metadata": {},
     "output_type": "execute_result"
    },
    {
     "data": {
      "text/plain": [
       "Offer1    4483\n",
       "Offer2    3490\n",
       "Offer3    1732\n",
       "Offer4    1205\n",
       "Name: Renew Offer Type, dtype: int64"
      ]
     },
     "execution_count": 131,
     "metadata": {},
     "output_type": "execute_result"
    },
    {
     "data": {
      "text/plain": [
       "Agent          4121\n",
       "Branch         3022\n",
       "Call Center    2141\n",
       "Web            1626\n",
       "Name: Sales Channel, dtype: int64"
      ]
     },
     "execution_count": 131,
     "metadata": {},
     "output_type": "execute_result"
    },
    {
     "data": {
      "text/plain": [
       "Four-Door Car    5212\n",
       "Two-Door Car     2118\n",
       "SUV              2012\n",
       "Sports Car        550\n",
       "Luxury SUV        208\n",
       "Luxury Car        188\n",
       "Name: Vehicle Class, dtype: int64"
      ]
     },
     "execution_count": 131,
     "metadata": {},
     "output_type": "execute_result"
    },
    {
     "data": {
      "text/plain": [
       "Medsize    7251\n",
       "Small      1966\n",
       "Large      1071\n",
       "Name: Vehicle Size, dtype: int64"
      ]
     },
     "execution_count": 131,
     "metadata": {},
     "output_type": "execute_result"
    },
    {
     "data": {
      "text/plain": [
       "A    5428\n",
       "Name: Vehicle Type, dtype: int64"
      ]
     },
     "execution_count": 131,
     "metadata": {},
     "output_type": "execute_result"
    }
   ],
   "source": [
    "vehicles_df.State.value_counts()\n",
    "vehicles_df.Response.value_counts()\n",
    "vehicles_df.Coverage.value_counts()\n",
    "vehicles_df.Education.value_counts()\n",
    "vehicles_df[\"EmploymentStatus\"].value_counts()\n",
    "vehicles_df.Gender.value_counts()\n",
    "vehicles_df[\"Location Code\"].value_counts()\n",
    "vehicles_df[\"Marital Status\"].value_counts()\n",
    "vehicles_df[\"Policy Type\"].value_counts()\n",
    "vehicles_df.Policy.value_counts()\n",
    "vehicles_df[\"Renew Offer Type\"].value_counts()\n",
    "vehicles_df[\"Sales Channel\"].value_counts()\n",
    "vehicles_df[\"Vehicle Class\"].value_counts()\n",
    "vehicles_df[\"Vehicle Size\"].value_counts()\n",
    "vehicles_df[\"Vehicle Type\"].value_counts()"
   ]
  },
  {
   "cell_type": "code",
   "execution_count": 132,
   "id": "6c5a2a92",
   "metadata": {},
   "outputs": [],
   "source": [
    "categorical_cols=pd.get_dummies(categoricals_features[\"State\"])"
   ]
  },
  {
   "cell_type": "code",
   "execution_count": 133,
   "id": "f556dc3e",
   "metadata": {},
   "outputs": [],
   "source": [
    "categorical_cols=pd.get_dummies(categoricals_features[\"Response\"])"
   ]
  },
  {
   "cell_type": "code",
   "execution_count": 134,
   "id": "d1eb202b",
   "metadata": {},
   "outputs": [],
   "source": [
    "categorical_cols=pd.get_dummies(categoricals_features[\"Coverage\"])"
   ]
  },
  {
   "cell_type": "code",
   "execution_count": 135,
   "id": "6e972555",
   "metadata": {},
   "outputs": [],
   "source": [
    "categorical_cols=pd.get_dummies(categoricals_features[\"Education\"])"
   ]
  },
  {
   "cell_type": "code",
   "execution_count": 136,
   "id": "4ce7ae91",
   "metadata": {},
   "outputs": [],
   "source": [
    "categorical_cols=pd.get_dummies(categoricals_features[\"EmploymentStatus\"])"
   ]
  },
  {
   "cell_type": "code",
   "execution_count": 137,
   "id": "1f15ec83",
   "metadata": {},
   "outputs": [],
   "source": [
    "categorical_cols=pd.get_dummies(categoricals_features[\"Gender\"],drop_first=True)"
   ]
  },
  {
   "cell_type": "code",
   "execution_count": 138,
   "id": "c596dfbe",
   "metadata": {},
   "outputs": [],
   "source": [
    "categorical_cols=pd.get_dummies(categoricals_features[\"Location Code\"])"
   ]
  },
  {
   "cell_type": "code",
   "execution_count": 139,
   "id": "fef39a94",
   "metadata": {},
   "outputs": [],
   "source": [
    "categorical_cols=pd.get_dummies(categoricals_features[\"Marital Status\"])"
   ]
  },
  {
   "cell_type": "code",
   "execution_count": 140,
   "id": "71170ed3",
   "metadata": {},
   "outputs": [],
   "source": [
    "categorical_cols=pd.get_dummies(categoricals_features[\"Policy Type\"])"
   ]
  },
  {
   "cell_type": "code",
   "execution_count": 141,
   "id": "b96f9c72",
   "metadata": {},
   "outputs": [],
   "source": [
    "categorical_cols=pd.get_dummies(categoricals_features[\"Renew Offer Type\"])"
   ]
  },
  {
   "cell_type": "code",
   "execution_count": 142,
   "id": "ea77687f",
   "metadata": {},
   "outputs": [],
   "source": [
    "categorical_cols=pd.get_dummies(categoricals_features[\"Sales Channel\"])"
   ]
  },
  {
   "cell_type": "code",
   "execution_count": 143,
   "id": "a173a58e",
   "metadata": {},
   "outputs": [],
   "source": [
    "categorical_cols=pd.get_dummies(categoricals_features[\"Vehicle Class\"])"
   ]
  },
  {
   "cell_type": "code",
   "execution_count": 144,
   "id": "6b80558b",
   "metadata": {},
   "outputs": [],
   "source": [
    "categorical_cols=pd.get_dummies(categoricals_features[\"Vehicle Size\"])"
   ]
  },
  {
   "cell_type": "code",
   "execution_count": 145,
   "id": "933a90a3",
   "metadata": {},
   "outputs": [],
   "source": [
    "categorical_cols=pd.get_dummies(categoricals_features[\"Vehicle Type\"])"
   ]
  },
  {
   "cell_type": "code",
   "execution_count": 149,
   "id": "e7dd2547",
   "metadata": {},
   "outputs": [],
   "source": [
    "X=X.append(categorical_cols, ignore_index=True)"
   ]
  },
  {
   "cell_type": "code",
   "execution_count": 150,
   "id": "af60c49f",
   "metadata": {},
   "outputs": [
    {
     "data": {
      "text/html": [
       "<div>\n",
       "<style scoped>\n",
       "    .dataframe tbody tr th:only-of-type {\n",
       "        vertical-align: middle;\n",
       "    }\n",
       "\n",
       "    .dataframe tbody tr th {\n",
       "        vertical-align: top;\n",
       "    }\n",
       "\n",
       "    .dataframe thead th {\n",
       "        text-align: right;\n",
       "    }\n",
       "</style>\n",
       "<table border=\"1\" class=\"dataframe\">\n",
       "  <thead>\n",
       "    <tr style=\"text-align: right;\">\n",
       "      <th></th>\n",
       "      <th>Unnamed: 0</th>\n",
       "      <th>Customer Lifetime Value</th>\n",
       "      <th>Income</th>\n",
       "      <th>Monthly Premium Auto</th>\n",
       "      <th>Months Since Last Claim</th>\n",
       "      <th>Months Since Policy Inception</th>\n",
       "      <th>Number of Open Complaints</th>\n",
       "      <th>Number of Policies</th>\n",
       "      <th>A</th>\n",
       "    </tr>\n",
       "  </thead>\n",
       "  <tbody>\n",
       "    <tr>\n",
       "      <th>0</th>\n",
       "      <td>0.0</td>\n",
       "      <td>4809.216960</td>\n",
       "      <td>48029.0</td>\n",
       "      <td>61.0</td>\n",
       "      <td>7.0</td>\n",
       "      <td>52.0</td>\n",
       "      <td>0.0</td>\n",
       "      <td>9.0</td>\n",
       "      <td>NaN</td>\n",
       "    </tr>\n",
       "    <tr>\n",
       "      <th>1</th>\n",
       "      <td>1.0</td>\n",
       "      <td>2228.525238</td>\n",
       "      <td>0.0</td>\n",
       "      <td>64.0</td>\n",
       "      <td>3.0</td>\n",
       "      <td>26.0</td>\n",
       "      <td>0.0</td>\n",
       "      <td>1.0</td>\n",
       "      <td>NaN</td>\n",
       "    </tr>\n",
       "    <tr>\n",
       "      <th>2</th>\n",
       "      <td>2.0</td>\n",
       "      <td>14947.917300</td>\n",
       "      <td>22139.0</td>\n",
       "      <td>100.0</td>\n",
       "      <td>34.0</td>\n",
       "      <td>31.0</td>\n",
       "      <td>0.0</td>\n",
       "      <td>2.0</td>\n",
       "      <td>NaN</td>\n",
       "    </tr>\n",
       "    <tr>\n",
       "      <th>3</th>\n",
       "      <td>3.0</td>\n",
       "      <td>22332.439460</td>\n",
       "      <td>49078.0</td>\n",
       "      <td>97.0</td>\n",
       "      <td>10.0</td>\n",
       "      <td>3.0</td>\n",
       "      <td>0.0</td>\n",
       "      <td>2.0</td>\n",
       "      <td>NaN</td>\n",
       "    </tr>\n",
       "    <tr>\n",
       "      <th>4</th>\n",
       "      <td>4.0</td>\n",
       "      <td>9025.067525</td>\n",
       "      <td>23675.0</td>\n",
       "      <td>117.0</td>\n",
       "      <td>NaN</td>\n",
       "      <td>31.0</td>\n",
       "      <td>NaN</td>\n",
       "      <td>7.0</td>\n",
       "      <td>NaN</td>\n",
       "    </tr>\n",
       "    <tr>\n",
       "      <th>...</th>\n",
       "      <td>...</td>\n",
       "      <td>...</td>\n",
       "      <td>...</td>\n",
       "      <td>...</td>\n",
       "      <td>...</td>\n",
       "      <td>...</td>\n",
       "      <td>...</td>\n",
       "      <td>...</td>\n",
       "      <td>...</td>\n",
       "    </tr>\n",
       "    <tr>\n",
       "      <th>21815</th>\n",
       "      <td>NaN</td>\n",
       "      <td>NaN</td>\n",
       "      <td>NaN</td>\n",
       "      <td>NaN</td>\n",
       "      <td>NaN</td>\n",
       "      <td>NaN</td>\n",
       "      <td>NaN</td>\n",
       "      <td>NaN</td>\n",
       "      <td>1.0</td>\n",
       "    </tr>\n",
       "    <tr>\n",
       "      <th>21816</th>\n",
       "      <td>NaN</td>\n",
       "      <td>NaN</td>\n",
       "      <td>NaN</td>\n",
       "      <td>NaN</td>\n",
       "      <td>NaN</td>\n",
       "      <td>NaN</td>\n",
       "      <td>NaN</td>\n",
       "      <td>NaN</td>\n",
       "      <td>1.0</td>\n",
       "    </tr>\n",
       "    <tr>\n",
       "      <th>21817</th>\n",
       "      <td>NaN</td>\n",
       "      <td>NaN</td>\n",
       "      <td>NaN</td>\n",
       "      <td>NaN</td>\n",
       "      <td>NaN</td>\n",
       "      <td>NaN</td>\n",
       "      <td>NaN</td>\n",
       "      <td>NaN</td>\n",
       "      <td>0.0</td>\n",
       "    </tr>\n",
       "    <tr>\n",
       "      <th>21818</th>\n",
       "      <td>NaN</td>\n",
       "      <td>NaN</td>\n",
       "      <td>NaN</td>\n",
       "      <td>NaN</td>\n",
       "      <td>NaN</td>\n",
       "      <td>NaN</td>\n",
       "      <td>NaN</td>\n",
       "      <td>NaN</td>\n",
       "      <td>1.0</td>\n",
       "    </tr>\n",
       "    <tr>\n",
       "      <th>21819</th>\n",
       "      <td>NaN</td>\n",
       "      <td>NaN</td>\n",
       "      <td>NaN</td>\n",
       "      <td>NaN</td>\n",
       "      <td>NaN</td>\n",
       "      <td>NaN</td>\n",
       "      <td>NaN</td>\n",
       "      <td>NaN</td>\n",
       "      <td>0.0</td>\n",
       "    </tr>\n",
       "  </tbody>\n",
       "</table>\n",
       "<p>21820 rows × 9 columns</p>\n",
       "</div>"
      ],
      "text/plain": [
       "       Unnamed: 0  Customer Lifetime Value   Income  Monthly Premium Auto  \\\n",
       "0             0.0              4809.216960  48029.0                  61.0   \n",
       "1             1.0              2228.525238      0.0                  64.0   \n",
       "2             2.0             14947.917300  22139.0                 100.0   \n",
       "3             3.0             22332.439460  49078.0                  97.0   \n",
       "4             4.0              9025.067525  23675.0                 117.0   \n",
       "...           ...                      ...      ...                   ...   \n",
       "21815         NaN                      NaN      NaN                   NaN   \n",
       "21816         NaN                      NaN      NaN                   NaN   \n",
       "21817         NaN                      NaN      NaN                   NaN   \n",
       "21818         NaN                      NaN      NaN                   NaN   \n",
       "21819         NaN                      NaN      NaN                   NaN   \n",
       "\n",
       "       Months Since Last Claim  Months Since Policy Inception  \\\n",
       "0                          7.0                           52.0   \n",
       "1                          3.0                           26.0   \n",
       "2                         34.0                           31.0   \n",
       "3                         10.0                            3.0   \n",
       "4                          NaN                           31.0   \n",
       "...                        ...                            ...   \n",
       "21815                      NaN                            NaN   \n",
       "21816                      NaN                            NaN   \n",
       "21817                      NaN                            NaN   \n",
       "21818                      NaN                            NaN   \n",
       "21819                      NaN                            NaN   \n",
       "\n",
       "       Number of Open Complaints  Number of Policies    A  \n",
       "0                            0.0                 9.0  NaN  \n",
       "1                            0.0                 1.0  NaN  \n",
       "2                            0.0                 2.0  NaN  \n",
       "3                            0.0                 2.0  NaN  \n",
       "4                            NaN                 7.0  NaN  \n",
       "...                          ...                 ...  ...  \n",
       "21815                        NaN                 NaN  1.0  \n",
       "21816                        NaN                 NaN  1.0  \n",
       "21817                        NaN                 NaN  0.0  \n",
       "21818                        NaN                 NaN  1.0  \n",
       "21819                        NaN                 NaN  0.0  \n",
       "\n",
       "[21820 rows x 9 columns]"
      ]
     },
     "execution_count": 150,
     "metadata": {},
     "output_type": "execute_result"
    }
   ],
   "source": [
    "X=X._get_numeric_data()\n",
    "X"
   ]
  },
  {
   "cell_type": "code",
   "execution_count": 151,
   "id": "e68cdb21",
   "metadata": {},
   "outputs": [
    {
     "data": {
      "text/plain": [
       "array([[<AxesSubplot:title={'center':'Unnamed: 0'}>,\n",
       "        <AxesSubplot:title={'center':'Customer Lifetime Value'}>,\n",
       "        <AxesSubplot:title={'center':'Income'}>],\n",
       "       [<AxesSubplot:title={'center':'Monthly Premium Auto'}>,\n",
       "        <AxesSubplot:title={'center':'Months Since Last Claim'}>,\n",
       "        <AxesSubplot:title={'center':'Months Since Policy Inception'}>],\n",
       "       [<AxesSubplot:title={'center':'Number of Open Complaints'}>,\n",
       "        <AxesSubplot:title={'center':'Number of Policies'}>,\n",
       "        <AxesSubplot:title={'center':'A'}>]], dtype=object)"
      ]
     },
     "execution_count": 151,
     "metadata": {},
     "output_type": "execute_result"
    },
    {
     "data": {
      "image/png": "[encoded data removed]",
      "text/plain": [
       "<Figure size 1008x1008 with 9 Axes>"
      ]
     },
     "metadata": {
      "needs_background": "light"
     },
     "output_type": "display_data"
    }
   ],
   "source": [
    "X.hist(figsize=(14,14))"
   ]
  },
  {
   "cell_type": "code",
   "execution_count": 152,
   "id": "8bbff8d2",
   "metadata": {},
   "outputs": [
    {
     "name": "stderr",
     "output_type": "stream",
     "text": [
      "/Users/cristina/opt/anaconda3/envs/DA_Env/lib/python3.9/site-packages/seaborn/distributions.py:2551: FutureWarning: `distplot` is a deprecated function and will be removed in a future version. Please adapt your code to use either `displot` (a figure-level function with similar flexibility) or `histplot` (an axes-level function for histograms).\n",
      "  warnings.warn(msg, FutureWarning)\n"
     ]
    },
    {
     "data": {
      "text/plain": [
       "<AxesSubplot:xlabel='Customer Lifetime Value', ylabel='Density'>"
      ]
     },
     "execution_count": 152,
     "metadata": {},
     "output_type": "execute_result"
    },
    {
     "data": {
      "image/png": "[encoded data removed]",
      "text/plain": [
       "<Figure size 432x288 with 1 Axes>"
      ]
     },
     "metadata": {
      "needs_background": "light"
     },
     "output_type": "display_data"
    }
   ],
   "source": [
    "sns.distplot((vehicles_df[\"Customer Lifetime Value\"]), bins=20)"
   ]
  },
  {
   "cell_type": "code",
   "execution_count": null,
   "id": "f443d675",
   "metadata": {},
   "outputs": [],
   "source": []
  },
  {
   "cell_type": "code",
   "execution_count": 155,
   "id": "16826c3f",
   "metadata": {},
   "outputs": [
    {
     "name": "stderr",
     "output_type": "stream",
     "text": [
      "/Users/cristina/opt/anaconda3/envs/DA_Env/lib/python3.9/site-packages/seaborn/distributions.py:2551: FutureWarning: `distplot` is a deprecated function and will be removed in a future version. Please adapt your code to use either `displot` (a figure-level function with similar flexibility) or `histplot` (an axes-level function for histograms).\n",
      "  warnings.warn(msg, FutureWarning)\n"
     ]
    },
    {
     "data": {
      "text/plain": [
       "<AxesSubplot:xlabel='Income', ylabel='Density'>"
      ]
     },
     "execution_count": 155,
     "metadata": {},
     "output_type": "execute_result"
    },
    {
     "data": {
      "image/png": "[encoded data removed]",
      "text/plain": [
       "<Figure size 432x288 with 1 Axes>"
      ]
     },
     "metadata": {
      "needs_background": "light"
     },
     "output_type": "display_data"
    }
   ],
   "source": [
    "sns.distplot((vehicles_df[\"Income\"]), bins=20)"
   ]
  },
  {
   "cell_type": "code",
   "execution_count": 154,
   "id": "73d5b450",
   "metadata": {},
   "outputs": [
    {
     "name": "stderr",
     "output_type": "stream",
     "text": [
      "/Users/cristina/opt/anaconda3/envs/DA_Env/lib/python3.9/site-packages/seaborn/distributions.py:2551: FutureWarning: `distplot` is a deprecated function and will be removed in a future version. Please adapt your code to use either `displot` (a figure-level function with similar flexibility) or `histplot` (an axes-level function for histograms).\n",
      "  warnings.warn(msg, FutureWarning)\n"
     ]
    },
    {
     "data": {
      "text/plain": [
       "<AxesSubplot:xlabel='Monthly Premium Auto', ylabel='Density'>"
      ]
     },
     "execution_count": 154,
     "metadata": {},
     "output_type": "execute_result"
    },
    {
     "data": {
      "image/png": "[encoded data removed]",
      "text/plain": [
       "<Figure size 432x288 with 1 Axes>"
      ]
     },
     "metadata": {
      "needs_background": "light"
     },
     "output_type": "display_data"
    }
   ],
   "source": [
    "sns.distplot((vehicles_df[\"Monthly Premium Auto\"]), bins=20)"
   ]
  },
  {
   "cell_type": "code",
   "execution_count": 156,
   "id": "b22f7591",
   "metadata": {},
   "outputs": [
    {
     "name": "stderr",
     "output_type": "stream",
     "text": [
      "/Users/cristina/opt/anaconda3/envs/DA_Env/lib/python3.9/site-packages/seaborn/distributions.py:2551: FutureWarning: `distplot` is a deprecated function and will be removed in a future version. Please adapt your code to use either `displot` (a figure-level function with similar flexibility) or `histplot` (an axes-level function for histograms).\n",
      "  warnings.warn(msg, FutureWarning)\n"
     ]
    },
    {
     "data": {
      "text/plain": [
       "<AxesSubplot:xlabel='Months Since Last Claim', ylabel='Density'>"
      ]
     },
     "execution_count": 156,
     "metadata": {},
     "output_type": "execute_result"
    },
    {
     "data": {
      "image/png": "[encoded data removed]",
      "text/plain": [
       "<Figure size 432x288 with 1 Axes>"
      ]
     },
     "metadata": {
      "needs_background": "light"
     },
     "output_type": "display_data"
    }
   ],
   "source": [
    "sns.distplot((vehicles_df[\"Months Since Last Claim\"]), bins=20)"
   ]
  },
  {
   "cell_type": "code",
   "execution_count": 157,
   "id": "8db5d121",
   "metadata": {},
   "outputs": [
    {
     "name": "stderr",
     "output_type": "stream",
     "text": [
      "/Users/cristina/opt/anaconda3/envs/DA_Env/lib/python3.9/site-packages/seaborn/distributions.py:2551: FutureWarning: `distplot` is a deprecated function and will be removed in a future version. Please adapt your code to use either `displot` (a figure-level function with similar flexibility) or `histplot` (an axes-level function for histograms).\n",
      "  warnings.warn(msg, FutureWarning)\n"
     ]
    },
    {
     "data": {
      "text/plain": [
       "<AxesSubplot:xlabel='Months Since Policy Inception', ylabel='Density'>"
      ]
     },
     "execution_count": 157,
     "metadata": {},
     "output_type": "execute_result"
    },
    {
     "data": {
      "image/png": "[encoded data removed]",
      "text/plain": [
       "<Figure size 432x288 with 1 Axes>"
      ]
     },
     "metadata": {
      "needs_background": "light"
     },
     "output_type": "display_data"
    }
   ],
   "source": [
    "sns.distplot((vehicles_df[\"Months Since Policy Inception\"]), bins=20)"
   ]
  },
  {
   "cell_type": "code",
   "execution_count": 161,
   "id": "a7b876b8",
   "metadata": {},
   "outputs": [
    {
     "name": "stderr",
     "output_type": "stream",
     "text": [
      "/Users/cristina/opt/anaconda3/envs/DA_Env/lib/python3.9/site-packages/seaborn/distributions.py:2551: FutureWarning: `distplot` is a deprecated function and will be removed in a future version. Please adapt your code to use either `displot` (a figure-level function with similar flexibility) or `histplot` (an axes-level function for histograms).\n",
      "  warnings.warn(msg, FutureWarning)\n"
     ]
    },
    {
     "data": {
      "text/plain": [
       "<AxesSubplot:xlabel='Number of Open Complaints', ylabel='Density'>"
      ]
     },
     "execution_count": 161,
     "metadata": {},
     "output_type": "execute_result"
    },
    {
     "data": {
      "image/png": "[encoded data removed]",
      "text/plain": [
       "<Figure size 432x288 with 1 Axes>"
      ]
     },
     "metadata": {
      "needs_background": "light"
     },
     "output_type": "display_data"
    }
   ],
   "source": [
    "sns.distplot((vehicles_df[\"Number of Open Complaints\"]), bins=20)"
   ]
  },
  {
   "cell_type": "code",
   "execution_count": 162,
   "id": "3656a773",
   "metadata": {},
   "outputs": [
    {
     "name": "stderr",
     "output_type": "stream",
     "text": [
      "/Users/cristina/opt/anaconda3/envs/DA_Env/lib/python3.9/site-packages/seaborn/distributions.py:2551: FutureWarning: `distplot` is a deprecated function and will be removed in a future version. Please adapt your code to use either `displot` (a figure-level function with similar flexibility) or `histplot` (an axes-level function for histograms).\n",
      "  warnings.warn(msg, FutureWarning)\n"
     ]
    },
    {
     "data": {
      "text/plain": [
       "<AxesSubplot:xlabel='Number of Policies', ylabel='Density'>"
      ]
     },
     "execution_count": 162,
     "metadata": {},
     "output_type": "execute_result"
    },
    {
     "data": {
      "image/png": "[encoded data removed]",
      "text/plain": [
       "<Figure size 432x288 with 1 Axes>"
      ]
     },
     "metadata": {
      "needs_background": "light"
     },
     "output_type": "display_data"
    }
   ],
   "source": [
    "sns.distplot((vehicles_df[\"Number of Policies\"]), bins=20)"
   ]
  },
  {
   "cell_type": "code",
   "execution_count": null,
   "id": "0677769a",
   "metadata": {},
   "outputs": [],
   "source": []
  },
  {
   "cell_type": "code",
   "execution_count": 119,
   "id": "ef52c0c0",
   "metadata": {
    "scrolled": true
   },
   "outputs": [
    {
     "ename": "ValueError",
     "evalue": "Found input variables with inconsistent numbers of samples: [21820, 10910]",
     "output_type": "error",
     "traceback": [
      "\u001b[0;31m---------------------------------------------------------------------------\u001b[0m",
      "\u001b[0;31mValueError\u001b[0m                                Traceback (most recent call last)",
      "\u001b[0;32m/var/folders/cj/gbt4rs1d4tx3brkqknks4y5r0000gn/T/ipykernel_30543/2601776365.py\u001b[0m in \u001b[0;36m<module>\u001b[0;34m\u001b[0m\n\u001b[0;32m----> 1\u001b[0;31m \u001b[0mX_train\u001b[0m\u001b[0;34m,\u001b[0m \u001b[0mX_test\u001b[0m\u001b[0;34m,\u001b[0m \u001b[0my_train\u001b[0m\u001b[0;34m,\u001b[0m \u001b[0my_test\u001b[0m\u001b[0;34m=\u001b[0m\u001b[0mtrain_test_split\u001b[0m\u001b[0;34m(\u001b[0m\u001b[0mX\u001b[0m\u001b[0;34m,\u001b[0m \u001b[0my\u001b[0m\u001b[0;34m,\u001b[0m \u001b[0mtest_size\u001b[0m\u001b[0;34m=\u001b[0m\u001b[0;36m.30\u001b[0m\u001b[0;34m,\u001b[0m\u001b[0mrandom_state\u001b[0m\u001b[0;34m=\u001b[0m\u001b[0;36m123\u001b[0m\u001b[0;34m)\u001b[0m\u001b[0;34m\u001b[0m\u001b[0;34m\u001b[0m\u001b[0m\n\u001b[0m",
      "\u001b[0;32m~/opt/anaconda3/envs/DA_Env/lib/python3.9/site-packages/sklearn/model_selection/_split.py\u001b[0m in \u001b[0;36mtrain_test_split\u001b[0;34m(test_size, train_size, random_state, shuffle, stratify, *arrays)\u001b[0m\n\u001b[1;32m   2417\u001b[0m         \u001b[0;32mraise\u001b[0m \u001b[0mValueError\u001b[0m\u001b[0;34m(\u001b[0m\u001b[0;34m\"At least one array required as input\"\u001b[0m\u001b[0;34m)\u001b[0m\u001b[0;34m\u001b[0m\u001b[0;34m\u001b[0m\u001b[0m\n\u001b[1;32m   2418\u001b[0m \u001b[0;34m\u001b[0m\u001b[0m\n\u001b[0;32m-> 2419\u001b[0;31m     \u001b[0marrays\u001b[0m \u001b[0;34m=\u001b[0m \u001b[0mindexable\u001b[0m\u001b[0;34m(\u001b[0m\u001b[0;34m*\u001b[0m\u001b[0marrays\u001b[0m\u001b[0;34m)\u001b[0m\u001b[0;34m\u001b[0m\u001b[0;34m\u001b[0m\u001b[0m\n\u001b[0m\u001b[1;32m   2420\u001b[0m \u001b[0;34m\u001b[0m\u001b[0m\n\u001b[1;32m   2421\u001b[0m     \u001b[0mn_samples\u001b[0m \u001b[0;34m=\u001b[0m \u001b[0m_num_samples\u001b[0m\u001b[0;34m(\u001b[0m\u001b[0marrays\u001b[0m\u001b[0;34m[\u001b[0m\u001b[0;36m0\u001b[0m\u001b[0;34m]\u001b[0m\u001b[0;34m)\u001b[0m\u001b[0;34m\u001b[0m\u001b[0;34m\u001b[0m\u001b[0m\n",
      "\u001b[0;32m~/opt/anaconda3/envs/DA_Env/lib/python3.9/site-packages/sklearn/utils/validation.py\u001b[0m in \u001b[0;36mindexable\u001b[0;34m(*iterables)\u001b[0m\n\u001b[1;32m    368\u001b[0m     \"\"\"\n\u001b[1;32m    369\u001b[0m     \u001b[0mresult\u001b[0m \u001b[0;34m=\u001b[0m \u001b[0;34m[\u001b[0m\u001b[0m_make_indexable\u001b[0m\u001b[0;34m(\u001b[0m\u001b[0mX\u001b[0m\u001b[0;34m)\u001b[0m \u001b[0;32mfor\u001b[0m \u001b[0mX\u001b[0m \u001b[0;32min\u001b[0m \u001b[0miterables\u001b[0m\u001b[0;34m]\u001b[0m\u001b[0;34m\u001b[0m\u001b[0;34m\u001b[0m\u001b[0m\n\u001b[0;32m--> 370\u001b[0;31m     \u001b[0mcheck_consistent_length\u001b[0m\u001b[0;34m(\u001b[0m\u001b[0;34m*\u001b[0m\u001b[0mresult\u001b[0m\u001b[0;34m)\u001b[0m\u001b[0;34m\u001b[0m\u001b[0;34m\u001b[0m\u001b[0m\n\u001b[0m\u001b[1;32m    371\u001b[0m     \u001b[0;32mreturn\u001b[0m \u001b[0mresult\u001b[0m\u001b[0;34m\u001b[0m\u001b[0;34m\u001b[0m\u001b[0m\n\u001b[1;32m    372\u001b[0m \u001b[0;34m\u001b[0m\u001b[0m\n",
      "\u001b[0;32m~/opt/anaconda3/envs/DA_Env/lib/python3.9/site-packages/sklearn/utils/validation.py\u001b[0m in \u001b[0;36mcheck_consistent_length\u001b[0;34m(*arrays)\u001b[0m\n\u001b[1;32m    329\u001b[0m     \u001b[0muniques\u001b[0m \u001b[0;34m=\u001b[0m \u001b[0mnp\u001b[0m\u001b[0;34m.\u001b[0m\u001b[0munique\u001b[0m\u001b[0;34m(\u001b[0m\u001b[0mlengths\u001b[0m\u001b[0;34m)\u001b[0m\u001b[0;34m\u001b[0m\u001b[0;34m\u001b[0m\u001b[0m\n\u001b[1;32m    330\u001b[0m     \u001b[0;32mif\u001b[0m \u001b[0mlen\u001b[0m\u001b[0;34m(\u001b[0m\u001b[0muniques\u001b[0m\u001b[0;34m)\u001b[0m \u001b[0;34m>\u001b[0m \u001b[0;36m1\u001b[0m\u001b[0;34m:\u001b[0m\u001b[0;34m\u001b[0m\u001b[0;34m\u001b[0m\u001b[0m\n\u001b[0;32m--> 331\u001b[0;31m         raise ValueError(\n\u001b[0m\u001b[1;32m    332\u001b[0m             \u001b[0;34m\"Found input variables with inconsistent numbers of samples: %r\"\u001b[0m\u001b[0;34m\u001b[0m\u001b[0;34m\u001b[0m\u001b[0m\n\u001b[1;32m    333\u001b[0m             \u001b[0;34m%\u001b[0m \u001b[0;34m[\u001b[0m\u001b[0mint\u001b[0m\u001b[0;34m(\u001b[0m\u001b[0ml\u001b[0m\u001b[0;34m)\u001b[0m \u001b[0;32mfor\u001b[0m \u001b[0ml\u001b[0m \u001b[0;32min\u001b[0m \u001b[0mlengths\u001b[0m\u001b[0;34m]\u001b[0m\u001b[0;34m\u001b[0m\u001b[0;34m\u001b[0m\u001b[0m\n",
      "\u001b[0;31mValueError\u001b[0m: Found input variables with inconsistent numbers of samples: [21820, 10910]"
     ]
    }
   ],
   "source": [
    "X_train, X_test, y_train, y_test=train_test_split(X, y, test_size=.30,random_state=123)"
   ]
  },
  {
   "cell_type": "code",
   "execution_count": null,
   "id": "b3b4d5f9",
   "metadata": {},
   "outputs": [],
   "source": []
  }
 ],
 "metadata": {
  "kernelspec": {
   "display_name": "Python 3 (ipykernel)",
   "language": "python",
   "name": "python3"
  },
  "language_info": {
   "codemirror_mode": {
    "name": "ipython",
    "version": 3
   },
   "file_extension": ".py",
   "mimetype": "text/x-python",
   "name": "python",
   "nbconvert_exporter": "python",
   "pygments_lexer": "ipython3",
   "version": "3.9.7"
  }
 },
 "nbformat": 4,
 "nbformat_minor": 5
}
