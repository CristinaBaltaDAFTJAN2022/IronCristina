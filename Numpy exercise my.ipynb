{
 "cells": [
  {
   "cell_type": "markdown",
   "id": "0713867c",
   "metadata": {},
   "source": [
    "# Numpy exercises"
   ]
  },
  {
   "cell_type": "markdown",
   "id": "df0588fa",
   "metadata": {},
   "source": [
    "This is a collection of exercises that have been collected in the numpy mailing list, on stack overflow\n",
    "and in the numpy documentation. The goal of this collection is to offer a quick reference for both old\n",
    "and new users but also to provide a set of exercises for those who teach.\n"
   ]
  },
  {
   "cell_type": "markdown",
   "id": "ec76e026",
   "metadata": {},
   "source": [
    "If you find an error or think you've a better way to solve some of them, feel\n",
    "free to open an issue at <https://github.com/rougier/numpy-100>.\n",
    "File automatically generated. See the documentation to update questions/answers/hints programmatically.\n"
   ]
  },
  {
   "cell_type": "code",
   "execution_count": 5,
   "id": "4d3900ff",
   "metadata": {},
   "outputs": [],
   "source": [
    "#### 1. Import the numpy package under the name `np` (★☆☆)\n",
    "#### hint: import … as\n",
    "import numpy as np"
   ]
  },
  {
   "cell_type": "code",
   "execution_count": 7,
   "id": "07a67b9e",
   "metadata": {},
   "outputs": [
    {
     "data": {
      "text/plain": [
       "array([0., 0., 0., 0., 0., 0., 0., 0., 0., 0.])"
      ]
     },
     "execution_count": 7,
     "metadata": {},
     "output_type": "execute_result"
    }
   ],
   "source": [
    "#### 2. Create a null vector of size 10 (★☆☆)\n",
    "#### `hint: np.zeros`\n",
    "a = np.zeros(10)\n",
    "a"
   ]
  },
  {
   "cell_type": "code",
   "execution_count": 20,
   "id": "b8332f16",
   "metadata": {},
   "outputs": [
    {
     "data": {
      "text/plain": [
       "array([0., 0., 0., 0., 1., 0., 0., 0., 0., 0.])"
      ]
     },
     "execution_count": 20,
     "metadata": {},
     "output_type": "execute_result"
    }
   ],
   "source": [
    "#### 3. Create a null vector of size 10 but the fifth value which is 1 (★☆☆)\n",
    "#### `hint: array[4]`\n",
    "a = np.zeros(10)\n",
    "a\n",
    "\n",
    "a[4]=1\n",
    "a"
   ]
  },
  {
   "cell_type": "code",
   "execution_count": 24,
   "id": "79ef97fa",
   "metadata": {},
   "outputs": [
    {
     "data": {
      "text/plain": [
       "array([10, 11, 12, 13, 14, 15, 16, 17, 18, 19, 20, 21, 22, 23, 24, 25, 26,\n",
       "       27, 28, 29, 30, 31, 32, 33, 34, 35, 36, 37, 38, 39, 40, 41, 42, 43,\n",
       "       44, 45, 46, 47, 48, 49])"
      ]
     },
     "execution_count": 24,
     "metadata": {},
     "output_type": "execute_result"
    }
   ],
   "source": [
    "#### 4. Create a vector with values ranging from 10 to 49 (★☆☆)\n",
    "####`hint: arange`\n",
    "\n",
    "a = np.arange(10, 50)\n",
    "a"
   ]
  },
  {
   "cell_type": "code",
   "execution_count": 34,
   "id": "d238eb88",
   "metadata": {},
   "outputs": [
    {
     "data": {
      "text/plain": [
       "array([[8, 6, 4],\n",
       "       [3, 0, 4],\n",
       "       [6, 8, 1]])"
      ]
     },
     "execution_count": 34,
     "metadata": {},
     "output_type": "execute_result"
    }
   ],
   "source": [
    "#### 5. Create a 3x3 matrix with values ranging from 0 to 8 (★☆☆)\n",
    "####`hint: reshape`\n",
    "\n",
    "np.random.randint(0, 9, (3, 3))"
   ]
  },
  {
   "cell_type": "code",
   "execution_count": 38,
   "id": "cbc2bb78",
   "metadata": {},
   "outputs": [
    {
     "data": {
      "text/plain": [
       "(array([0, 1, 4]),)"
      ]
     },
     "execution_count": 38,
     "metadata": {},
     "output_type": "execute_result"
    }
   ],
   "source": [
    "#### 6. Find indices of non-zero elements from [1,2,0,0,4,0] (★☆☆)\n",
    "#### `hint: np.nonzero`\n",
    "\n",
    "a = [1, 2, 0, 0, 4, 0]\n",
    "np.nonzero(a)"
   ]
  },
  {
   "cell_type": "code",
   "execution_count": 39,
   "id": "b9a73f14",
   "metadata": {},
   "outputs": [
    {
     "data": {
      "text/plain": [
       "array([[1., 0., 0.],\n",
       "       [0., 1., 0.],\n",
       "       [0., 0., 1.]])"
      ]
     },
     "execution_count": 39,
     "metadata": {},
     "output_type": "execute_result"
    }
   ],
   "source": [
    "#### 7. Create a 3x3 identity matrix (★☆☆)\n",
    "#### `hint: np.eye`\n",
    "\n",
    "np.eye(3, 3)"
   ]
  },
  {
   "cell_type": "code",
   "execution_count": 35,
   "id": "78493396",
   "metadata": {},
   "outputs": [
    {
     "data": {
      "text/plain": [
       "array([[[0.72175532, 0.29187607, 0.91777412],\n",
       "        [0.71457578, 0.54254437, 0.14217005],\n",
       "        [0.37334076, 0.67413362, 0.44183317]],\n",
       "\n",
       "       [[0.43401399, 0.61776698, 0.51313824],\n",
       "        [0.65039718, 0.60103895, 0.8052232 ],\n",
       "        [0.52164715, 0.90864888, 0.31923609]],\n",
       "\n",
       "       [[0.09045935, 0.30070006, 0.11398436],\n",
       "        [0.82868133, 0.04689632, 0.62628715],\n",
       "        [0.54758616, 0.819287  , 0.19894754]]])"
      ]
     },
     "execution_count": 35,
     "metadata": {},
     "output_type": "execute_result"
    }
   ],
   "source": [
    "#### 8. Create a 3x3x3 array with random values (★☆☆)\n",
    "#### `hint: np.random.random`\n",
    "\n",
    "a = np.random.random((3,3,3))\n",
    "a"
   ]
  },
  {
   "cell_type": "code",
   "execution_count": 67,
   "id": "bf3103e7",
   "metadata": {},
   "outputs": [
    {
     "data": {
      "text/plain": [
       "array([[0.83471509, 0.36698733, 0.51538211, 0.47237913, 0.38615209,\n",
       "        0.744137  , 0.33524208, 0.59543829, 0.31613338, 0.34625042],\n",
       "       [0.24483181, 0.69795016, 0.21208083, 0.26729317, 0.37389408,\n",
       "        0.57308851, 0.91735808, 0.81897594, 0.16318089, 0.02415477],\n",
       "       [0.78465363, 0.26485738, 0.33936706, 0.81436959, 0.80745472,\n",
       "        0.49356164, 0.84531244, 0.36518998, 0.0478309 , 0.26414579],\n",
       "       [0.46386716, 0.69335506, 0.31343675, 0.46253679, 0.81968765,\n",
       "        0.68449103, 0.32403382, 0.576812  , 0.63264998, 0.59646167],\n",
       "       [0.13782688, 0.61800102, 0.49346369, 0.14361212, 0.03082189,\n",
       "        0.93915573, 0.25683772, 0.0571346 , 0.38770822, 0.35709675],\n",
       "       [0.98638414, 0.93959064, 0.58277522, 0.99310313, 0.9899145 ,\n",
       "        0.86505637, 0.16171823, 0.36849024, 0.30672666, 0.34086324],\n",
       "       [0.29047775, 0.63786407, 0.050654  , 0.93518431, 0.02584484,\n",
       "        0.53163905, 0.07160379, 0.69149444, 0.11708751, 0.19351251],\n",
       "       [0.9123815 , 0.31071241, 0.3156425 , 0.80703011, 0.40996057,\n",
       "        0.51194336, 0.1516063 , 0.13435027, 0.01545605, 0.37901324],\n",
       "       [0.0966495 , 0.4421866 , 0.21666831, 0.82690236, 0.67978573,\n",
       "        0.26942989, 0.95691278, 0.98339226, 0.29677764, 0.61948645],\n",
       "       [0.17089122, 0.10164158, 0.90304631, 0.04905917, 0.14577255,\n",
       "        0.39927448, 0.59128153, 0.67734802, 0.98865854, 0.34675085]])"
      ]
     },
     "execution_count": 67,
     "metadata": {},
     "output_type": "execute_result"
    }
   ],
   "source": [
    "#### 9. Create a 10x10 array with random values and find the minimum and maximum values (★☆☆)\n",
    "#### `hint: min, max`\n",
    "\n",
    "a = np.random.random((10,10))\n",
    "a"
   ]
  },
  {
   "cell_type": "code",
   "execution_count": 68,
   "id": "b7c205a9",
   "metadata": {},
   "outputs": [
    {
     "data": {
      "text/plain": [
       "0.015456051150818495"
      ]
     },
     "execution_count": 68,
     "metadata": {},
     "output_type": "execute_result"
    }
   ],
   "source": [
    "a.min()"
   ]
  },
  {
   "cell_type": "code",
   "execution_count": 69,
   "id": "46a397ed",
   "metadata": {},
   "outputs": [
    {
     "data": {
      "text/plain": [
       "0.9931031337764241"
      ]
     },
     "execution_count": 69,
     "metadata": {},
     "output_type": "execute_result"
    }
   ],
   "source": [
    "a.max()"
   ]
  },
  {
   "cell_type": "code",
   "execution_count": 58,
   "id": "b8eeb0c4",
   "metadata": {},
   "outputs": [
    {
     "name": "stdout",
     "output_type": "stream",
     "text": [
      "[0.64414354 0.38074849 0.66304791 0.16365073 0.96260781 0.34666184\n",
      " 0.99175099 0.2350579  0.58569427 0.4066901  0.13623432 0.54413629\n",
      " 0.51817635 0.76685511 0.93385014 0.08970338 0.19577126 0.99419368\n",
      " 0.2351805  0.23898637 0.62909983 0.73495258 0.68834438 0.03113075\n",
      " 0.90251384 0.28643533 0.55561256 0.37642024 0.02662436 0.49414912]\n"
     ]
    }
   ],
   "source": [
    "#### 10. Create a random vector of size 30 and find the mean value (★☆☆)\n",
    "#### `hint: mean`\n",
    "\n",
    "a = np.random.random(30)\n",
    "print(a)"
   ]
  },
  {
   "cell_type": "code",
   "execution_count": 59,
   "id": "da0a5d78",
   "metadata": {},
   "outputs": [
    {
     "data": {
      "text/plain": [
       "0.4919474657842404"
      ]
     },
     "execution_count": 59,
     "metadata": {},
     "output_type": "execute_result"
    }
   ],
   "source": [
    "a.mean()"
   ]
  },
  {
   "cell_type": "code",
   "execution_count": 103,
   "id": "0fd6c29e",
   "metadata": {},
   "outputs": [
    {
     "name": "stdout",
     "output_type": "stream",
     "text": [
      "[[0 0 0 0 0]\n",
      " [1 0 0 0 0]\n",
      " [0 2 0 0 0]\n",
      " [0 0 3 0 0]\n",
      " [0 0 0 4 0]]\n"
     ]
    }
   ],
   "source": [
    "#### 11. Create a 5x5 matrix with values 1,2,3,4 just below the diagonal (★☆☆)\n",
    "#### `hint: np.diag`\n",
    "\n",
    "a = np.diag(1+np.arange(4),k=-1)\n",
    "print(a)\n",
    "####np.diagonal(a).copy() "
   ]
  },
  {
   "cell_type": "code",
   "execution_count": 104,
   "id": "756d2017",
   "metadata": {},
   "outputs": [
    {
     "name": "stdout",
     "output_type": "stream",
     "text": [
      "[[-0.58773932 -0.58779388 -0.7429984  -1.50826384 -0.7730286 ]\n",
      " [-0.71261195  1.36150329  0.78071707 -0.95946004  1.58466107]\n",
      " [-1.74076265 -0.827669    0.57512727 -0.27121085  0.34784011]\n",
      " [-1.18516618  0.67771133  1.51976691 -1.14930823  0.49063663]\n",
      " [-0.19937683  1.34770302  1.05250917  1.20433809  0.30287578]]\n"
     ]
    }
   ],
   "source": [
    "#### 12. Normalize a 5x5 random matrix (★☆☆)\n",
    "#### `hint: (x -mean)/std`\n",
    "\n",
    "a = np.random.random((5,5))\n",
    "a = (a - np.mean (a)) / (np.std (a))\n",
    "print(a)"
   ]
  },
  {
   "cell_type": "code",
   "execution_count": 113,
   "id": "f1316513",
   "metadata": {},
   "outputs": [
    {
     "name": "stdout",
     "output_type": "stream",
     "text": [
      "[ 4  3  0  7 10  4  2 13  8 11]\n",
      "[ 6  3  4  9 10 14  8 10  2  1 15 15  6  6 11 11  4]\n",
      "[ 2  3  4  8 10 11]\n"
     ]
    }
   ],
   "source": [
    "#### 13. How to find common values between two arrays? (★☆☆)\n",
    "#### `hint: np.intersect1d`\n",
    "\n",
    "a = np.random.randint(0,15,10)\n",
    "b = np.random.randint(0,16,17)\n",
    "print(a)\n",
    "print(b)\n",
    "print(np.intersect1d(a,b))"
   ]
  },
  {
   "cell_type": "code",
   "execution_count": 114,
   "id": "f9cea2ea",
   "metadata": {},
   "outputs": [
    {
     "name": "stdout",
     "output_type": "stream",
     "text": [
      "[0.33522007 0.68349518 0.40582838 0.57773443 0.91131418 0.12562148\n",
      " 0.87867396 0.61240462 0.37508527 0.25476774]\n",
      "[0.12562148 0.25476774 0.33522007 0.37508527 0.40582838 0.57773443\n",
      " 0.61240462 0.68349518 0.87867396 0.91131418]\n"
     ]
    }
   ],
   "source": [
    "### 14. Create a random vector of size 10 and sort it (★★☆)\n",
    "#### `hint: sort`\n",
    "\n",
    "a= np.random.random(10)\n",
    "print(a)\n",
    "\n",
    "a.sort()\n",
    "print(a)"
   ]
  },
  {
   "cell_type": "code",
   "execution_count": 115,
   "id": "b5f6de91",
   "metadata": {},
   "outputs": [
    {
     "name": "stdout",
     "output_type": "stream",
     "text": [
      "[0.5972063  0.53084104 0.64835134 0.65834472 0.70896881 0.05331874\n",
      " 0.34169806 0.89187021 0.995295   0.99329348]\n",
      "[0.5972063  0.53084104 0.64835134 0.65834472 0.70896881 0.05331874\n",
      " 0.34169806 0.89187021 0.         0.99329348]\n"
     ]
    }
   ],
   "source": [
    "#### 15. Create random vector of size 10 and replace the maximum value by 0 (★★☆)\n",
    "#### `hint: argmax`\n",
    "\n",
    "a = np.random.random(10)\n",
    "print(a)\n",
    "a[a.argmax()] = 0\n",
    "print(a)"
   ]
  },
  {
   "cell_type": "code",
   "execution_count": 116,
   "id": "fe884e35",
   "metadata": {},
   "outputs": [
    {
     "name": "stdout",
     "output_type": "stream",
     "text": [
      "[[0.39669248 0.06980398 0.37826257 0.81505315 0.8050386  0.1027827\n",
      "  0.86972896 0.55063662 0.16622097 0.36603653]\n",
      " [0.60653312 0.26016318 0.19145641 0.69752299 0.54467498 0.9029689\n",
      "  0.84620273 0.96684628 0.15107294 0.57521624]\n",
      " [0.94238783 0.14996386 0.06535428 0.16276314 0.25870904 0.88367752\n",
      "  0.95247782 0.57409507 0.8675513  0.39484458]\n",
      " [0.61669622 0.78287996 0.15812862 0.69665603 0.42507369 0.81567578\n",
      "  0.35797706 0.25891973 0.54812287 0.18888446]\n",
      " [0.39815483 0.62460583 0.51551477 0.83965739 0.41398623 0.68586388\n",
      "  0.90650652 0.4942967  0.78559078 0.29720543]]\n",
      "[[-0.05533317 -0.38222167 -0.07376309  0.36302749  0.35301294 -0.34924295\n",
      "   0.41770331  0.09861097 -0.28580469 -0.08598913]\n",
      " [ 0.03226734 -0.3141026  -0.38280936  0.12325721 -0.02959079  0.32870312\n",
      "   0.27193695  0.3925805  -0.42319284  0.00095046]\n",
      " [ 0.41720539 -0.37521859 -0.45982816 -0.3624193  -0.26647341  0.35849508\n",
      "   0.42729538  0.04891263  0.34236885 -0.13033786]\n",
      " [ 0.13179477  0.29797852 -0.32677282  0.21175459 -0.05982775  0.33077434\n",
      "  -0.12692438 -0.22598171  0.06322143 -0.29601698]\n",
      " [-0.1979834   0.0284676  -0.08062347  0.24351915 -0.18215201  0.08972564\n",
      "   0.31036828 -0.10184154  0.18945254 -0.29893281]]\n"
     ]
    }
   ],
   "source": [
    "#### 16. Subtract the mean of each row of a matrix (★★☆)\n",
    "#### `hint: mean(axis=,keepdims=)`\n",
    "\n",
    "a = np.random.rand(5, 10)\n",
    "print(a)\n",
    "b = a - a.mean(axis=1, keepdims=True)\n",
    "print(b)"
   ]
  },
  {
   "cell_type": "code",
   "execution_count": 117,
   "id": "663887cc",
   "metadata": {},
   "outputs": [
    {
     "name": "stdout",
     "output_type": "stream",
     "text": [
      "[   0    1    2 ... 9997 9998 9999]\n",
      "[9995 9996 9997 9998 9999]\n",
      "[9997 9996 9998 9999 9995]\n"
     ]
    }
   ],
   "source": [
    "#### 17. How to get the n largest values of an array (★★★)\n",
    "#### hint: np.argsort | np.argpartition`\n",
    "\n",
    "Z = np.arange(10000)\n",
    "print(Z)\n",
    "\n",
    "np.random.shuffle(Z)\n",
    "n = 5\n",
    "\n",
    "# Slow\n",
    "print (Z[np.argsort(Z)[-n:]])\n",
    "\n",
    "# Fast\n",
    "print (Z[np.argpartition(-Z,n)[:n]])"
   ]
  },
  {
   "cell_type": "code",
   "execution_count": null,
   "id": "0a7e7c7e",
   "metadata": {},
   "outputs": [],
   "source": []
  },
  {
   "cell_type": "code",
   "execution_count": 120,
   "id": "64098cb7",
   "metadata": {},
   "outputs": [
    {
     "name": "stdout",
     "output_type": "stream",
     "text": [
      "[[0.515199   0.82615201 0.379956  ]\n",
      " [0.0302302  0.53080606 0.20299532]\n",
      " [0.89228758 0.79054695 0.13223287]\n",
      " [0.0094548  0.30786644 0.42368822]\n",
      " [0.91177289 0.58645325 0.83965614]]\n"
     ]
    }
   ],
   "source": [
    "#### 18. Create a random 5*3 matrix and replace items that are larger than 4 by their squares ( Example:  6 --> 36) \n",
    "####`hint: np.where`\n",
    "\n",
    "a = np.random.random((5,3))\n",
    "print(a)\n",
    "####a = np.arange(9).reshape(5, 3)\n",
    "####print(a)"
   ]
  },
  {
   "cell_type": "code",
   "execution_count": null,
   "id": "ae988730",
   "metadata": {},
   "outputs": [],
   "source": []
  }
 ],
 "metadata": {
  "kernelspec": {
   "display_name": "Python 3 (ipykernel)",
   "language": "python",
   "name": "python3"
  },
  "language_info": {
   "codemirror_mode": {
    "name": "ipython",
    "version": 3
   },
   "file_extension": ".py",
   "mimetype": "text/x-python",
   "name": "python",
   "nbconvert_exporter": "python",
   "pygments_lexer": "ipython3",
   "version": "3.9.7"
  }
 },
 "nbformat": 4,
 "nbformat_minor": 5
}
