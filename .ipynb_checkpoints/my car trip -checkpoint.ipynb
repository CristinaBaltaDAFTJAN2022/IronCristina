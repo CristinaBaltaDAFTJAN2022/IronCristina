{
 "cells": [
  {
   "cell_type": "markdown",
   "id": "48dbac4f",
   "metadata": {},
   "source": [
    "# $\\color{blue}{\\text{My car trip on Transfagarasanul}}$"
   ]
  },
  {
   "cell_type": "markdown",
   "id": "b6cb7861",
   "metadata": {},
   "source": [
    " $\\color{red}{\\text{This is a beautiful place to see the montains in Romania}}$"
   ]
  },
  {
   "cell_type": "code",
   "execution_count": 30,
   "id": "2ada52d4",
   "metadata": {},
   "outputs": [],
   "source": [
    "def name():\n",
    "    x= input(\"Enter the person that is in the title, \")\n",
    "    print(x)"
   ]
  },
  {
   "cell_type": "code",
   "execution_count": 31,
   "id": "d88f305f",
   "metadata": {},
   "outputs": [
    {
     "data": {
      "text/plain": [
       "<function __main__.x()>"
      ]
     },
     "execution_count": 31,
     "metadata": {},
     "output_type": "execute_result"
    }
   ],
   "source": [
    "x"
   ]
  },
  {
   "cell_type": "markdown",
   "id": "8e1ca872",
   "metadata": {},
   "source": [
    "![alt text](https://assets.puzzlefactory.pl/puzzle/317/213/original.jpg)"
   ]
  },
  {
   "cell_type": "code",
   "execution_count": 32,
   "id": "6098bb43",
   "metadata": {},
   "outputs": [],
   "source": [
    "def destination ():\n",
    "    y = input(\"Where would you like to go on vacation: \")\n",
    "    z = input(\"What do you want to visit?: \")\n",
    "    a = input(\"What do you want to see more?: \")\n",
    "    b = input(\"What do yoz want to eat? \")\n",
    "    print(\"You would like go on vacation\", y, \"and visit\", z, \"and see\", a, \"and eat\", b)"
   ]
  },
  {
   "cell_type": "markdown",
   "id": "5b491748",
   "metadata": {},
   "source": [
    "![alt text](https://upload.wikimedia.org/wikipedia/commons/thumb/9/98/RO_B_Transfagarasan_view_towards_the_north_from_Balea_Lake_2.jpg/2560px-RO_B_Transfagarasan_view_towards_the_north_from_Balea_Lake_2.jpg) "
   ]
  },
  {
   "cell_type": "markdown",
   "id": "35c1e1af",
   "metadata": {},
   "source": [
    "(https://upload.wikimedia.org/wikipedia/commons/thumb/9/98/RO_B_Transfagarasan_view_towards_the_north_from_Balea_Lake_2.jpg/2560px-RO_B_Transfagarasan_view_towards_the_north_from_Balea_Lake_2.jpg)"
   ]
  },
  {
   "cell_type": "markdown",
   "id": "300c6bb4",
   "metadata": {},
   "source": [
    "(https://youtu.be/XJbA_UbulVI)"
   ]
  },
  {
   "cell_type": "markdown",
   "id": "ac0ee377",
   "metadata": {},
   "source": [
    "$\\color{blue}{\\text{Transfagarasanul}}$"
   ]
  },
  {
   "cell_type": "markdown",
   "id": "8623be0f",
   "metadata": {},
   "source": []
  }
 ],
 "metadata": {
  "celltoolbar": "Raw Cell Format",
  "kernelspec": {
   "display_name": "Python 3 (ipykernel)",
   "language": "python",
   "name": "python3"
  },
  "language_info": {
   "codemirror_mode": {
    "name": "ipython",
    "version": 3
   },
   "file_extension": ".py",
   "mimetype": "text/x-python",
   "name": "python",
   "nbconvert_exporter": "python",
   "pygments_lexer": "ipython3",
   "version": "3.9.7"
  }
 },
 "nbformat": 4,
 "nbformat_minor": 5
}
